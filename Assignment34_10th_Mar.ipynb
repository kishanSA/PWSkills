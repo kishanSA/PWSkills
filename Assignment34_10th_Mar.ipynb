{
 "cells": [
  {
   "cell_type": "markdown",
   "id": "relative-episode",
   "metadata": {},
   "source": [
    "## <u> Assignment 34 - 10th Mar </u>"
   ]
  },
  {
   "cell_type": "markdown",
   "id": "identified-vaccine",
   "metadata": {},
   "source": [
    "#### Q1: What is Estimation Statistics? Explain point estimate and interval estimate."
   ]
  },
  {
   "cell_type": "markdown",
   "id": "medium-sellers",
   "metadata": {},
   "source": [
    "**Estimation statistics** is a branch of statistics that deals with the process of estimating an unknown population parameter based on sample data. In other words, estimation statistics allows us to make inferences about a population based on a sample of data.\n",
    "\n",
    "Two types of estimation statistics:\n",
    "- **Point estimate** referes to a single value that is used to estimate an unknown population parameter. ie.: Let's say we want to estimate the mean height of all adults from particular region, we can take sample of adults and use the sample mean as point estimate.\n",
    "\n",
    "- **Interval estimate** provides a range of values within which the unknown population parameters is likely to lie.\n",
    "\n",
    "\n"
   ]
  },
  {
   "cell_type": "markdown",
   "id": "european-soviet",
   "metadata": {},
   "source": [
    "#### Q2. Write a Python function to estimate the population mean using a sample mean and standard deviation."
   ]
  },
  {
   "cell_type": "code",
   "execution_count": 1,
   "id": "intense-pakistan",
   "metadata": {},
   "outputs": [],
   "source": [
    "def est_pop_mean(m, sd, size_):\n",
    "    import math\n",
    "    err_mean = sd / math.sqrt(size_)\n",
    "    t_value = 1.96 # this is for 95% confidence level\n",
    "    err_margin = t_value * err_mean\n",
    "    \n",
    "    l_bound = m - err_margin\n",
    "    u_bound = m + err_margin\n",
    "    \n",
    "    return (l_bound + u_bound) / 2"
   ]
  },
  {
   "cell_type": "code",
   "execution_count": 2,
   "id": "induced-tokyo",
   "metadata": {},
   "outputs": [
    {
     "name": "stdout",
     "output_type": "stream",
     "text": [
      "Estimated Population Mean: 8.50\n"
     ]
    }
   ],
   "source": [
    "mean_ = 8.5\n",
    "std_ = 1.2\n",
    "size_ = 35\n",
    "\n",
    "pop_mean = est_pop_mean(mean_, std_, size_)\n",
    "\n",
    "print(f\"Estimated Population Mean: {pop_mean:.2f}\")"
   ]
  },
  {
   "cell_type": "markdown",
   "id": "fitting-chosen",
   "metadata": {},
   "source": [
    "#### Q3: What is Hypothesis testing? Why is it used? State the importance of Hypothesis testing."
   ]
  },
  {
   "cell_type": "markdown",
   "id": "excited-ireland",
   "metadata": {},
   "source": [
    "**Hypothesis testing** is a statistical means of testing an assumption stated in a hypothesis. While the specific methodology leveraged depends on the nature of the hypothesis and data available, hypothesis testing typically uses sample data to extrapolate insights about a larger population. Hypothesis testing is a systematic procedure for deciding whether the results of a research study support a particular theory which applies to a population. Hypothesis testing uses sample data to evaluate a hypothesis about a population\n",
    "\n",
    "**Hypothesis testing is used** to assess the plausibility of a hypothesis by using sample data. Such data may come from a larger population, or from a data-generating process. The word \"population\" will be used for both of these cases in the following descriptions.\n",
    "\n",
    "According to the San Jose State University Statistics Department, **hypothesis testing is one of the most important concepts in statistics** because it is how you decide if something really happened, or if certain treatments have positive effects, or if groups differ from each other or if one variable predicts another. In short, you want to proof if your data is statistically significant and unlikely to have occurred by chance alone. In essence then, a hypothesis test is a test of significance.\n"
   ]
  },
  {
   "cell_type": "markdown",
   "id": "amber-harvest",
   "metadata": {},
   "source": [
    "#### Q4. Create a hypothesis that states whether the average weight of male college students is greater than the average weight of female college students."
   ]
  },
  {
   "cell_type": "markdown",
   "id": "formal-password",
   "metadata": {},
   "source": [
    "**Null Hypothesis (H0):** The average weight of male college students is equal to or less than the average weight of female college students.\n",
    "\n",
    "**Alternative Hypothesis (Ha):** The average weight of male college students is greater than the average weight of female college students.\n",
    "\n",
    "Symbolically,\n",
    "\n",
    "**H0: μM ≤ μF**\n",
    "\n",
    "**Ha: μM > μF**\n",
    "\n",
    "Where **μM** represents the population mean weight of male college students, and **μF** represents the population mean weight of female college students.\n",
    "\n",
    "To perform this hypothesis, we need to collect sample data of both male and female college students, and use a statistical test to determine whether the sample evidence supports or rejects the null hypothesis in favor of the alternative hypothesis. We could use a t-test to compare the means of the two groups and determine whether the difference is statistically significant."
   ]
  },
  {
   "cell_type": "markdown",
   "id": "desperate-spectrum",
   "metadata": {},
   "source": [
    "#### Q5. Write a Python script to conduct a hypothesis test on the difference between two population means, given a sample from each population."
   ]
  },
  {
   "cell_type": "code",
   "execution_count": 40,
   "id": "olive-moscow",
   "metadata": {},
   "outputs": [
    {
     "name": "stdout",
     "output_type": "stream",
     "text": [
      "t-statistic: -16.6575236428234\n",
      "p-value: 1.6869939327717288e-39\n",
      "Reject NULL hypothesis.\n"
     ]
    }
   ],
   "source": [
    "import numpy as np\n",
    "from scipy.stats import ttest_ind\n",
    "\n",
    "# random samples\n",
    "s1 = np.random.normal(10, 2, size=100)\n",
    "s2 = np.random.normal(15, 2, size=100)\n",
    "\n",
    "# two sample test\n",
    "t_stat, p_val = ttest_ind(s1, s2, equal_var=False)\n",
    "\n",
    "print(f\"t-statistic: {t_stat}\")\n",
    "print(f\"p-value: {p_val}\")\n",
    "\n",
    "\n",
    "# check for null hypothesis\n",
    "if p_val < 0.05:\n",
    "    print(\"Reject NULL hypothesis.\")\n",
    "else:\n",
    "    print(\"Fail to reject NULL hypothesis.\")"
   ]
  },
  {
   "cell_type": "markdown",
   "id": "demonstrated-seeker",
   "metadata": {},
   "source": [
    "#### Q6: What is a null and alternative hypothesis? Give some examples."
   ]
  },
  {
   "cell_type": "markdown",
   "id": "communist-population",
   "metadata": {},
   "source": [
    "In hypothesis testing, the **null hypothesis (H0)** is a statement about a population parameter that is being tested, and the **alternative hypothesis (Ha)** is a statement that contradicts the null hypothesis.\n",
    "\n",
    "The null hypothesis is the default assumption that there is no significant difference between a population parameter and a given value or between two population parameters. The alternative hypothesis is the statement that contradicts the null hypothesis and suggests that there is a significant difference between a population parameter and a given value or between two population parameters.\n",
    "\n",
    "Some of the example related to null and alternative hypotheses are as below:\n",
    "\n",
    "- **Null hypothesis:** The average height of male students at a college is 70 inches.\n",
    "- **Alternative hypothesis:** The average height of male students at a college is not 70 inches.\n",
    "\n",
    "\n",
    "- **Null hypothesis:** The mean weight of a product is less than or equal to 500 grams.\n",
    "- **Alternative hypothesis:** The mean weight of a product is greater than 500 grams.\n",
    "\n",
    "\n",
    "- **Null hypothesis:** There is no relationship between the age of a person and their income.\n",
    "- **Alternative hypothesis:** There is a relationship between the age of a person and their income."
   ]
  },
  {
   "cell_type": "markdown",
   "id": "usual-shape",
   "metadata": {},
   "source": [
    "#### Q7: Write down the steps involved in hypothesis testing."
   ]
  },
  {
   "cell_type": "markdown",
   "id": "vietnamese-season",
   "metadata": {},
   "source": [
    "**Hypothesis testing** is a formal procedure for investigating our ideas about the world using statistics. It is most often used by scientists to test specific predictions, called hypotheses, that arise from theories.\n",
    "\n",
    "Threre are 5 main steps involved in hypothesis testing:\n",
    "\n",
    "**Step 1: State your null and alternate hypothesis**\n",
    "\n",
    "After developing your initial research hypothesis (the prediction that you want to investigate), it is important to restate it as a null (Ho) and alternate (Ha) hypothesis so that you can test it mathematically.\n",
    "\n",
    "The alternate hypothesis is usually your initial hypothesis that predicts a relationship between variables. The null hypothesis is a prediction of no relationship between the variables you are interested in.\n",
    "\n",
    "**Step 2: Collect data**\n",
    "\n",
    "For a statistical test to be valid, it is important to perform sampling and collect data in a way that is designed to test your hypothesis. If your data are not representative, then you cannot make statistical inferences about the population you are interested in.\n",
    "\n",
    "**Step 3: Perform a statistical test**\n",
    "\n",
    "There are a variety of statistical tests available, but they are all based on the comparison of within-group variance (how spread out the data is within a category) versus between-group variance (how different the categories are from one another).\n",
    "\n",
    "If the between-group variance is large enough that there is little or no overlap between groups, then your statistical test will reflect that by showing a low p-value. This means it is unlikely that the differences between these groups came about by chance.\n",
    "\n",
    "**Step 4: Decide whether to reject or fail to reject your null hypothesis**\n",
    "\n",
    "Based on the outcome of your statistical test, you will have to decide whether to reject or fail to reject your null hypothesis.\n",
    "\n",
    "In most cases you will use the p-value generated by your statistical test to guide your decision. And in most cases, your predetermined level of significance for rejecting the null hypothesis will be 0.05 – that is, when there is a less than 5% chance that you would see these results if the null hypothesis were true.\n",
    "\n",
    "**Step 5: Present your findings**\n",
    "\n",
    "The results of hypothesis testing will be presented in the results and discussion sections of your research paper, dissertation or thesis.\n",
    "\n",
    "In the results section you should give a brief summary of the data and a summary of the results of your statistical test (for example, the estimated difference between group means and associated p-value). In the discussion, you can discuss whether your initial hypothesis was supported by your results or not.\n"
   ]
  },
  {
   "cell_type": "markdown",
   "id": "tender-headset",
   "metadata": {},
   "source": [
    "#### Q8. Define p-value and explain its significance in hypothesis testing."
   ]
  },
  {
   "cell_type": "markdown",
   "id": "attractive-visit",
   "metadata": {},
   "source": [
    "In hypothesis testing, the **p-value** is the probability of obtaining a test statistic as extreme as or more extreme than the one observed, assuming that the null hypothesis is true. It is used to determine whether the observed data provides evidence against the null hypothesis.\n",
    "\n",
    "The **significance of the p-value** in hypothesis testing is that it tells us the strength of the evidence against the null hypothesis. If the p-value is small (typically less than 0.05 or 0.01), it indicates that the observed data is unlikely to have occurred by chance alone if the null hypothesis were true. In other words, a small p-value suggests that there is strong evidence against the null hypothesis and that it should be rejected in favor of the alternative hypothesis.\n"
   ]
  },
  {
   "cell_type": "markdown",
   "id": "rubber-possession",
   "metadata": {},
   "source": [
    "#### Q9. Generate a Student's t-distribution plot using Python's matplotlib library, with the degrees of freedom parameter set to 10."
   ]
  },
  {
   "cell_type": "code",
   "execution_count": 4,
   "id": "modified-logging",
   "metadata": {},
   "outputs": [],
   "source": [
    "import numpy as np\n",
    "from scipy.stats import t\n",
    "import matplotlib.pyplot as plt"
   ]
  },
  {
   "cell_type": "code",
   "execution_count": 7,
   "id": "million-cycling",
   "metadata": {},
   "outputs": [
    {
     "data": {
      "image/png": "[encoded data removed]",
      "text/plain": [
       "<Figure size 432x288 with 1 Axes>"
      ]
     },
     "metadata": {
      "needs_background": "light"
     },
     "output_type": "display_data"
    }
   ],
   "source": [
    "freedom =10\n",
    "\n",
    "x = np.linspace(-4, 4, 1000)\n",
    "y = t.pdf(x, freedom) \n",
    "\n",
    "plt.plot(x, y, label='t-distribution')\n",
    "plt.title(\"Student's t-distribution (degree of freedom = 10)\")\n",
    "plt.legend()\n",
    "plt.show()"
   ]
  },
  {
   "cell_type": "markdown",
   "id": "outside-backing",
   "metadata": {},
   "source": [
    "#### Q10. Write a Python program to calculate the two-sample t-test for independent samples, given two random samples of equal size and a null hypothesis that the population means are equal."
   ]
  },
  {
   "cell_type": "code",
   "execution_count": 12,
   "id": "rational-guess",
   "metadata": {},
   "outputs": [
    {
     "name": "stdout",
     "output_type": "stream",
     "text": [
      "Mean of Sample 1: 12.8571\n",
      "Mean of Sample 2: 12.5714\n",
      "t-statistic: 0.3244\n",
      "p-value:0.7512\n"
     ]
    }
   ],
   "source": [
    "import numpy as np\n",
    "from scipy.stats import ttest_ind\n",
    "\n",
    "sample1 = np.array([10,15,12,13,14,15,11])\n",
    "sample2 = np.array([14,11,13,12,14,11,13])\n",
    "\n",
    "t, p = ttest_ind(sample1, sample2)\n",
    "\n",
    "print(f\"Mean of Sample 1: {np.mean(sample1):.4f}\")\n",
    "print(f\"Mean of Sample 2: {np.mean(sample2):.4f}\")\n",
    "print(f\"t-statistic: {t:.4f}\")\n",
    "print(f\"p-value:{p:.4f}\")"
   ]
  },
  {
   "cell_type": "markdown",
   "id": "unexpected-memorial",
   "metadata": {},
   "source": [
    "#### Q11: What is Student’s t distribution? When to use the t-Distribution."
   ]
  },
  {
   "cell_type": "markdown",
   "id": "careful-organic",
   "metadata": {},
   "source": [
    "The **t-distribution**, also known as the **Student's t-distribution**, is a type of probability distribution that is similar to the normal distribution with its bell shape but has heavier tails. It is used for estimating population parameters for small sample sizes or unknown variances.\n",
    "\n",
    "The t-distribution is used in statistical inference, particularly in **hypothesis testing,** to compare sample means from two populations or to determine whether a sample mean is significantly different from a hypothesized population mean. It is also used in the construction of **confidence intervals for the population mean.**\n",
    "\n",
    "When the sample size is large (typically greater than 30), the t-distribution is approximately the same as the standard normal distribution. Therefore, the t-distribution is typically used when the sample size is small, the population standard deviation is unknown, or when the population distribution is not normal but the sample size is large enough for the central limit theorem to apply."
   ]
  },
  {
   "cell_type": "markdown",
   "id": "persistent-voluntary",
   "metadata": {},
   "source": [
    "#### Q12: What is t-statistic? State the formula for t-statistic."
   ]
  },
  {
   "cell_type": "markdown",
   "id": "average-wilderness",
   "metadata": {},
   "source": [
    "The t-statistic is a measure of how significant the difference between two sample means is. It is commonly used in hypothesis testing to determine whether the means of two populations are different from each other.\n",
    "\n",
    "The formula for calculating the t-statistic is:\n",
    "\n",
    "**t = (x̄ - μ) / (s / sqrt(n))**\n",
    "\n",
    "where:\n",
    "\n",
    "- x̄ is the sample mean\n",
    "- μ is the hypothesized population mean\n",
    "- s is the sample standard deviation\n",
    "- n is the sample size"
   ]
  },
  {
   "cell_type": "markdown",
   "id": "three-mouse",
   "metadata": {},
   "source": [
    "#### Q13. A coffee shop owner wants to estimate the average daily revenue for their shop. They take a random sample of 50 days and find the sample mean revenue to be \\\\$500 with a standard deviation of \\\\$50. Estimate the population mean revenue with a 95% confidence interval."
   ]
  },
  {
   "cell_type": "markdown",
   "id": "advisory-alliance",
   "metadata": {},
   "source": [
    "To estimate the population mean revenue with a 95% confidence interval, we can use the following formula:\n",
    "\n",
    "**CI = x̄ ± t*(s/√n)**\n",
    "\n",
    "where:\n",
    "- **CI** is the comfidence interval\n",
    "- **x̄** is the sample mean revenue\n",
    "- **t** is the t-value for the desired level of confidence with degree of freedom (n-1)\n",
    "- **s** is the sample standard deviation\n",
    "- **n** is the sample size\n",
    "\n",
    "Since we want a 95% confidence interval, we can use a significance level of α = 0.05, which gives us a two-tailed test with a critical value of t = 2.009 (from a t-distribution with df = 49).\n",
    "\n",
    "Plugging in the values given in the question, we get:\n",
    "\n",
    "CI = 500 ± (2.009*(50/√50))\n",
    "   = 500 ± (2.009 * 7.07)\n",
    "   = 500 ± 14.20\n",
    "\n",
    "Therefore, the 95% confidence interval for the population mean revenue is **\\\\$485.80** to **\\\\$514.20.** This means that we are 95% confident that the true population mean revenue falls between these two values based on the sample data."
   ]
  },
  {
   "cell_type": "markdown",
   "id": "fifth-activity",
   "metadata": {},
   "source": [
    "#### Q14. A researcher hypothesizes that a new drug will decrease blood pressure by 10 mmHg. They conduct a clinical trial with 100 patients and find that the sample mean decrease in blood pressure is 8 mmHg with a standard deviation of 3 mmHg. Test the hypothesis with a significance level of 0.05."
   ]
  },
  {
   "cell_type": "markdown",
   "id": "wireless-complement",
   "metadata": {},
   "source": [
    "To test the hypothesis that the new drug will decrease blood pressure by 10 mmHg, we need to perform a one-sample t-test. The null hypothesis is that the mean decrease in blood pressure is equal to 10 mmHg, while the alternative hypothesis is that the mean decrease in blood pressure is less than 10 mmHg.\n",
    "\n",
    "The formula for one-sample t-test is given by:\n",
    "\n",
    "t = (x̄ - μ) / (s / sqrt(n))\n",
    "\n",
    "where:\n",
    "\n",
    "- x̄ is the sample mean\n",
    "- μ is the hypothesized population mean (10 mmHg in this case)\n",
    "- s is the sample standard deviation\n",
    "- n is the sample size\n",
    "\n",
    "Plugging in the values from the problem, we get:\n",
    "\n",
    "t = (8 - 10) / (3 / sqrt(100)) \n",
    "\n",
    "t = -6.67\n",
    "\n",
    "Since the calculated t-value is less than the critical value, we can reject the null hypothesis and conclude that the mean decrease in blood pressure with the new drug is significantly less than 10 mmHg at a significance level of 0.05. In other words, there is strong evidence to suggest that the new drug is effective in decreasing blood pressure."
   ]
  },
  {
   "cell_type": "markdown",
   "id": "filled-equilibrium",
   "metadata": {},
   "source": [
    "#### Q15. An electronics company produces a certain type of product with a mean weight of 5 pounds and a standard deviation of 0.5 pounds. A random sample of 25 products is taken, and the sample mean weight is found to be 4.8 pounds. Test the hypothesis that the true mean weight of the products is less than 5 pounds with a significance level of 0.01."
   ]
  },
  {
   "cell_type": "markdown",
   "id": "affecting-astronomy",
   "metadata": {},
   "source": [
    "To test the hypothesis that the true mean weight of the products is less than 5 pounds with a significance level of 0.01, we need to perform a one-sample t-test. The null and alternative hypotheses are:\n",
    "\n",
    "**H₀:** The true mean weight of the products is not significantly different from 5 pounds.\n",
    "\n",
    "**H₁:** The true mean weight of the products is significantly less than 5 pounds.\n",
    "\n",
    "The test statistic can be calculated using the formula:\n",
    "\n",
    "The formula for one-sample t-test is given by:\n",
    "\n",
    "t = (x̄ - μ) / (s / sqrt(n))\n",
    "\n",
    "where:\n",
    "\n",
    "x̄ is the sample mean\n",
    "μ is the hypothesized population mean (10 mmHg in this case)\n",
    "s is the sample standard deviation\n",
    "n is the sample size\n",
    "\n",
    "Plugging in the values from the problem, we get:\n",
    "\n",
    "t = (4.8-5) / (0.5/sqrt(25))\n",
    "\n",
    "t = -0.2 / 0.1\n",
    "\n",
    "t = -2\n",
    "\n",
    "The critical value for a one-tailed t-test with 24 degrees of freedom (df = n-1) and a significance level of 0.01 is -2.492 (from a t-distribution table or calculator).\n",
    "\n",
    "Since the calculated t-value is less than the critical value, we can reject the null hypothesis and conclude that the true mean weight of the products is significantly less than 5 pounds at a significance level of 0.01. In other words, there is strong evidence to suggest that the mean weight of the products is less than 5 pounds.\n"
   ]
  },
  {
   "cell_type": "markdown",
   "id": "comprehensive-automation",
   "metadata": {},
   "source": [
    "#### Q16. Two groups of students are given different study materials to prepare for a test. The first group (n1 =30) has a mean score of 80 with a standard deviation of 10, and the second group (n2 = 40) has a mean score of 75 with a standard deviation of 8. Test the hypothesis that the population means for the two groups are equal with a significance level of 0.01."
   ]
  },
  {
   "cell_type": "markdown",
   "id": "boxed-devon",
   "metadata": {},
   "source": [
    "The test statistic can be calculated using the formula:\n",
    "\n",
    "**t = (x̄₁ - x̄₂) / sqrt((s₁^2/n₁) + (s₂^2/n₂))**\n",
    "\n",
    "where:\n",
    "\n",
    "- **x̄₁ and x̄₂** are the sample means of the first and second groups, respectively\n",
    "- **s₁ and s₂** are the sample standard deviations of the first and second groups, respectively\n",
    "- **n₁ and n₂** are the sample sizes of the first and second groups, respectively.\n",
    "\n",
    "Plugging in the values given in the question, we get:\n",
    "\n",
    "t = (80 - 75) / sqrt((10^2 / 30) + (8^2 / 40))\n",
    "\n",
    "  = 2.25\n",
    "\n",
    "Using a t-distribution table or calculator with 68 degrees of freedom (n₁+n₂-2), we find that the critical t-value for a two-tailed test with a significance level of 0.01 is ±2.629. Since our calculated t-value is less than the critical t-value in absolute value, we fail to reject the null hypothesis and conclude that there is not enough evidence to suggest that the population means for the two groups are significantly different at a significance level of 0.01."
   ]
  },
  {
   "cell_type": "markdown",
   "id": "working-exhibit",
   "metadata": {},
   "source": [
    "#### Q17. A marketing company wants to estimate the average number of ads watched by viewers during a TV program. They take a random sample of 50 viewers and find that the sample mean is 4 with a standard deviation of 1.5. Estimate the population mean with a 99% confidence interval."
   ]
  },
  {
   "cell_type": "markdown",
   "id": "painted-principal",
   "metadata": {},
   "source": [
    "To estimate the population mean number of ads watched by viewers during a TV program with a 99% confidence interval, we can use the following formula:\n",
    "\n",
    "CI = x̄ ± z*(s/sqrt(n))\n",
    "\n",
    "where:\n",
    "\n",
    "- x̄ is the sample mean number of ads watched by viewers\n",
    "- s is the sample standard deviation\n",
    "- n is the sample size\n",
    "- z* is the critical z-value for the desired confidence level.\n",
    "\n",
    "Using a z-table or calculator, we can find that the critical z-value for a 99% confidence level is 2.576.\n",
    "\n",
    "Plugging in the values:\n",
    "\n",
    "\n",
    "CI = 4 ± 2.576*(1.5/√50)\n",
    "\n",
    "   = 4 ± 0.546\n",
    "\n",
    "Therefore, the 99% confidence interval for the population mean number of ads watched by viewers during a TV program is (4 - 0.546, 4 + 0.546), which can be simplified to (3.454, 4.546). We can say with 99% confidence that the true population mean number of ads watched by viewers during a TV program lies within this interval."
   ]
  }
 ],
 "metadata": {
  "kernelspec": {
   "display_name": "Python 3",
   "language": "python",
   "name": "python3"
  },
  "language_info": {
   "codemirror_mode": {
    "name": "ipython",
    "version": 3
   },
   "file_extension": ".py",
   "mimetype": "text/x-python",
   "name": "python",
   "nbconvert_exporter": "python",
   "pygments_lexer": "ipython3",
   "version": "3.8.2"
  }
 },
 "nbformat": 4,
 "nbformat_minor": 5
}
