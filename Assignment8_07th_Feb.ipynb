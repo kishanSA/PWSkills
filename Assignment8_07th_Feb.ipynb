{
 "cells": [
  {
   "cell_type": "markdown",
   "id": "3986d602-f3ad-4d7e-805e-d4d1e513e67f",
   "metadata": {},
   "source": [
    "## <u> Assigement 8 - 07th Feb </u>"
   ]
  },
  {
   "cell_type": "markdown",
   "id": "724b4b18-690d-4eb9-9f36-91c4d18d1410",
   "metadata": {},
   "source": [
    "#### Q1. You are writing code for a company. The requirement of the company is that you create a python function that will check whether the password entered by the user is correct or not. The function should take the password as input and return the string “Valid Password” if the entered password follows the below-given password guidelines else it should return “Invalid Password”.\n",
    "\n",
    "**Note:**\n",
    "1. The Password should contain at least two uppercase letters and at least two lowercase letters.\n",
    "2. The Password should contain at least a number and three special characters.\n",
    "3. The length of the password should be 10 characters long."
   ]
  },
  {
   "cell_type": "code",
   "execution_count": 1,
   "id": "bbe2144f-9619-456f-9daa-75d6f91deeb0",
   "metadata": {},
   "outputs": [],
   "source": [
    "# contain 2 upper and 2 lower case letters\n",
    "# contain at least 1 number and 3 special character\n",
    "# length should be 10 character long\n",
    "\n",
    "upper_chars = \"ABCDEFGHIJKLMNOPQRSTUVWXYZ\"\n",
    "lower_chars = \"abcdefghijklmnopqrstuvwxyz\"\n",
    "special_chars = \"\"\"~!@#$%^&*()\"\"\"\n",
    "digits=\"0123456789\""
   ]
  },
  {
   "cell_type": "code",
   "execution_count": 2,
   "id": "54abeefc-afc0-43f3-87ee-556532e6bf91",
   "metadata": {},
   "outputs": [
    {
     "name": "stdin",
     "output_type": "stream",
     "text": [
      "Enter your password:  D@tA$c!encE2023\n"
     ]
    },
    {
     "name": "stdout",
     "output_type": "stream",
     "text": [
      "Valid Password\n"
     ]
    }
   ],
   "source": [
    "def validate(psw):\n",
    "    up_c, lo_c, sp_c, dg_c = 0, 0, 0, 0\n",
    "    \n",
    "    if len(psw)>=10:\n",
    "        for c in psw:\n",
    "            # upper letter counting\n",
    "            if c in upper_chars:\n",
    "                up_c+=1\n",
    "\n",
    "            # lower letter counting\n",
    "            if c in lower_chars:\n",
    "                lo_c+=1\n",
    "\n",
    "            # digit counting\n",
    "            if c in digits:\n",
    "                dg_c+=1\n",
    "\n",
    "            # special letter counting\n",
    "            if c in special_chars:\n",
    "                sp_c+=1\n",
    "    \n",
    "    if (up_c>=2 and lo_c>=2 and dg_c>=1 and sp_c>=3 \n",
    "        and (up_c+lo_c+dg_c+sp_c)==len(psw)):\n",
    "        print(\"Valid Password\")\n",
    "    else:\n",
    "        print(\"Invalid Password\")\n",
    "\n",
    "password = input(\"Enter your password: \")\n",
    "\n",
    "validate(password)  # D@tA$c!encE2023"
   ]
  },
  {
   "cell_type": "markdown",
   "id": "7ff2e470-f83d-415a-a946-75278506eec0",
   "metadata": {},
   "source": [
    "#### Q2. Solve the below-given questions using at least one of the following: \n",
    "\n",
    "1. Lambda functioJ\n",
    "2. Filter functioJ\n",
    "3. Zap functioJ\n",
    "4. List ComprehensioI\n"
   ]
  },
  {
   "cell_type": "markdown",
   "id": "24ab8079-8f60-4929-8c01-69d20d52fd80",
   "metadata": {},
   "source": [
    "- Check if the string starts with a particular letter."
   ]
  },
  {
   "cell_type": "code",
   "execution_count": 3,
   "id": "b30fd2c1-2582-4bf6-aaa4-07157014a850",
   "metadata": {},
   "outputs": [],
   "source": [
    "string_check = lambda st : True if st.startswith('D') else False"
   ]
  },
  {
   "cell_type": "code",
   "execution_count": 4,
   "id": "e7c0432e-d12b-4787-8ce6-072fe06d0b2b",
   "metadata": {},
   "outputs": [
    {
     "name": "stdout",
     "output_type": "stream",
     "text": [
      "String 'Data' starts with 'D': True\n"
     ]
    }
   ],
   "source": [
    "str1 = \"Data\"\n",
    "print(f\"String '{str1}' starts with 'D': {string_check(str1)}\")"
   ]
  },
  {
   "cell_type": "code",
   "execution_count": 5,
   "id": "c277d593-f50e-4669-a884-7170272cabf9",
   "metadata": {},
   "outputs": [
    {
     "name": "stdout",
     "output_type": "stream",
     "text": [
      "String 'Science' starts with 'D': False\n"
     ]
    }
   ],
   "source": [
    "str1 = \"Science\"\n",
    "print(f\"String '{str1}' starts with 'D': {string_check(str1)}\")"
   ]
  },
  {
   "cell_type": "markdown",
   "id": "a6081547-1e0d-4d92-aa3c-0d6f454b0f3d",
   "metadata": {},
   "source": [
    "- Check if the string is numeric."
   ]
  },
  {
   "cell_type": "code",
   "execution_count": 6,
   "id": "c666007b-c69b-4e2d-9000-f754635c20ad",
   "metadata": {},
   "outputs": [],
   "source": [
    "num_check = lambda st : True if st.isnumeric() else False"
   ]
  },
  {
   "cell_type": "code",
   "execution_count": 7,
   "id": "e492c625-7f7d-4eaf-9fda-1870f031d9f8",
   "metadata": {},
   "outputs": [
    {
     "name": "stdout",
     "output_type": "stream",
     "text": [
      "String '12345678' Numeric: True\n"
     ]
    }
   ],
   "source": [
    "str1 = '12345678'\n",
    "print(f\"String '{str1}' Numeric: {num_check(str1)}\")"
   ]
  },
  {
   "cell_type": "code",
   "execution_count": 8,
   "id": "416e20c8-7a7e-4a94-8a49-0323ae18a80d",
   "metadata": {},
   "outputs": [
    {
     "name": "stdout",
     "output_type": "stream",
     "text": [
      "String '12data78' Numeric: False\n"
     ]
    }
   ],
   "source": [
    "str1 = '12data78'\n",
    "print(f\"String '{str1}' Numeric: {num_check(str1)}\")"
   ]
  },
  {
   "cell_type": "markdown",
   "id": "4b56bed8-a8a1-4eb2-a8dd-b2dcbb6dea37",
   "metadata": {},
   "source": [
    "- Sort a list of tuples having fruit names and their quantity. "
   ]
  },
  {
   "cell_type": "code",
   "execution_count": 9,
   "id": "5b8a0a60-f394-44a4-bccc-8efbabae5b7b",
   "metadata": {},
   "outputs": [
    {
     "name": "stdout",
     "output_type": "stream",
     "text": [
      "[('orange', 80), ('mango', 99), ('grapes', 1000)]\n"
     ]
    }
   ],
   "source": [
    "lst = [(\"mango\",99),(\"orange\",80), (\"grapes\", 1000)]\n",
    "\n",
    "sort_f = lambda x : x[1] \n",
    "\n",
    "print(sorted(lst,key=sort_f))"
   ]
  },
  {
   "cell_type": "markdown",
   "id": "51286a12-9b3f-44a1-b069-d38b8bff8273",
   "metadata": {},
   "source": [
    "- Find the squares of numbers from 1 to 10."
   ]
  },
  {
   "cell_type": "code",
   "execution_count": 10,
   "id": "6f9f01ad-cccd-40c9-bc40-335f23aded95",
   "metadata": {},
   "outputs": [
    {
     "name": "stdout",
     "output_type": "stream",
     "text": [
      "[1, 4, 9, 16, 25, 36, 49, 64, 81, 100]\n"
     ]
    }
   ],
   "source": [
    "squares = [x**2 for x in range(1,11)]\n",
    "print(squares)"
   ]
  },
  {
   "cell_type": "markdown",
   "id": "7f486e0b-c290-49d2-8c8a-00f9ff5d47e2",
   "metadata": {},
   "source": [
    "- Find the cube root of numbers from 1 to 10."
   ]
  },
  {
   "cell_type": "code",
   "execution_count": 11,
   "id": "ce878b9f-9f27-41e7-9927-31d6edc004f7",
   "metadata": {},
   "outputs": [
    {
     "name": "stdout",
     "output_type": "stream",
     "text": [
      "[1.0, 1.26, 1.442, 1.587, 1.71, 1.817, 1.913, 2.0, 2.08, 2.154]\n"
     ]
    }
   ],
   "source": [
    "cube_root = [round(n**(1.0/3.0),3) for n in range(1,11)]\n",
    "print(cube_root)"
   ]
  },
  {
   "cell_type": "markdown",
   "id": "16666d23-04f4-4255-817d-c763c56247f7",
   "metadata": {},
   "source": [
    "- Check if a given number is even.\n"
   ]
  },
  {
   "cell_type": "code",
   "execution_count": 12,
   "id": "87bbe121-d05d-4b2f-b723-5a3e0a5c0375",
   "metadata": {},
   "outputs": [
    {
     "name": "stdin",
     "output_type": "stream",
     "text": [
      "Enter a number: 6\n"
     ]
    },
    {
     "name": "stdout",
     "output_type": "stream",
     "text": [
      "Check 6 is Even: True\n"
     ]
    }
   ],
   "source": [
    "number = input(\"Enter a number:\")\n",
    "number = int(number) # assuming that user has enter digit only\n",
    "\n",
    "is_even = lambda number : True if number%2==0 else False\n",
    "\n",
    "print(f\"Check {number} is Even: {is_even(number)}\")"
   ]
  },
  {
   "cell_type": "markdown",
   "id": "eb422bbd-4e63-4c9a-9673-cbc0f8aff021",
   "metadata": {},
   "source": [
    "- Filter odd numbers from the given list."
   ]
  },
  {
   "cell_type": "code",
   "execution_count": 13,
   "id": "26eab1ec-63ff-4332-8d9d-f20b56f2c59f",
   "metadata": {},
   "outputs": [
    {
     "name": "stdout",
     "output_type": "stream",
     "text": [
      "ODD numbers are: [1, 3, 5, 7, 9]\n"
     ]
    }
   ],
   "source": [
    "lst = [1, 2, 3, 4, 5, 6, 7, 8, 9, 10]\n",
    "\n",
    "odds = list(filter(lambda x : x % 2 != 0, lst))\n",
    "\n",
    "print(f\"ODD numbers are: {odds}\")"
   ]
  },
  {
   "cell_type": "markdown",
   "id": "b3cd1228-b06c-47e5-ab90-fd2e6e1ff471",
   "metadata": {},
   "source": [
    "- Sort a list of integers into positive and negative integers lists."
   ]
  },
  {
   "cell_type": "code",
   "execution_count": 14,
   "id": "e23ca8a4-68c8-457a-a5e7-e3e2e9b04a47",
   "metadata": {},
   "outputs": [],
   "source": [
    "lst = [1, 2, 3, 4, 5, 6, -1, -2, -3, -4, -5, 0]"
   ]
  },
  {
   "cell_type": "code",
   "execution_count": 15,
   "id": "4706b78a-09ef-4bbc-9f14-64d59a8d0922",
   "metadata": {},
   "outputs": [
    {
     "name": "stdout",
     "output_type": "stream",
     "text": [
      "Positve Integers: [0, 1, 2, 3, 4, 5, 6]\n",
      "Negative Integers: [-5, -4, -3, -2, -1]\n"
     ]
    }
   ],
   "source": [
    "# positive integers\n",
    "positives = filter(lambda x : x >= 0, lst) # 0 does not have any negative sign so considering as positve integer\n",
    "positives = sorted(list(positives))\n",
    "\n",
    "print(f\"Positve Integers: {positives}\")\n",
    "\n",
    "# negative integers\n",
    "negatives = sorted(list(filter(lambda x : x <0, lst)))\n",
    "print(f\"Negative Integers: {negatives}\")"
   ]
  }
 ],
 "metadata": {
  "kernelspec": {
   "display_name": "Python 3 (ipykernel)",
   "language": "python",
   "name": "python3"
  },
  "language_info": {
   "codemirror_mode": {
    "name": "ipython",
    "version": 3
   },
   "file_extension": ".py",
   "mimetype": "text/x-python",
   "name": "python",
   "nbconvert_exporter": "python",
   "pygments_lexer": "ipython3",
   "version": "3.10.8"
  }
 },
 "nbformat": 4,
 "nbformat_minor": 5
}
