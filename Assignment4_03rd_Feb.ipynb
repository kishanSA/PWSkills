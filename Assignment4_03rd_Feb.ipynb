{
 "cells": [
  {
   "cell_type": "markdown",
   "id": "middle-purse",
   "metadata": {},
   "source": [
    "## <u>Assignment 4 - 03rd Feb</u>"
   ]
  },
  {
   "cell_type": "markdown",
   "id": "mathematical-running",
   "metadata": {},
   "source": [
    "#### Q1. Which keyword is used to create a function? Create a function to return a list of odd numbers in the range of 1 to 25."
   ]
  },
  {
   "cell_type": "markdown",
   "id": "proper-mitchell",
   "metadata": {},
   "source": [
    "The keyword for creating function in python is **def**."
   ]
  },
  {
   "cell_type": "code",
   "execution_count": 1,
   "id": "fantastic-interval",
   "metadata": {},
   "outputs": [],
   "source": [
    "# function to print odd numbers in the range of 1 to 25\n",
    "def odd_numbers(nums):\n",
    "    odds = []\n",
    "    for n in nums:\n",
    "        if n%2 !=0:\n",
    "            odds.append(n)\n",
    "        \n",
    "    return odds"
   ]
  },
  {
   "cell_type": "code",
   "execution_count": 2,
   "id": "23df1d5c-852a-4c67-aa91-92c891cf5020",
   "metadata": {},
   "outputs": [],
   "source": [
    "odd_nums = odd_numbers(range(1,25))"
   ]
  },
  {
   "cell_type": "code",
   "execution_count": 3,
   "id": "773bfb64-827d-4b3b-9012-c4b7a56e745b",
   "metadata": {},
   "outputs": [
    {
     "data": {
      "text/plain": [
       "[1, 3, 5, 7, 9, 11, 13, 15, 17, 19, 21, 23]"
      ]
     },
     "execution_count": 3,
     "metadata": {},
     "output_type": "execute_result"
    }
   ],
   "source": [
    "odd_nums"
   ]
  },
  {
   "cell_type": "markdown",
   "id": "further-fifteen",
   "metadata": {},
   "source": [
    "#### Q2. Why *args and **kwargs is used in some functions? Create a function each for *args and **kwargs to demonstrate their use."
   ]
  },
  {
   "cell_type": "markdown",
   "id": "terminal-guyana",
   "metadata": {},
   "source": [
    "* **args** is used for non keyword arguments. When we are not sure about the number of arguments that can be passed to a function, we can use args.\n",
    "\n",
    "* ***kwargs** allows us to pass the variable length of keyword argments to the function."
   ]
  },
  {
   "cell_type": "code",
   "execution_count": 4,
   "id": "general-horizontal",
   "metadata": {},
   "outputs": [],
   "source": [
    "# args example\n",
    "\n",
    "def adder(*args):\n",
    "    sum = 0\n",
    "    \n",
    "    for i in args:\n",
    "        sum += i\n",
    "        \n",
    "    print(f\"Sum: {sum}\")"
   ]
  },
  {
   "cell_type": "code",
   "execution_count": 5,
   "id": "eff99a71-b8c8-4f0e-9f7a-d0f3c3b85bb7",
   "metadata": {},
   "outputs": [
    {
     "name": "stdout",
     "output_type": "stream",
     "text": [
      "Sum: 6\n",
      "Sum: 30\n",
      "Sum: 45\n"
     ]
    }
   ],
   "source": [
    "adder(1,2,3)\n",
    "adder(4,5,6,7,8)\n",
    "adder(1,2,3,4,5,6,7,8,9) "
   ]
  },
  {
   "cell_type": "code",
   "execution_count": 6,
   "id": "sunset-wheat",
   "metadata": {},
   "outputs": [],
   "source": [
    "# kwargs example\n",
    "\n",
    "def car(**kwargs):\n",
    "    print()\n",
    "    for k, v in kwargs.items():\n",
    "        print(f\"{k} - {v}\")\n"
   ]
  },
  {
   "cell_type": "code",
   "execution_count": 7,
   "id": "34975d4d-cd16-4729-bc70-20420a546353",
   "metadata": {},
   "outputs": [
    {
     "name": "stdout",
     "output_type": "stream",
     "text": [
      "\n",
      "Brand - Audi\n",
      "Model - Q5\n",
      "\n",
      "Brand - Mazda\n",
      "Model - CX5\n",
      "Year - 2022\n",
      "\n",
      "Brand - Ferrari\n",
      "Model - 458 Italia\n",
      "Color - Red\n",
      "Country - Italy\n"
     ]
    }
   ],
   "source": [
    "car(Brand='Audi', Model='Q5')\n",
    "car(Brand='Mazda', Model='CX5', Year=2022)\n",
    "car(Brand='Ferrari', Model='458 Italia', Color='Red', Country=\"Italy\")"
   ]
  },
  {
   "cell_type": "markdown",
   "id": "ultimate-breed",
   "metadata": {},
   "source": [
    "#### Q3.  What is an iterator in python? Name the method used to initialise the iterator object and the method used for iteration. Use these methods to print the first five elements of the given list [2, 4, 6, 8, 10, 12, 14, 16, 18, 20]."
   ]
  },
  {
   "cell_type": "markdown",
   "id": "loose-ebony",
   "metadata": {},
   "source": [
    "* An iterator is an object that can be iterated upon, meaning that you can traverse through all the values.\n",
    "\n",
    "`__iter__()` method is used to initialise the iterator object which is usedd to get an iterator.\n",
    "\n",
    "`__next__()` method is used for iteration on iterator object."
   ]
  },
  {
   "cell_type": "code",
   "execution_count": 8,
   "id": "waiting-decade",
   "metadata": {},
   "outputs": [],
   "source": [
    "# example of iterator\n",
    "\n",
    "lst = [2, 4, 6, 8, 10, 12, 14, 16, 18, 20]\n",
    "\n",
    "iter_lst = iter(lst)"
   ]
  },
  {
   "cell_type": "code",
   "execution_count": 9,
   "id": "e34e3302-b219-4b02-a897-5708c5173d1b",
   "metadata": {},
   "outputs": [
    {
     "name": "stdout",
     "output_type": "stream",
     "text": [
      "Element # 1 is 2\n",
      "Element # 2 is 4\n",
      "Element # 3 is 6\n",
      "Element # 4 is 8\n",
      "Element # 5 is 10\n"
     ]
    }
   ],
   "source": [
    "# using for loop to get the next item from iterator\n",
    "\n",
    "for i in range(5):\n",
    "    print(f\"Element # {i+1} is {next(iter_lst)}\")"
   ]
  },
  {
   "cell_type": "markdown",
   "id": "pursuant-abuse",
   "metadata": {},
   "source": [
    "#### Q4.  What is a generator function in python? Why yield keyword is used? Give an example of a generator function.\n"
   ]
  },
  {
   "cell_type": "markdown",
   "id": "adjustable-approach",
   "metadata": {},
   "source": [
    "* In Python, a **generator** is a function that returns an iterator that produces a sequence of values when iterated over.\n",
    "* Generators are useful when we want to produce a large sequence of values, but we don't want to store all of them in memory at once.\n",
    "\n",
    "* In a generator function, we are using `yield` statement instead of `return` statement. The `yield` keyword is used to produce a value from the generator."
   ]
  },
  {
   "cell_type": "code",
   "execution_count": 10,
   "id": "atomic-cabinet",
   "metadata": {},
   "outputs": [],
   "source": [
    "# generator function example\n",
    "\n",
    "def square_cube_generator(num):\n",
    "    \"\"\"Generator function to calculate square and cube of the of number\"\"\"\n",
    "    for val in range(num):\n",
    "        # produce the square and cube of current value \n",
    "        yield (val**2, val**3)"
   ]
  },
  {
   "cell_type": "code",
   "execution_count": 11,
   "id": "f3d8ca55-436f-418e-b73c-dbbe87459bba",
   "metadata": {},
   "outputs": [
    {
     "name": "stdout",
     "output_type": "stream",
     "text": [
      "Number 0 : Square 0, Cube 0\n",
      "Number 1 : Square 1, Cube 1\n",
      "Number 2 : Square 4, Cube 8\n",
      "Number 3 : Square 9, Cube 27\n",
      "Number 4 : Square 16, Cube 64\n",
      "Number 5 : Square 25, Cube 125\n",
      "Number 6 : Square 36, Cube 216\n",
      "Number 7 : Square 49, Cube 343\n",
      "Number 8 : Square 64, Cube 512\n",
      "Number 9 : Square 81, Cube 729\n"
     ]
    }
   ],
   "source": [
    "# iterate over the generator object produced by my_generator\n",
    "for i, value in enumerate(square_cube_generator(10)):\n",
    "    # print each value produced by generator\n",
    "    print(f\"Number {i} : Square {value[0]}, Cube {value[1]}\")\n"
   ]
  },
  {
   "cell_type": "markdown",
   "id": "regional-protein",
   "metadata": {},
   "source": [
    "#### Q5. Create a generator function for prime numbers less than 1000. Use the next() method to print the first 20 prime numbers."
   ]
  },
  {
   "cell_type": "code",
   "execution_count": 12,
   "id": "scheduled-opinion",
   "metadata": {},
   "outputs": [],
   "source": [
    "# generator function \n",
    "\n",
    "def gen_primes(Num):\n",
    "    primes = set()\n",
    "    \n",
    "    for n in range(2, Num):\n",
    "        if all(n % p > 0 for p in primes):\n",
    "            primes.add(n)\n",
    "            yield n "
   ]
  },
  {
   "cell_type": "code",
   "execution_count": 13,
   "id": "rural-routine",
   "metadata": {},
   "outputs": [],
   "source": [
    "obj_prime = gen_primes(1000)"
   ]
  },
  {
   "cell_type": "code",
   "execution_count": 14,
   "id": "493d5db9-7939-4a6a-bc1f-eca1e1255e3e",
   "metadata": {},
   "outputs": [
    {
     "name": "stdout",
     "output_type": "stream",
     "text": [
      "2  3  5  7  11  13  17  19  23  29  31  37  41  43  47  53  59  61  67  71  "
     ]
    }
   ],
   "source": [
    "for i in range(20):\n",
    "    print(next(obj_prime), end='  ')"
   ]
  },
  {
   "cell_type": "code",
   "execution_count": null,
   "id": "5274d26a-e712-4806-b57a-46d099b6cd3f",
   "metadata": {},
   "outputs": [],
   "source": []
  }
 ],
 "metadata": {
  "kernelspec": {
   "display_name": "Python 3 (ipykernel)",
   "language": "python",
   "name": "python3"
  },
  "language_info": {
   "codemirror_mode": {
    "name": "ipython",
    "version": 3
   },
   "file_extension": ".py",
   "mimetype": "text/x-python",
   "name": "python",
   "nbconvert_exporter": "python",
   "pygments_lexer": "ipython3",
   "version": "3.10.8"
  }
 },
 "nbformat": 4,
 "nbformat_minor": 5
}
