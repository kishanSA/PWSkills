{
 "cells": [
  {
   "cell_type": "markdown",
   "id": "middle-purse",
   "metadata": {},
   "source": [
    "## <u>Assignment 4 - 03rd Feb</u>"
   ]
  },
  {
   "cell_type": "markdown",
   "id": "mathematical-running",
   "metadata": {},
   "source": [
    "#### Q1. Which keyword is used to create a function? Create a function to return a list of odd numbers in the range of 1 to 25."
   ]
  },
  {
   "cell_type": "markdown",
   "id": "proper-mitchell",
   "metadata": {},
   "source": [
    "The keyword for creating function in python is 'def'."
   ]
  },
  {
   "cell_type": "code",
   "execution_count": 1,
   "id": "fantastic-interval",
   "metadata": {},
   "outputs": [
    {
     "name": "stdout",
     "output_type": "stream",
     "text": [
      "[1, 3, 5, 7, 9, 11, 13, 15, 17, 19, 21, 23]\n"
     ]
    }
   ],
   "source": [
    "# function to print odd numbers in the range of 1 to 25\n",
    "\n",
    "odds = []\n",
    "\n",
    "def odd_numbers(nums):\n",
    "    for n in nums:\n",
    "        if n%2 !=0:\n",
    "            odds.append(n)\n",
    "        \n",
    "    return odds\n",
    "\n",
    "odd_nums = odd_numbers(range(1,25))\n",
    "\n",
    "print(odd_nums)"
   ]
  },
  {
   "cell_type": "markdown",
   "id": "further-fifteen",
   "metadata": {},
   "source": [
    "#### Q2. Why *args and **kwargs is used in some functions? Create a function each for *args and **kwargs to demonstrate their use."
   ]
  },
  {
   "cell_type": "markdown",
   "id": "terminal-guyana",
   "metadata": {},
   "source": [
    "* **args** is used for non keyword arguments. When we are not sure about the number of arguments that can be passed to a function, we can use args.\n",
    "\n",
    "* ***kwargs** allows us to pass the variable length of keyword argments to the function."
   ]
  },
  {
   "cell_type": "code",
   "execution_count": 2,
   "id": "general-horizontal",
   "metadata": {},
   "outputs": [
    {
     "name": "stdout",
     "output_type": "stream",
     "text": [
      "Sum: 6\n",
      "Sum: 30\n",
      "Sum: 45\n"
     ]
    }
   ],
   "source": [
    "# args example\n",
    "\n",
    "def adder(*args):\n",
    "    sum = 0\n",
    "    \n",
    "    for i in args:\n",
    "        sum += i\n",
    "        \n",
    "    print(f\"Sum: {sum}\")\n",
    "\n",
    "adder(1,2,3)\n",
    "adder(4,5,6,7,8)\n",
    "adder(1,2,3,4,5,6,7,8,9) "
   ]
  },
  {
   "cell_type": "code",
   "execution_count": 3,
   "id": "sunset-wheat",
   "metadata": {},
   "outputs": [
    {
     "name": "stdout",
     "output_type": "stream",
     "text": [
      "\n",
      "Brand - Audi\n",
      "Model - Q5\n",
      "\n",
      "Brand - Mazda\n",
      "Model - CX5\n",
      "Year - 2022\n",
      "\n",
      "Brand - Ferrari\n",
      "Model - 458 Italia\n",
      "Color - Red\n",
      "Country - Italy\n"
     ]
    }
   ],
   "source": [
    "# kwargs example\n",
    "\n",
    "def car(**kwargs):\n",
    "    print()\n",
    "    for k, v in kwargs.items():\n",
    "        print(f\"{k} - {v}\")\n",
    "\n",
    "car(Brand='Audi', Model='Q5')\n",
    "car(Brand='Mazda', Model='CX5', Year=2022)\n",
    "car(Brand='Ferrari', Model='458 Italia', Color='Red', Country=\"Italy\")"
   ]
  },
  {
   "cell_type": "markdown",
   "id": "ultimate-breed",
   "metadata": {},
   "source": [
    "#### Q3.  What is an iterator in python? Name the method used to initialise the iterator object and the method used for iteration. Use these methods to print the first five elements of the given list [2, 4, 6, 8, 10, 12, 14, 16, 18, 20]."
   ]
  },
  {
   "cell_type": "markdown",
   "id": "loose-ebony",
   "metadata": {},
   "source": [
    "* An iterator is an object that can be iterated upon, meaning that you can traverse through all the values.\n",
    "\n",
    "`__iter__()` method is used to initialise the iterator object which is usedd to get an iterator.\n",
    "\n",
    "`__next__()` method is used for iteration on iterator object."
   ]
  },
  {
   "cell_type": "code",
   "execution_count": 4,
   "id": "waiting-decade",
   "metadata": {},
   "outputs": [
    {
     "name": "stdout",
     "output_type": "stream",
     "text": [
      "First Element:  2\n",
      "Second Element:  4\n",
      "Third Element:  6\n",
      "Fourth Element:  8\n",
      "Fifth Element:  10\n"
     ]
    }
   ],
   "source": [
    "# example of iterator\n",
    "\n",
    "lst = [2, 4, 6, 8, 10, 12, 14, 16, 18, 20]\n",
    "\n",
    "iter_lst = iter(lst)\n",
    "\n",
    "print(\"First Element: \", next(iter_lst))\n",
    "print(\"Second Element: \", next(iter_lst))\n",
    "print(\"Third Element: \", next(iter_lst))\n",
    "print(\"Fourth Element: \", next(iter_lst))\n",
    "print(\"Fifth Element: \", next(iter_lst))"
   ]
  },
  {
   "cell_type": "markdown",
   "id": "pursuant-abuse",
   "metadata": {},
   "source": [
    "#### Q4.  What is a generator function in python? Why yield keyword is used? Give an example of a generator function.\n"
   ]
  },
  {
   "cell_type": "markdown",
   "id": "adjustable-approach",
   "metadata": {},
   "source": [
    "* In Python, a **generator** is a function that returns an iterator that produces a sequence of values when iterated over.\n",
    "* Generators are useful when we want to produce a large sequence of values, but we don't want to store all of them in memory at once.\n",
    "\n",
    "* In a generator function, we are using `yield` statement instead of `return` statement. The `yield` keyword is used to produce a value from the generator."
   ]
  },
  {
   "cell_type": "code",
   "execution_count": 5,
   "id": "atomic-cabinet",
   "metadata": {},
   "outputs": [
    {
     "name": "stdout",
     "output_type": "stream",
     "text": [
      "0\n",
      "1\n",
      "2\n",
      "3\n",
      "4\n"
     ]
    }
   ],
   "source": [
    "# generator function example\n",
    "\n",
    "def my_generator(num):\n",
    "    # initialize the counter\n",
    "    value = 0\n",
    "    \n",
    "    # loop until counter is less than num\n",
    "    while (value < num):\n",
    "\n",
    "        # produce the current value of the counter\n",
    "        yield value\n",
    "\n",
    "        # increment the counter\n",
    "        value += 1\n",
    "\n",
    "# iterate over the generator object produced by my_generator\n",
    "for value in my_generator(5):\n",
    "\n",
    "    # print each value produced by generator\n",
    "    print(value)\n"
   ]
  },
  {
   "cell_type": "markdown",
   "id": "regional-protein",
   "metadata": {},
   "source": [
    "#### Q5. Create a generator function for prime numbers less than 1000. Use the next() method to print the first 20 prime numbers."
   ]
  },
  {
   "cell_type": "code",
   "execution_count": 6,
   "id": "scheduled-opinion",
   "metadata": {},
   "outputs": [
    {
     "name": "stdout",
     "output_type": "stream",
     "text": [
      "2  3  5  7  11  13  17  19  23  29  31  37  41  43  47  53  59  61  67  71  "
     ]
    }
   ],
   "source": [
    "def gen_primes(Num):\n",
    "    primes = set()\n",
    "    \n",
    "    for n in range(2, Num):\n",
    "        if all(n % p > 0 for p in primes):\n",
    "            primes.add(n)\n",
    "            yield n\n",
    "            \n",
    "G = gen_primes(100)\n",
    "\n",
    "for i in range(20):\n",
    "    print(next(G), end='  ')"
   ]
  },
  {
   "cell_type": "code",
   "execution_count": null,
   "id": "rural-routine",
   "metadata": {},
   "outputs": [],
   "source": []
  }
 ],
 "metadata": {
  "kernelspec": {
   "display_name": "Python 3",
   "language": "python",
   "name": "python3"
  },
  "language_info": {
   "codemirror_mode": {
    "name": "ipython",
    "version": 3
   },
   "file_extension": ".py",
   "mimetype": "text/x-python",
   "name": "python",
   "nbconvert_exporter": "python",
   "pygments_lexer": "ipython3",
   "version": "3.8.2"
  }
 },
 "nbformat": 4,
 "nbformat_minor": 5
}
