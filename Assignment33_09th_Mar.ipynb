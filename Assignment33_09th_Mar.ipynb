{
 "cells": [
  {
   "cell_type": "markdown",
   "id": "processed-loading",
   "metadata": {},
   "source": [
    "## <u> Assignment 33 - 09th Mar </u>\n"
   ]
  },
  {
   "cell_type": "markdown",
   "id": "polar-injection",
   "metadata": {},
   "source": [
    "#### Q1: What are the Probability Mass Function (PMF) and Probability Density Function (PDF)? Explain with an example."
   ]
  },
  {
   "cell_type": "markdown",
   "id": "considered-milwaukee",
   "metadata": {},
   "source": [
    "The Probability Mass Function **(PMF)** and Probability Density Function **(PDF)** are the two important functions in mathamatics used to describe the probability distribution of a random variable.\n",
    "\n",
    "**Probability Mass Function (PMF)**\n",
    "\n",
    "The PMF is used for **discrete** random variables, which take on a fix or countably infinite number of possible values. \n",
    "The PMF assigns a probability to each possible value of the random variable, such that the sum of all the probabilities is equal to 1. \n",
    "\n",
    "**eg.** The PMF of fair six-sided die can be defined as follow:\n",
    "\n",
    "P(X=1)= 1/6\n",
    "\n",
    "P(X=2)= 1/6\n",
    "\n",
    "P(X=3)= 1/6\n",
    "\n",
    "P(X=4)= 1/6\n",
    "\n",
    "P(X=5)= 1/6\n",
    "\n",
    "P(X=6)= 1/6\n",
    "\n",
    "Here, X is the random variable which presents the outcome of single roll of die. Each value of PMF is related to the probability of rolling a specific number on the die.\n",
    "\n",
    "**Probability Density Function (PDF)**\n",
    "\n",
    "On the other hand, the PDF is used for **continuous** random variables, which take on a continuous range of possible values. The PDF assigns a probability density to each possible value of the random variable, such that the total area under the PDF curve is equal to 1. \n",
    "\n",
    "**eg.** Let's take the normal distribution with mean = 0 and standard deviation =1. So then the PDF of this disribution is given by:    \n",
    "\n",
    "$f(x) = (1/√(2πσ^2)) * exp(-(x-μ)^2/2σ^2)$\n",
    "\n",
    "Here **x** is a continuous random variable.The PDF assigns a probability density to each possible value of x, and the probability of x falling within a certain range is equal to the area under the PDF curve between those values."
   ]
  },
  {
   "cell_type": "markdown",
   "id": "million-penetration",
   "metadata": {},
   "source": [
    "#### Q2: What is Cumulative Density Function (CDF)? Explain with an example. Why CDF is used?"
   ]
  },
  {
   "cell_type": "markdown",
   "id": "stuffed-replication",
   "metadata": {},
   "source": [
    "The **Cumulative Distribution Function (CDF)**, of a real-valued random variable X, evaluated at x, is the probability function that X will take a value less than or equal to x. It is used to describe the probability distribution of random variables in a table.\n",
    "\n",
    "The CDF is a non-decreasing function. Its values ranging from 0 to 1. At x = -∞, the CDF is equal to 0, and at x = ∞, the CDF is equal to 1.\n",
    "\n",
    "**eg.** Consider a fair six-sided die.\n",
    "\n",
    "F(x) = P(X<=x)\n",
    "\n",
    "Here X is random variable representing the outcome of a single roll of the die. The CDF of this distribution is as follows:\n",
    "\n",
    "F(x) = 0 for x < 1\n",
    "\n",
    "F(x) = 1/6 for 1 <= x < 2\n",
    "\n",
    "F(x) = 2/6 for 2 <= x < 3\n",
    "\n",
    "F(x) = 3/6 for 3 <= x < 4\n",
    "\n",
    "F(x) = 4/6 for 4 <= x < 5\n",
    "\n",
    "F(x) = 5/6 for 5 <= x < 6\n",
    "\n",
    "F(x) = 1 for x >= 6\n",
    "\n",
    "This CDF gives the probability that the die roll is less than or equal to a certain value. Let's see the probability of rolling a 5 or less can be calculated by evaluating the CDF at x = 5:\n",
    "\n",
    "P(X<=5) = F(5) = 3/6 = 0.8333"
   ]
  },
  {
   "cell_type": "markdown",
   "id": "disabled-organization",
   "metadata": {},
   "source": [
    "#### Q3: What are some examples of situations where the normal distribution might be used as a model? Explain how the parameters of the normal distribution relate to the shape of the distribution."
   ]
  },
  {
   "cell_type": "markdown",
   "id": "center-hotel",
   "metadata": {},
   "source": [
    "A **normal distribution** is a type of continuous probability distribution in which most data points cluster toward the middle of the range, while the rest taper off symmetrically toward either extreme. The middle of the range is also known as the mean of the distribution. Below are the some real world example where normal distribution might be used as a model:\n",
    "\n",
    "1. Heights and weights of a population\n",
    "2. Test scores\n",
    "3. Error terms in regression analysis\n",
    "\n",
    "\n",
    "The normal distribution is characterized by two parameters: the **mean (μ)** and the **standard deviation (σ)**. The mean determines the center of the distribution, while the standard deviation determines the spread or width of the distribution.\n",
    "\n",
    "When the mean is increased or decreased, the entire normal distribution shifts to the right or left, respectively. When the standard deviation is increased or decreased, the normal distribution becomes wider or narrower, respectively."
   ]
  },
  {
   "cell_type": "markdown",
   "id": "dimensional-content",
   "metadata": {},
   "source": [
    "#### Q4: Explain the importance of Normal Distribution. Give a few real-life examples of Normal Distribution."
   ]
  },
  {
   "cell_type": "markdown",
   "id": "attended-healthcare",
   "metadata": {},
   "source": [
    "The **normal distribution** is an important concept in statistics and probability theory because it is a versatile distribution that can be used to model a wide variety of phenomena in the real world. Some of the reasons why the normal distribution is so important are:\n",
    "\n",
    "**1. Central limit theorem:** The normal distribution is a key component of the central limit theorem (CLT), which states that the sum of a large number of independent, identically distributed random variables will be approximately normally distributed, regardless of the underlying distribution of the individual variables. This property makes the normal distribution an important tool for modeling many natural and social phenomena.\n",
    "\n",
    "**2. Statistical inference:** Many statistical tests and inference procedures, such as hypothesis testing and confidence interval estimation, rely on assumptions about the distribution of the underlying population. The normal distribution is often used as a default assumption when the true distribution is unknown, due to its mathematical tractability and flexibility.\n",
    "\n",
    "**3. Real-world applications:** The normal distribution is used to model a wide range of real-world phenomena in many fields, including finance, engineering, biology, and psychology. Understanding the properties and characteristics of the normal distribution is therefore essential for many practical applications.\n",
    "\n",
    "Some real-life examples of normal distributions include:\n",
    "\n",
    "**Heights and weights of a population:** The heights and weights of a population are often approximately normally distributed, with a bell-shaped curve around the mean. This can be useful for understanding typical heights and weights, as well as the degree of variation within the population.\n",
    "\n",
    "**IQ scores:** IQ scores are often assumed to be normally distributed, with a mean of 100 and a standard deviation of 15. This can be useful for understanding the distribution of intelligence in a population and for comparing individuals or groups.\n",
    "\n",
    "**Stock prices:** Changes in stock prices are often modeled as normally distributed random variables, with a mean and standard deviation that reflect the underlying trends and volatility of the market. This can be useful for predicting future prices and managing risk in investment portfolios.\n",
    "\n",
    "**Reaction times:** Reaction times in experiments or tests are often modeled as normally distributed, with a mean and standard deviation that reflect the cognitive or physiological processes involved. This can be useful for understanding human performance and decision-making in various contexts.\n",
    "\n"
   ]
  },
  {
   "cell_type": "markdown",
   "id": "gothic-mambo",
   "metadata": {},
   "source": [
    "#### Q5: What is Bernaulli Distribution? Give an Example. What is the difference between Bernoulli Distribution and Binomial Distribution?"
   ]
  },
  {
   "cell_type": "markdown",
   "id": "thirty-terminal",
   "metadata": {},
   "source": [
    "**Bernoulli distribution** is a discrete probability distribution where the Bernoulli random variable can have only 0 or 1 as the outcome. p is the probability of success and 1-p is the probability of failure. The mean of a Bernoulli distribution is E[X]=p and the variance, Var[X]=p(1-p). The Bernoulli distribution is named after the Swiss mathematician Jacob Bernoulli.\n",
    "\n",
    "An example of the Bernoulli distribution is the outcome of a single coin toss, where the two possible outcomes are heads and tails. If the probability of getting heads is p, then the probability of getting tails is 1-p, and the Bernoulli distribution can be used to model the probability of getting heads or tails on a single toss.\n",
    "\n",
    "The **Bernoulli distribution** is a special case of the **binomial distribution**, which models the number of successes in a fixed number of independent Bernoulli trials. The key difference between the Bernoulli distribution and the binomial distribution is that the Bernoulli distribution is used to model a single trial, whereas the binomial distribution is used to model multiple trials.\n",
    "\n",
    "Another difference is that the Bernoulli distribution has only one parameter (the probability of success p), while the binomial distribution has two parameters: the number of trials n and the probability of success p. The binomial distribution is therefore more general than the Bernoulli distribution, as it can model a wide range of scenarios where multiple Bernoulli trials are performed, such as the number of defective items in a sample or the number of heads in multiple coin tosses."
   ]
  },
  {
   "cell_type": "markdown",
   "id": "eleven-revolution",
   "metadata": {},
   "source": [
    "#### Q6. Consider a dataset with a mean of 50 and a standard deviation of 10. If we assume that the dataset is normally distributed, what is the probability that a randomly selected observation will be greater than 60? Use the appropriate formula and show your calculations."
   ]
  },
  {
   "cell_type": "markdown",
   "id": "electrical-hunger",
   "metadata": {},
   "source": [
    "The formula for calculating standard normal distribution is as below.\n",
    "\n",
    "**z = (X - mu) / sigma**\n",
    "\n",
    "where X is the obeservation, mu is the mean, sigma is the standard deviation, and z is the corresponding z-score.\n",
    "\n",
    "Let put all the values in formula.\n",
    "\n",
    "z =(60-50)/10 =1\n",
    "\n",
    "This means that the value of 60 is 1 standard deviation above the mean of the dataset.\n",
    "\n",
    "Next, we need to find the probability that a randomly selected observation from a standard normal distribution will be greater than 1. This can be calculated using a standard normal distribution table or a calculator, which gives a probability of 0.1587.\n",
    "\n",
    "Therefore, the probability that a randomly selected observation will be greater than 60 is approximately **0.1587 or 15.87%.**\n",
    "\n"
   ]
  },
  {
   "cell_type": "markdown",
   "id": "acting-emerald",
   "metadata": {},
   "source": [
    "#### Q7: Explain uniform Distribution with an example."
   ]
  },
  {
   "cell_type": "markdown",
   "id": "adolescent-cotton",
   "metadata": {},
   "source": [
    "Uniform distribution is a continuous probability distribution where every possible value of a random variable between a certain range is equally likely to occur. In other words, the probability density function is constant over the range of possible values.\n",
    "\n",
    "An example of a uniform distribution is rolling a fair six-sided die. Each possible outcome (1, 2, 3, 4, 5, or 6) is equally likely, and the probability of any particular outcome is 1/6. The probability density function of a uniform distribution with a range of [a,b] is given by:\n",
    "\n",
    "f(x) = 1 / (b - a) for a ≤ x ≤ b f(x) = 0 otherwise\n",
    "\n",
    "where f(x) is the probability density function and a and b are the lower and upper bounds of the distribution, respectively."
   ]
  },
  {
   "cell_type": "markdown",
   "id": "worth-platform",
   "metadata": {},
   "source": [
    "#### Q8: What is the z score? State the importance of the z score."
   ]
  },
  {
   "cell_type": "markdown",
   "id": "suited-europe",
   "metadata": {},
   "source": [
    "A z-score is an example of a standardized score. A z-score measures how many standard deviations a data point is from the mean in a distribution. The formula for calculated z-score is:\n",
    "\n",
    "**z = (x - mean) / sigma**\n",
    "\n",
    "where x is the observation, mean is the mean of the distribution, and sigma is the standard deviation of the distribution.\n",
    "\n",
    "The z-score is important because it allows us to compare observations from different distributions that may have different units or scales. By standardizing the observations using the z-score, we can compare them on a common scale and make meaningful comparisons."
   ]
  },
  {
   "cell_type": "markdown",
   "id": "cleared-proceeding",
   "metadata": {},
   "source": [
    "#### Q9: What is Central Limit Theorem? State the significance of the Central Limit Theorem."
   ]
  },
  {
   "cell_type": "markdown",
   "id": "compressed-concert",
   "metadata": {},
   "source": [
    "The **Central Limit Theorem** says that the sampling distribution of the mean will always be normally distributed, as long as the sample size is large enough. Regardless of whether the population has a normal, Poisson, binomial, or any other distribution, the sampling distribution of the mean will be normal.\n",
    "\n",
    "The conditions required for the Central Limit Theorem to hold are:\n",
    "\n",
    "- The sample size is large (usually at least 30).\n",
    "\n",
    "- The sample is drawn from a population with a finite mean and finite variance.\n",
    "\n",
    "- The samples are drawn independently from each other.\n",
    "\n",
    "The significance of the Central Limit Theorem is that it provides a way to estimate the distribution of a population parameter from a sample, even if we do not know the underlying distribution of the population. This is important in statistics, where we often want to estimate the mean or variance of a population based on a sample of data.\n"
   ]
  },
  {
   "cell_type": "markdown",
   "id": "vocal-mexican",
   "metadata": {},
   "source": [
    "#### Q10: State the assumptions of the Central Limit Theorem."
   ]
  },
  {
   "cell_type": "markdown",
   "id": "close-harris",
   "metadata": {},
   "source": [
    "The Central Limit Theorem (CLT) has some assumptions that need to be satisfied for it to hold true.\n",
    "Following are some of the assumptions of CLT:\n",
    "\n",
    "**1. Independence:** The samples must be independent of each other. In other words, the value of one sample should not depend on the value of another sample.\n",
    "\n",
    "**2. Sample Size:** The sample size should be large enough. Typically, it should be at least 30 observations consider as large enought for CTL.\n",
    "\n",
    "**3. Random Sampling:** The observations must be sampled randomly from the population.\n",
    "\n",
    "**4. Replacement:**  The population should be finite or the sampling should be done with replacement. If the population is infinite and the sampling is done without replacement, then the Central Limit Theorem may not hold.\n",
    "\n",
    "**5. Finite mean and variance:** The population should have a finite mean and variance. If the mean or variance is infinite, then the Central Limit Theorem may not hold.\n",
    "\n",
    "**6. No Outliers:** The population should not contain any extreme values, outliers, or skewness that may influence the results."
   ]
  }
 ],
 "metadata": {
  "kernelspec": {
   "display_name": "Python 3",
   "language": "python",
   "name": "python3"
  },
  "language_info": {
   "codemirror_mode": {
    "name": "ipython",
    "version": 3
   },
   "file_extension": ".py",
   "mimetype": "text/x-python",
   "name": "python",
   "nbconvert_exporter": "python",
   "pygments_lexer": "ipython3",
   "version": "3.8.2"
  }
 },
 "nbformat": 4,
 "nbformat_minor": 5
}
