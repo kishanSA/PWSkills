{
 "cells": [
  {
   "cell_type": "markdown",
   "id": "solid-prescription",
   "metadata": {},
   "source": [
    "#### Q1. What are the characteristics of the tuples? Is tuple immutable?"
   ]
  },
  {
   "cell_type": "markdown",
   "id": "limiting-peripheral",
   "metadata": {},
   "source": [
    "Tuples have the given characteristics:\n",
    "\n",
    "* They are indexed\n",
    "* Tuples are ordered\n",
    "* These are immutable\n",
    "* They can contain duplicate items\n",
    "\n",
    "Yes. Tuple is immutable. That means it does not change after the initial assigning of items."
   ]
  },
  {
   "cell_type": "markdown",
   "id": "empirical-terminology",
   "metadata": {},
   "source": [
    "#### Q2. What are the two tuple methods in python? Give an example of each method. Give a reason why tuples have only two in-built methods as compared to Lists."
   ]
  },
  {
   "cell_type": "markdown",
   "id": "extra-spiritual",
   "metadata": {},
   "source": [
    "The two methods of tuple are as below:\n",
    "\n",
    "**index()** : This method searches the tuple for a specific value after which it returns the position of the specific value.\n",
    "\n",
    "**count()** : This method returns the number of times a specific value occurs in a tuple."
   ]
  },
  {
   "cell_type": "code",
   "execution_count": 1,
   "id": "alert-comedy",
   "metadata": {},
   "outputs": [
    {
     "name": "stdout",
     "output_type": "stream",
     "text": [
      "First element of tupe t1 is: Data\n",
      "Last element of tuple t1 is: Masters\n"
     ]
    }
   ],
   "source": [
    "# index() method example\n",
    "\n",
    "t1 = ('Data','Science','Masters')\n",
    "\n",
    "print(\"First element of tupe t1 is:\", t1[0])\n",
    "print(\"Last element of tuple t1 is:\", t1[-1])"
   ]
  },
  {
   "cell_type": "code",
   "execution_count": 2,
   "id": "grave-cornwall",
   "metadata": {},
   "outputs": [
    {
     "name": "stdout",
     "output_type": "stream",
     "text": [
      "'a' is appears 4 times in tuple t2.\n"
     ]
    }
   ],
   "source": [
    "# count() method example\n",
    "\n",
    "t2 = ('a','b','c','a','d','e','a','b','a')\n",
    "\n",
    "print(\"'a' is appears\", t2.count('a') ,\"times in tuple t2.\")"
   ]
  },
  {
   "cell_type": "markdown",
   "id": "protected-aging",
   "metadata": {},
   "source": [
    "#### Q3.  Which collection datatypes in python do not allow duplicate items? Write a code using a set to remove duplicates from the given list. \n",
    "\n",
    "List = [1, 1, 1, 2, 1, 3, 1, 4, 2, 1, 2, 2, 2, 3, 2, 4, 3, 1, 3, 2, 3, 3, 3, 4, 4, 1, 4, 2, 4, 3, 4, 4]"
   ]
  },
  {
   "cell_type": "markdown",
   "id": "figured-level",
   "metadata": {},
   "source": [
    "**Set()** is not allow to store duplicate items in its collection."
   ]
  },
  {
   "cell_type": "code",
   "execution_count": 3,
   "id": "parental-evans",
   "metadata": {},
   "outputs": [
    {
     "name": "stdout",
     "output_type": "stream",
     "text": [
      "List Items (with duplicates): [1, 1, 1, 2, 1, 3, 1, 4, 2, 1, 2, 2, 2, 3, 2, 4, 3, 1, 3, 2, 3, 3, 3, 4, 4, 1, 4, 2, 4, 3, 4, 4]\n",
      "\n",
      "Set Items (no duplicates): {1, 2, 3, 4}\n"
     ]
    }
   ],
   "source": [
    "List = [1, 1, 1, 2, 1, 3, 1, 4, 2, 1, 2, 2, 2, 3, 2, 4, 3, 1, 3, 2, 3, 3, 3, 4, 4, 1, 4, 2, 4, 3, 4, 4]\n",
    "\n",
    "s1 = set(List)\n",
    "\n",
    "print(\"List Items (with duplicates):\", List)\n",
    "\n",
    "print(\"\\nSet Items (no duplicates):\", s1)"
   ]
  },
  {
   "cell_type": "markdown",
   "id": "studied-python",
   "metadata": {},
   "source": [
    "#### Q4. Explain the difference between the union() and update() methods for a set. Give an example of each method."
   ]
  },
  {
   "cell_type": "markdown",
   "id": "binding-trout",
   "metadata": {},
   "source": [
    "The `union()` method returns a set that contains all items from the original set, and all items from the specified set(s).\n",
    "It does not have to be a set, it can be any iterable object.\n",
    "\n",
    "The `update()` method updates the current set, by adding items from another set (or any other iterable)."
   ]
  },
  {
   "cell_type": "code",
   "execution_count": 4,
   "id": "closed-compiler",
   "metadata": {},
   "outputs": [
    {
     "name": "stdout",
     "output_type": "stream",
     "text": [
      "Union method of Set: {(1, 2), 'f', 'd', (1,), 'e', 'b', 'c', 'a'}\n"
     ]
    }
   ],
   "source": [
    "# union() method example\n",
    "s1 = {\"a\", \"b\", \"c\", \"d\"}\n",
    "s2 = {\"c\", \"d\", \"e\", (1, 2)}\n",
    "s3 = {\"e\", \"f\",(1,), (1, 2)}\n",
    "\n",
    "new_set = s1.union(s2, s3)\n",
    "\n",
    "print(\"Union method of Set:\", new_set)"
   ]
  },
  {
   "cell_type": "code",
   "execution_count": 5,
   "id": "continuous-green",
   "metadata": {},
   "outputs": [
    {
     "name": "stdout",
     "output_type": "stream",
     "text": [
      "Update method of Set: {(1, 2), 'f', 'd', (1,), 'e', 'b', 'c', 'a'}\n"
     ]
    }
   ],
   "source": [
    "# update() method example\n",
    "\n",
    "s1 = {\"a\", \"b\", \"c\", \"d\"}\n",
    "s2 = {\"c\", \"d\", \"e\", (1, 2)}\n",
    "s3 = {\"e\", \"f\",(1,), (1, 2)}\n",
    "\n",
    "s1.update(s2, s3)\n",
    "\n",
    "print(\"Update method of Set:\", s1)"
   ]
  },
  {
   "cell_type": "markdown",
   "id": "molecular-philippines",
   "metadata": {},
   "source": [
    "#### Q5. What is a dictionary? Give an example. Also, state whether a dictionary is ordered or unordered."
   ]
  },
  {
   "cell_type": "markdown",
   "id": "seven-shooting",
   "metadata": {},
   "source": [
    "Dictionaries are used to store data/items in a key:value pairs.\n",
    "\n",
    "A dictionary is a collection which is **ordered***, changeable and do not allow duplicates.\n",
    "\n",
    "**As of Python version 3.7, dictionaries are ordered. In Python 3.6 and earlier, dictionaries are unordered.**"
   ]
  },
  {
   "cell_type": "code",
   "execution_count": 6,
   "id": "radical-start",
   "metadata": {},
   "outputs": [
    {
     "name": "stdout",
     "output_type": "stream",
     "text": [
      "Dictinary: {'brand': 'Toyota', 'model': 'Corolla', 'year': 2000, 'color': 'silver'}\n"
     ]
    }
   ],
   "source": [
    "# dictionary example\n",
    "\n",
    "d1 = {\n",
    "  \"brand\": \"Toyota\",\n",
    "  \"model\": \"Corolla\",\n",
    "  \"year\": 2000,\n",
    "  \"color\": \"silver\"        \n",
    "}\n",
    "\n",
    "print(\"Dictinary:\", d1)"
   ]
  },
  {
   "cell_type": "markdown",
   "id": "annual-verification",
   "metadata": {},
   "source": [
    "#### Q6. Can we create a nested dictionary? If so, please give an example by creating a simple one-level nested dictionary."
   ]
  },
  {
   "cell_type": "markdown",
   "id": "becoming-brooks",
   "metadata": {},
   "source": [
    "Yes. We can create nested dictionary."
   ]
  },
  {
   "cell_type": "code",
   "execution_count": 7,
   "id": "interstate-funds",
   "metadata": {},
   "outputs": [
    {
     "name": "stdout",
     "output_type": "stream",
     "text": [
      "{'car1': {'brand': 'Audi', 'model': 'R8'}, 'car2': {'brand': 'Alfa Romeo', 'model': 'GIULIA'}, 'car3': {'brand': 'BMW', 'model': 'M5'}}\n"
     ]
    }
   ],
   "source": [
    "# nested dictionary example\n",
    "\n",
    "car1 = {\"brand\": \"Audi\", \"model\": \"R8\"}\n",
    "car2 = {\"brand\": \"Alfa Romeo\", \"model\": \"GIULIA\"}\n",
    "car3 = {\"brand\": \"BMW\", \"model\": \"M5\"}\n",
    "\n",
    "my_sport_car_collection = {\n",
    "    \"car1\": car1,\n",
    "    \"car2\": car2,\n",
    "    \"car3\": car3\n",
    "}\n",
    "\n",
    "print(my_sport_car_collection)\n"
   ]
  },
  {
   "cell_type": "markdown",
   "id": "million-invention",
   "metadata": {},
   "source": [
    "#### Q7. Using setdefault() method, create key named topics in the given dictionary and also add the value of the key as this\n",
    "\n",
    "list ['Python', 'Machine Learning’, 'Deep Learning']\n",
    "\n",
    "dict1 = {'language' : 'Python', 'course': 'Data Science Masters'}"
   ]
  },
  {
   "cell_type": "code",
   "execution_count": 8,
   "id": "recovered-operator",
   "metadata": {},
   "outputs": [
    {
     "name": "stdout",
     "output_type": "stream",
     "text": [
      "{'language': 'Python', 'course': 'Data Science Masters', 'topics': ['Python', 'Machine Learning', 'Deep Learning']}\n"
     ]
    }
   ],
   "source": [
    "# setdefault() method example of dictinary\n",
    "\n",
    "dict1 = {'language' : 'Python', 'course': 'Data Science Masters'}\n",
    "\n",
    "dict1.setdefault('topics',  ['Python', 'Machine Learning', 'Deep Learning'])\n",
    "\n",
    "print(dict1)"
   ]
  },
  {
   "cell_type": "markdown",
   "id": "native-covering",
   "metadata": {},
   "source": [
    "#### Q8. What are the three view objects in dictionaries? Use the three in-built methods in python to display these three view objects for the given dictionary.\n",
    "\n",
    "dict1 = {'Sport': 'Cricket' , 'Teams': ['India', 'Australia', 'England', 'South Africa', 'Sri Lanka', 'New Zealand']}"
   ]
  },
  {
   "cell_type": "markdown",
   "id": "southeast-vessel",
   "metadata": {},
   "source": [
    "In the python dictionary, some of the methods return **view objects.** These view objects are **dynamic view objects,** meaning that when the dictionary changes, the view reflects these changes\n",
    "\n",
    "The three view objects in dictionaries are as below:\n",
    "1. dict.keys()\n",
    "2. dict.values()\n",
    "3. dict.items()"
   ]
  },
  {
   "cell_type": "code",
   "execution_count": 9,
   "id": "sharp-morning",
   "metadata": {},
   "outputs": [],
   "source": [
    "dict1 = {\n",
    "    'Sport': 'Cricket', \n",
    "    'Teams': ['India', 'Australia', 'England', 'South Africa', 'Sri Lanka', 'New Zealand']\n",
    "}"
   ]
  },
  {
   "cell_type": "code",
   "execution_count": 10,
   "id": "commercial-season",
   "metadata": {},
   "outputs": [
    {
     "name": "stdout",
     "output_type": "stream",
     "text": [
      "Key of the dictionary: dict_keys(['Sport', 'Teams'])\n",
      "\n",
      "Sport -> Cricket\n",
      "Teams -> ['India', 'Australia', 'England', 'South Africa', 'Sri Lanka', 'New Zealand']\n"
     ]
    }
   ],
   "source": [
    "# dict.keys() method\n",
    "\n",
    "print(\"Key of the dictionary:\", dict1.keys())\n",
    "\n",
    "print()\n",
    "\n",
    "for k in dict1.keys():\n",
    "    print(f\"{k} -> {dict1[k]}\")"
   ]
  },
  {
   "cell_type": "code",
   "execution_count": 11,
   "id": "unnecessary-corruption",
   "metadata": {},
   "outputs": [
    {
     "name": "stdout",
     "output_type": "stream",
     "text": [
      "Values of the dictionary: dict_values(['Cricket', ['India', 'Australia', 'England', 'South Africa', 'Sri Lanka', 'New Zealand']])\n",
      "\n",
      "Cricket\n",
      "['India', 'Australia', 'England', 'South Africa', 'Sri Lanka', 'New Zealand']\n"
     ]
    }
   ],
   "source": [
    "# dict.values() method\n",
    "\n",
    "print(\"Values of the dictionary:\", dict1.values())\n",
    "\n",
    "print()\n",
    "\n",
    "for v in dict1.values():\n",
    "    print(f\"{v}\")"
   ]
  },
  {
   "cell_type": "code",
   "execution_count": 12,
   "id": "virtual-small",
   "metadata": {},
   "outputs": [
    {
     "name": "stdout",
     "output_type": "stream",
     "text": [
      "Items of the dictionary: dict_items([('Sport', 'Cricket'), ('Teams', ['India', 'Australia', 'England', 'South Africa', 'Sri Lanka', 'New Zealand'])])\n",
      "\n",
      "Sport --> Cricket\n",
      "Teams --> ['India', 'Australia', 'England', 'South Africa', 'Sri Lanka', 'New Zealand']\n"
     ]
    }
   ],
   "source": [
    "# dict.items() method\n",
    "\n",
    "print(\"Items of the dictionary:\", dict1.items())\n",
    "\n",
    "print()\n",
    "\n",
    "for k, v in dict1.items():\n",
    "    print(f\"{k} --> {v}\")"
   ]
  },
  {
   "cell_type": "code",
   "execution_count": null,
   "id": "exposed-switzerland",
   "metadata": {},
   "outputs": [],
   "source": []
  }
 ],
 "metadata": {
  "kernelspec": {
   "display_name": "Python 3",
   "language": "python",
   "name": "python3"
  },
  "language_info": {
   "codemirror_mode": {
    "name": "ipython",
    "version": 3
   },
   "file_extension": ".py",
   "mimetype": "text/x-python",
   "name": "python",
   "nbconvert_exporter": "python",
   "pygments_lexer": "ipython3",
   "version": "3.8.2"
  }
 },
 "nbformat": 4,
 "nbformat_minor": 5
}
