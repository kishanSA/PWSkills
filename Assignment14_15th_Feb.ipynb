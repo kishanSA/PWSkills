{
 "cells": [
  {
   "cell_type": "markdown",
   "id": "scheduled-alloy",
   "metadata": {},
   "source": [
    "## <u> Assignment14 - 15th Feb </u>"
   ]
  },
  {
   "cell_type": "markdown",
   "id": "selected-hayes",
   "metadata": {},
   "source": [
    "#### Q1. What is multiprocessing in python? Why is it useful? "
   ]
  },
  {
   "cell_type": "markdown",
   "id": "russian-archive",
   "metadata": {},
   "source": [
    "Multiprocessing refers to the ability of a system to support more than one processor at the same time. Applications in a multiprocessing system are broken to smaller routines that run independently. The operating system allocates these threads to the processors improving performance of the system.\n",
    "\n",
    "Let take an example why it is useful.\n",
    "\n",
    "Consider a computer system with a single processor. If it is assigned several processes at the same time, it will have to interrupt each task and switch briefly to another, to keep all of the processes going."
   ]
  },
  {
   "cell_type": "markdown",
   "id": "mathematical-lunch",
   "metadata": {},
   "source": [
    "#### Q2. What are the differences between multiprocessing and multithreading?"
   ]
  },
  {
   "cell_type": "markdown",
   "id": "federal-ranking",
   "metadata": {},
   "source": [
    "**Multithreading**\n",
    "\n",
    "- `Multithreading` is a technique where multiple threads are spawned by a process to do different tasks, at about the same time, just one after the other. \n",
    "\n",
    "- This gives you the illusion that the threads are running in parallel, but they are actually run in a concurrent manner.\n",
    "\n",
    "- In Python, the Global Interpreter Lock (GIL) prevents the threads from running simultaneously.\n",
    "\n",
    "\n",
    "**Multiprocessing**\n",
    "\n",
    "- `Multiprocessing` is a technique where parallelism in its truest form is achieved. \n",
    "- Multiple processes are run across multiple CPU cores, which do not share the resources among them. \n",
    "- Each process can have many threads running in its own memory space. \n",
    "- In Python, each process has its own instance of Python interpreter doing the job of executing the instructions."
   ]
  },
  {
   "cell_type": "markdown",
   "id": "adolescent-pharmacology",
   "metadata": {},
   "source": [
    "#### Q3. Write a python code to create a process using the multiprocessing module."
   ]
  },
  {
   "cell_type": "code",
   "execution_count": 1,
   "id": "municipal-desktop",
   "metadata": {},
   "outputs": [],
   "source": [
    "import multiprocessing"
   ]
  },
  {
   "cell_type": "code",
   "execution_count": 2,
   "id": "aboriginal-massage",
   "metadata": {},
   "outputs": [
    {
     "name": "stdout",
     "output_type": "stream",
     "text": [
      "Even numbers: [2, 4, 6, 8]\n",
      "Odd numbers: [1, 3, 5, 7]\n",
      "Finished\n"
     ]
    }
   ],
   "source": [
    "def even(nums):\n",
    "    lst = [n for n in nums if n%2 == 0]\n",
    "    print(f\"Even numbers: {lst}\")\n",
    "\n",
    "def odd(nums):\n",
    "    lst = [n for n in nums if n%2 != 0]\n",
    "    print(f\"Odd numbers: {lst}\")\n",
    "    \n",
    "if __name__ == \"__main__\":\n",
    "    nums = [1, 2, 3, 4, 5, 6, 7, 8]\n",
    "    p1 = multiprocessing.Process(target=even, args=(nums,))\n",
    "    p2 = multiprocessing.Process(target=odd, args=(nums,))\n",
    "\n",
    "    p1.start()\n",
    "    p2.start()\n",
    "    p1.join()\n",
    "    p2.join()\n",
    "\n",
    "    print(\"Finished\")"
   ]
  },
  {
   "cell_type": "markdown",
   "id": "ordered-examination",
   "metadata": {},
   "source": [
    "#### Q4. What is a multiprocessing pool in python? Why is it used?"
   ]
  },
  {
   "cell_type": "markdown",
   "id": "6f6af59f-023c-47a8-9c71-33274499d309",
   "metadata": {},
   "source": [
    "In python, multiprocessing Pool can be used for parallel execution of a function across multiple input values, distributing the input data across processes (data parallelism).\n",
    "\n",
    "The best use of multiprocessing pool in python is that it allows the developer to use multiple processors at the same time for given system."
   ]
  },
  {
   "cell_type": "markdown",
   "id": "southern-parcel",
   "metadata": {},
   "source": [
    "#### Q5. How can we create a pool of worker processes in python using the multiprocessing module?"
   ]
  },
  {
   "cell_type": "markdown",
   "id": "0c0f2711-4bb6-4c24-836a-b85ff87045b4",
   "metadata": {},
   "source": [
    "The multiprocessing.Pool in Python provides a pool of reusable processes for executing ad hoc tasks.\n",
    "\n",
    "A process pool can be configured when it is created, which will prepare the child workers.\n",
    "\n",
    "We can configure the number of worker processes in the multiprocessing.Pool by setting the “processes” argument in the constructor."
   ]
  },
  {
   "cell_type": "code",
   "execution_count": 3,
   "id": "tropical-cleaning",
   "metadata": {},
   "outputs": [],
   "source": [
    "# create a process pool with 4 workers\n",
    "pool = multiprocessing.Pool(processes=4)"
   ]
  },
  {
   "cell_type": "markdown",
   "id": "entertaining-replica",
   "metadata": {},
   "source": [
    "#### Q6. Write a python program to create 4 processes, each process should print a different number using the multiprocessing module in python."
   ]
  },
  {
   "cell_type": "code",
   "execution_count": 4,
   "id": "excess-preservation",
   "metadata": {},
   "outputs": [],
   "source": [
    "import multiprocessing"
   ]
  },
  {
   "cell_type": "code",
   "execution_count": 5,
   "id": "sitting-success",
   "metadata": {},
   "outputs": [
    {
     "name": "stdin",
     "output_type": "stream",
     "text": [
      "Enter a number: 4\n"
     ]
    },
    {
     "name": "stdout",
     "output_type": "stream",
     "text": [
      "\n",
      "Square of 4 is 16.\n",
      "\n",
      "Square root of 4 is 2.\n",
      "\n",
      "Cube of 4 is 64.\n",
      "\n",
      "Cube root of 8 is 2.\n",
      "\n",
      "End of processes.\n"
     ]
    }
   ],
   "source": [
    "def square(n):\n",
    "    print(f\"Square of {n} is {n**2}.\\n\")\n",
    "    \n",
    "def square_root(n):\n",
    "    print(f\"Square root of {n} is {n**0.5:.0f}.\\n\")\n",
    "    \n",
    "def cube(n):\n",
    "    print(f\"Cube of {n} is {n**3}.\\n\")\n",
    "    \n",
    "def cube_root(n):\n",
    "    print(f\"Cube root of {n} is {n**(1/3):.0f}.\\n\")\n",
    "    \n",
    "if __name__ == \"__main__\":\n",
    "    num = int(input(\"Enter a number:\"))\n",
    "    print()\n",
    "    m1 = multiprocessing.Process(target=square, args=(num,))\n",
    "    m2 = multiprocessing.Process(target=square_root, args=(num,))\n",
    "    m3 = multiprocessing.Process(target=cube, args=(num,))\n",
    "    m4 = multiprocessing.Process(target=cube_root, args=(num*2,))\n",
    "    \n",
    "    proc = [m1, m2, m3, m4]\n",
    "    for m in proc:\n",
    "        m.start()\n",
    "    \n",
    "    for m in proc:\n",
    "        m.join()\n",
    "        \n",
    "    for m in proc:\n",
    "        m.close()\n",
    "        \n",
    "    print(\"End of processes.\")   "
   ]
  },
  {
   "cell_type": "code",
   "execution_count": null,
   "id": "f1f34652-b808-4775-873e-89465ed966c5",
   "metadata": {},
   "outputs": [],
   "source": []
  }
 ],
 "metadata": {
  "kernelspec": {
   "display_name": "Python 3 (ipykernel)",
   "language": "python",
   "name": "python3"
  },
  "language_info": {
   "codemirror_mode": {
    "name": "ipython",
    "version": 3
   },
   "file_extension": ".py",
   "mimetype": "text/x-python",
   "name": "python",
   "nbconvert_exporter": "python",
   "pygments_lexer": "ipython3",
   "version": "3.10.8"
  }
 },
 "nbformat": 4,
 "nbformat_minor": 5
}
