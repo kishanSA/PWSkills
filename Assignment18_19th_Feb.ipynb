{
 "cells": [
  {
   "cell_type": "markdown",
   "id": "641c3b7f-e8a2-4774-ae81-33d53f38087e",
   "metadata": {},
   "source": [
    "## <u> Assignment 18 - 19th Feb  </u>"
   ]
  },
  {
   "cell_type": "markdown",
   "id": "ee4a87f8-76f2-4e56-8909-3e478d9dd06d",
   "metadata": {},
   "source": [
    "#### Q1. What is Flask Framework? What are the advantages of Flask Framework?\n",
    "Flask is a web framework. This means flask provides you with tools, libraries and technologies that allow you to build a web application. This web application can be some web pages, a blog, a wiki or go as big as a web-based calendar application or a commercial website.\n",
    "\n",
    "<u>*Advantages of using Flask:*</u>\n",
    "\n",
    "**Scalable**\n",
    "Today, applications are often running in containers or using cloud computing with auto-scaling. Applications do not typically \"scale\" themselves. The infrastructure scales. With a smaller application, it's easier to deploy instances across thousands of server easily to handle increased traffic/load. That’s part of the reason why Pinterest needed to migrate from Django to Flask as they grew to support more of a microservices pattern.\n",
    "\n",
    "**Simpler Development**\n",
    "If you understand Python well, then you'll be able to move around and contribute to a Flask application pretty easily. It's less opinionated so fewer standards to learn.\n",
    "\n",
    "**Flexibility**\n",
    "There are very few parts of Flask that cannot be easily and safely altered because of its simplicity and minimality.\n",
    "\n",
    "**Performance**\n",
    "You can think about a micro framework being slightly more “low-level” than something like Django. There are fewer levels of abstraction between you and the database, the requests, the cache, etc. So performance is inherently better from the start.\n",
    "\n",
    "**Modularity**\n",
    "Modular code provides a huge number of benefits. With Flask, you have the ability to create multiple Flask applications or servers, distributed across a large network of servers, each with specific purposes. This creates more efficiency, better testability, and better performance."
   ]
  },
  {
   "cell_type": "markdown",
   "id": "c75053f5-2225-478a-ba86-7de2c7369cc7",
   "metadata": {},
   "source": [
    "#### Q2. Create a simple Flask application to display 'Hello World!!'. Attach the screenshot of the output in Jupyter Notebook."
   ]
  },
  {
   "cell_type": "code",
   "execution_count": 1,
   "id": "d0adc182-7c48-438a-a739-9c8519b492a0",
   "metadata": {},
   "outputs": [
    {
     "name": "stdout",
     "output_type": "stream",
     "text": [
      " * Serving Flask app '__main__'\n",
      " * Debug mode: off\n"
     ]
    },
    {
     "name": "stderr",
     "output_type": "stream",
     "text": [
      "WARNING: This is a development server. Do not use it in a production deployment. Use a production WSGI server instead.\n",
      " * Running on all addresses (0.0.0.0)\n",
      " * Running on http://127.0.0.1:5000\n",
      " * Running on http://192.168.0.123:5000\n",
      "Press CTRL+C to quit\n"
     ]
    }
   ],
   "source": [
    "from flask import Flask\n",
    "\n",
    "app = Flask(__name__)\n",
    "\n",
    "@app.route(\"/\")\n",
    "def hello_world():\n",
    "    return \"<h1 align='center'>Hello, World!!</h1>\"\n",
    "\n",
    "if __name__==\"__main__\":\n",
    "    app.run(host=\"0.0.0.0\")"
   ]
  },
  {
   "cell_type": "markdown",
   "id": "opening-photography",
   "metadata": {},
   "source": [
    "<img src='A19_Q2.png' alt=\"Question 2 - Image\" style=\"border: 1px solid black\"> </img>"
   ]
  },
  {
   "cell_type": "markdown",
   "id": "1ecb8b1d-3de3-431e-8c2a-bd6187f8fe05",
   "metadata": {},
   "source": [
    "#### Q3. What is App routing in Flask? Why do we use app routes?"
   ]
  },
  {
   "cell_type": "markdown",
   "id": "annual-mistress",
   "metadata": {},
   "source": [
    "**App Routing** means mapping the URLs to a specific function that will handle the logic for that URL. Modern web frameworks use more meaningful URLs to help users remember the URLs and make navigation simpler. \n",
    "```python\n",
    "@app.route('/')\n",
    "def func_name():\n",
    "    # code logic \n",
    "```\n",
    "\n",
    "In above code, URL `('/')` is associated with the root URL. So if our site's domain was www.pwskills.com and we want to add routing to \"www.pwskills.com/hello\", we would use `'/hello'`. \n",
    "\n",
    "App routes in Flask are used to build web applications that respond to different requests which are given by users.\n",
    "\n",
    "For example, if our website have different pages like home, login, profile, contact us etc., we will create functions for each of them to display page/logic so our code look organized and in future if want to change that page, just update that funtion related to that code.\n",
    "\n",
    "In short, the app routing is a key part of builiding web application in Flask."
   ]
  },
  {
   "cell_type": "markdown",
   "id": "fd1cbf5d-7c56-4957-8be2-f1f2154d5da5",
   "metadata": {},
   "source": [
    "#### Q4.  Create a “/welcome” route to display the welcome message \"Welcome to ABC Corporation\" and a \"/\" route to show the following details:\n",
    "    \n",
    "Company Name: ABC Corporation\n",
    "\n",
    "Location: India\n",
    "\n",
    "Contact Detail: 999-999-9999 \n",
    "\n",
    "\n",
    "Attach the screenshot of the output in Jupyter Notebook."
   ]
  },
  {
   "cell_type": "code",
   "execution_count": 2,
   "id": "505a6ee0-c858-42bf-8dab-95dcdf41740f",
   "metadata": {},
   "outputs": [
    {
     "name": "stdout",
     "output_type": "stream",
     "text": [
      " * Serving Flask app '__main__'\n",
      " * Debug mode: off\n"
     ]
    },
    {
     "name": "stderr",
     "output_type": "stream",
     "text": [
      "WARNING: This is a development server. Do not use it in a production deployment. Use a production WSGI server instead.\n",
      " * Running on all addresses (0.0.0.0)\n",
      " * Running on http://127.0.0.1:5000\n",
      " * Running on http://192.168.0.123:5000\n",
      "Press CTRL+C to quit\n"
     ]
    }
   ],
   "source": [
    "from flask import Flask\n",
    "\n",
    "appFlask = Flask(__name__)\n",
    "\n",
    "@appFlask.route(\"/welcome\")\n",
    "def welcome():\n",
    "    return \"<b>Welcome to ABC Corporation</b>\"\n",
    "\n",
    "@appFlask.route(\"/\")\n",
    "def inde():\n",
    "    return '''\n",
    "        <h1>Company Name: ABC Corporation</h1>\n",
    "        <p>Location: India</p>\n",
    "        <p>Contact Detail: 999-999-9999</p>\n",
    "    '''\n",
    "\n",
    "if __name__==\"__main__\":\n",
    "    appFlask.run(host=\"0.0.0.0\")"
   ]
  },
  {
   "cell_type": "markdown",
   "id": "brief-royal",
   "metadata": {},
   "source": [
    "<img src='A19_Q4-1.png' style=\"border: 1px solid black\"></img>"
   ]
  },
  {
   "cell_type": "markdown",
   "id": "identified-matrix",
   "metadata": {},
   "source": [
    "<img src='A19_Q4-2.png' style=\"border: 1px solid black\"></img>"
   ]
  },
  {
   "cell_type": "markdown",
   "id": "36b53f63-5e4b-43fc-a339-8b33d1daad32",
   "metadata": {},
   "source": [
    "#### Q5. What function is used in Flask for URL Building? Write a Python code to demonstrate the working of the url_for() function."
   ]
  },
  {
   "cell_type": "markdown",
   "id": "20b7097d-d8fc-4303-97b3-165b852a86c2",
   "metadata": {},
   "source": [
    "Flask `url_for()` is defined as a function that enables developers to build and generate URLs on a Flask application. As a best practice, it is the url_for function that is required to be used, as hard coding the URL in templates and view function of the Flask application tends to utilize more time during modification. If we are using hard coding, and in case we would need to change our URL by inserting another element in the URL, we would have to visit each and every template or form in the code library and make the modifications and will lead to overkill. The url_for function is capable of changing this with just a snap of fingers!"
   ]
  },
  {
   "cell_type": "code",
   "execution_count": 3,
   "id": "99e8ce8b-185a-42ef-8f15-f1e81d36d102",
   "metadata": {},
   "outputs": [
    {
     "name": "stdout",
     "output_type": "stream",
     "text": [
      "URL of my home page is: /home\n",
      "URL for author is: /autherName/Ken_Ghose\n",
      "URL for author is: /autherName/J.K.Rowling\n"
     ]
    }
   ],
   "source": [
    "from flask import url_for, Flask\n",
    "\n",
    "appFlask = Flask(__name__)\n",
    "\n",
    "@appFlask.route('/home')\n",
    "def home():\n",
    "    return \"We are landed in Home Page!\"\n",
    "\n",
    "@appFlask.route('/autherName/<author>')\n",
    "def profile(author):\n",
    "    return f'{author}\\'s profile'\n",
    "\n",
    "with appFlask.test_request_context():\n",
    "    print(\"URL of my home page is:\", url_for('home'))\n",
    "    print(\"URL for author is:\",url_for('profile', author='Ken_Ghose'))\n",
    "    print(\"URL for author is:\",url_for('profile', author='J.K.Rowling'))"
   ]
  },
  {
   "cell_type": "markdown",
   "id": "16bbc31a-8cdb-4601-9151-cf4f35d67e3a",
   "metadata": {},
   "source": [
    "Here we are using the `test_request_context()` block to create fake request cotext. It is required for the `url_for()` function to accessible outside of request handler."
   ]
  },
  {
   "cell_type": "code",
   "execution_count": null,
   "id": "f5a6f61b-dc00-4ea8-9f61-1a35b08b6dc2",
   "metadata": {},
   "outputs": [],
   "source": []
  }
 ],
 "metadata": {
  "kernelspec": {
   "display_name": "Python 3",
   "language": "python",
   "name": "python3"
  },
  "language_info": {
   "codemirror_mode": {
    "name": "ipython",
    "version": 3
   },
   "file_extension": ".py",
   "mimetype": "text/x-python",
   "name": "python",
   "nbconvert_exporter": "python",
   "pygments_lexer": "ipython3",
   "version": "3.8.2"
  }
 },
 "nbformat": 4,
 "nbformat_minor": 5
}
