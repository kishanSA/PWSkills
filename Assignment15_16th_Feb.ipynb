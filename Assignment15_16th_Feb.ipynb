{
 "cells": [
  {
   "cell_type": "markdown",
   "id": "subject-extraction",
   "metadata": {},
   "source": [
    "## <u> Assignment 15 - 16th Feb </u>"
   ]
  },
  {
   "cell_type": "markdown",
   "id": "patient-senator",
   "metadata": {},
   "source": [
    "#### Q1. What is a database? Differentiate between SQL and NoSQL databases.\n",
    "\n",
    "In computing, a database is an organized collection of structured data/information stored and accessed electronically.\n",
    "\n",
    "**SQL**\n",
    "- SQL database or relational database is a collection of highly structured tables, wherein each row reflects a data entity, and every column defines a specific information field. \n",
    "- Relational databases are built using the structured query language (SQL) to create, store, update, and retrieve data.\n",
    "- SQL is the underlying programming language for all relational database management systems (RDBMS) such as MySQL, Oracle, PostgreSQL, Microsoft SQL Server,and Sybase, among others.\n",
    "\n",
    "**NoSQL**\n",
    "- NoSQL databases store data in a document format instead of tables. \n",
    "- NoSQL databases store non-structured data such as photos, videos, articles, and more in a single document. \n",
    "\n",
    "Below are a few of the key differences between SQL and NoSQL databases:\n",
    "\n",
    "**Database Structure:** \n",
    "Unlike relational databases with tables to store information, NoSQL databases employ a key-value-pairs approach to store all data in one place. In this case, the key indicates a unique element, for example, an email address for employees.\n",
    "\n",
    "**Flexibility:**\n",
    "NoSQL databases can store vast amounts of unstructured data without constraints on the types of data users want to keep together. Flexibility in storing different new types of data as per the varying needs makes NoSQL databases more intuitive and broadens the scope of application. However, databases require extra processing effort and more storage than relational databases.\n",
    "\n",
    "**Consistency:**\n",
    "Ensuring data availability and data consistency are critical aspects to ensure exceptional database performance. \n",
    "While relational databases always ensure consistent data across SQL database server instances, some NoSQL databases, such as Redis, respond to a query with information that may be incorrect by a few seconds."
   ]
  },
  {
   "cell_type": "markdown",
   "id": "overhead-handle",
   "metadata": {},
   "source": [
    "#### Q2. What is DDL? Explain why CREATE, DROP, ALTER, and TRUNCATE are used with an example.\n",
    "\n",
    "**DDL** or Data Definition Language is a set of SQL commands used to create, modify, and delete database structures but not data. These commands are normally not used by a general user, who should be accessing the database via an application.\n",
    "\n",
    "- **CREATE:** This command is used to create the database or its objects (like table, index, function, views, store procedure, and triggers).\n",
    "\n",
    "`\n",
    "CREATE TABLE tblStudent (\n",
    "\tStud_No INT,\n",
    "\tStud_Name VARCHAR(50),\n",
    "\tStud_Address VARCHAR(500)\n",
    ");\n",
    "`\n",
    "\n",
    "- **DROP:** This command is used to delete objects from the database.\n",
    "\n",
    "`DROP TABLE tblStudent;`\n",
    "\n",
    "- **ALTER:** This is used to alter the structure of the database.\n",
    "\n",
    "`\n",
    "ALTER TABLE tblStudent\n",
    "ADD COLUMN Stud_Phone VARCHAR(5);`\n",
    "\n",
    "`ALTER TABLE tblStudent\n",
    "MODIFY COLUMN Stud_Phone VARCHAR(20);`\n",
    "\n",
    "- **TRUNCATE:** This is used to remove all records from a table, including all spaces allocated for the records are removed. This will preserved the structure of table for future use.\n",
    "\n",
    "`TRUNCATE TABLE tblStudent;`"
   ]
  },
  {
   "cell_type": "markdown",
   "id": "answering-plaza",
   "metadata": {},
   "source": [
    "#### Q3. What is DML? Explain INSERT, UPDATE, and DELETE with an example.\n",
    "\n",
    "The SQL commands that deals with the manipulation of data present in the database belong to **DML** or Data Manipulation Language and this includes most of the SQL statements. It is the component of the SQL statement that controls access to data and to the database. \n",
    "\n",
    "\n",
    "- **INSERT:** It is used to insert data into a table.\n",
    "`\n",
    "INSERT INTO tblStudent(Stud_No, Stud_Name, Stud_Address, Stud_Phone)\n",
    "VALUES(1, 'Richard', 'Raleigh, NC', 'xxx-xxx-1234')\n",
    "\n",
    "INSERT INTO tblStudent(Stud_No, Stud_Name, Stud_Address, Stud_Phone)\n",
    "VALUES(2, 'Beckey', 'Chicago, IL', 'xxx-xxx-4567')\n",
    "\n",
    "INSERT INTO tblStudent(Stud_No, Stud_Name, Stud_Address, Stud_Phone)\n",
    "VALUES(3, 'Ronaldo', 'Pittsburg, PA', 'xxx-xxx-7845')\n",
    "`\n",
    "\n",
    "- **UPDATE:** It is used to update existing data within a table.\n",
    "\n",
    "`UPDATE tblStudent \n",
    "SET Stud_Name = 'Rebecca'\n",
    "WHERE Stud_No = 2;\n",
    "`\n",
    "\n",
    "- **DELETE:** It is used to delete records from a database table.\n",
    "\n",
    "`\n",
    "DELETE \n",
    "FROM tblStudent\n",
    "WHERE Stud_Name = 'Ronaldo';\n",
    "`"
   ]
  },
  {
   "cell_type": "markdown",
   "id": "adjustable-shadow",
   "metadata": {},
   "source": [
    "#### Q4. What is DQL? Explain SELECT with an example.\n",
    "\n",
    "**DQL** (Data Query Language) statements are used for performing queries on the data within schema objects. The purpose of the DQL Command is to get some schema relation based on the query passed to it.\n",
    "\n",
    "\n",
    "**SELECT:** It is used to retrieve or fetch data from a database/table. It is most commonly used statement in SQL.\n",
    "We can fetch either the entire table or according to some specified rules. \n",
    "\n",
    "`\n",
    "SELECT *\n",
    "FROM tblStudent;\n",
    "`\n",
    "\n",
    "`\n",
    "SELECT Stud_No, Stud_Name\n",
    "FROM tblStudent\n",
    "WHERE Stud_Name like 'R%';\n",
    "`"
   ]
  },
  {
   "cell_type": "markdown",
   "id": "specific-surgery",
   "metadata": {},
   "source": [
    "#### Q5. Explain Primary Key and Foreign Key.\n",
    "\n",
    "**Primary Key:**\n",
    "- A primary key is used to ensure data in the specific column is unique.\n",
    "- It uniquely identifies a record in the relational database table.\n",
    "- Only one primary key is allowed in a table.\n",
    "- It is a combination of UNIQUE and Not Null constraints.\n",
    "- It does not allow NULL values.\n",
    "- Its value cannot be deleted from the parent table. \n",
    "\n",
    "**Foreign Key:**\n",
    "- A foreign key is a column or group of columns in a relational database table that provides a link between data in two tables.\n",
    "- It refers to the field in a table which is the primary key of another table.\n",
    "- More than one foreign key are allowed in a table.\n",
    "- It can contain duplicate values and a table in a relational database.\n",
    "- It can contain NULL values.\n",
    "- Its value can be deleted from the child table.\n"
   ]
  },
  {
   "cell_type": "markdown",
   "id": "eight-starter",
   "metadata": {},
   "source": [
    "#### Q6. Write a python code to connect MySQL to python. Explain the cursor() and execute() method."
   ]
  },
  {
   "cell_type": "code",
   "execution_count": null,
   "id": "vocational-auction",
   "metadata": {},
   "outputs": [],
   "source": [
    "# python code for connecting MySQL with Python\n",
    "\n",
    "import mysql.connector\n",
    "conn = mysql.connector.connect(\n",
    "  host=\"localhost\",\n",
    "  user=\"user_name\",\n",
    "  password=\"pass_word\"\n",
    ")\n",
    "\n",
    "print(conn)"
   ]
  },
  {
   "cell_type": "markdown",
   "id": "senior-passport",
   "metadata": {},
   "source": [
    "**curser():** \n",
    "Cursor class is an instance using which one can invoke methods that execute SQL statements, fetch data from the result sets of the queries. You can create Cursor object using the **cursor()** method of the Connection object/class.\n",
    "\n",
    "**execute():**\n",
    "This method executes the given database operation (query or command). The parameters found in the tuple or dictionary params are bound to the variables in the operation.\n"
   ]
  },
  {
   "cell_type": "markdown",
   "id": "legendary-console",
   "metadata": {},
   "source": [
    "#### Q7. Give the order of execution of SQL clauses in an SQL query.\n",
    "\n",
    "Order of execution of SQL clause in an SQL query is as below:\n",
    "\n",
    "`\n",
    "FROM\n",
    "JOIN\n",
    "WHERE\n",
    "GROUP BY\n",
    "HAVING\n",
    "SELECT\n",
    "DISTINCT\n",
    "ORDER BY\n",
    "TOP/LIMIT\n",
    "`"
   ]
  },
  {
   "cell_type": "code",
   "execution_count": null,
   "id": "medical-founder",
   "metadata": {},
   "outputs": [],
   "source": []
  }
 ],
 "metadata": {
  "kernelspec": {
   "display_name": "Python 3",
   "language": "python",
   "name": "python3"
  },
  "language_info": {
   "codemirror_mode": {
    "name": "ipython",
    "version": 3
   },
   "file_extension": ".py",
   "mimetype": "text/x-python",
   "name": "python",
   "nbconvert_exporter": "python",
   "pygments_lexer": "ipython3",
   "version": "3.8.2"
  }
 },
 "nbformat": 4,
 "nbformat_minor": 5
}
