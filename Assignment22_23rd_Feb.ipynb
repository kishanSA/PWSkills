{
 "cells": [
  {
   "cell_type": "markdown",
   "id": "e87ac0d5-693a-4a59-ab8c-003c9e67335e",
   "metadata": {},
   "source": [
    "## <u> Assignment 22 - 23rd Feb</u>"
   ]
  },
  {
   "cell_type": "markdown",
   "id": "e16f9994-bf17-408b-acb0-bbcf39321572",
   "metadata": {},
   "source": [
    "#### Q1. Create a Pandas Series that contains the following data: 4, 8, 15, 16, 23, and 42. Then, print the series."
   ]
  },
  {
   "cell_type": "code",
   "execution_count": 1,
   "id": "9896aa0d-97a5-40dc-b6c2-a85eaf25da5c",
   "metadata": {},
   "outputs": [],
   "source": [
    "# importing pandas library\n",
    "import pandas as pd"
   ]
  },
  {
   "cell_type": "code",
   "execution_count": 2,
   "id": "5ece211d-ed15-4754-b63a-cfc37c84abaa",
   "metadata": {},
   "outputs": [
    {
     "name": "stdout",
     "output_type": "stream",
     "text": [
      "0     4\n",
      "1     8\n",
      "2    15\n",
      "3    16\n",
      "4    23\n",
      "5    42\n",
      "dtype: int64\n"
     ]
    }
   ],
   "source": [
    "s1 = pd.Series([4, 8, 15, 16, 23, 42])\n",
    "print(s1)"
   ]
  },
  {
   "cell_type": "markdown",
   "id": "6c0e7e97-fa38-4f00-9643-49439467240c",
   "metadata": {},
   "source": [
    "#### Q2. Create a variable of list type containing 10 elements in it, and apply pandas.Series function on the variable print it."
   ]
  },
  {
   "cell_type": "code",
   "execution_count": 3,
   "id": "130cef27-c599-4580-b581-090356c2c971",
   "metadata": {},
   "outputs": [
    {
     "name": "stdout",
     "output_type": "stream",
     "text": [
      "[10, 20, 30, 40, 50, 60, 70, 80, 90, 100]\n",
      "<class 'list'>\n"
     ]
    }
   ],
   "source": [
    "# list of first of numbers with 10 increment\n",
    "my_lst = list(range(10,101,10))\n",
    "print(my_lst)\n",
    "print(type(my_lst))"
   ]
  },
  {
   "cell_type": "code",
   "execution_count": 4,
   "id": "27dc9347-cc67-455b-a4f0-253b3a421cad",
   "metadata": {},
   "outputs": [
    {
     "name": "stdout",
     "output_type": "stream",
     "text": [
      "0     10\n",
      "1     20\n",
      "2     30\n",
      "3     40\n",
      "4     50\n",
      "5     60\n",
      "6     70\n",
      "7     80\n",
      "8     90\n",
      "9    100\n",
      "dtype: int64\n",
      "<class 'pandas.core.series.Series'>\n"
     ]
    }
   ],
   "source": [
    "# series for the my_lst \n",
    "s2 = pd.Series(my_lst)\n",
    "print(s2)\n",
    "print(type(s2))"
   ]
  },
  {
   "cell_type": "markdown",
   "id": "6ec020f8-296d-4df5-940d-49bcf277585b",
   "metadata": {},
   "source": [
    "#### Q3. Create a Pandas DataFrame that contains the following data: Then, print the DataFrame.\n",
    "\n",
    "|Name|Age|Gender|\n",
    "| --- | --- | --- |\n",
    "|Alice|25|Female|\n",
    "|Bob|30|Male|\n",
    "|Claire|27|Female|\n",
    "\n",
    " "
   ]
  },
  {
   "cell_type": "code",
   "execution_count": 5,
   "id": "a20f74ee-956d-468a-83c8-7a01c2c3b8c7",
   "metadata": {},
   "outputs": [
    {
     "data": {
      "text/html": [
       "<div>\n",
       "<style scoped>\n",
       "    .dataframe tbody tr th:only-of-type {\n",
       "        vertical-align: middle;\n",
       "    }\n",
       "\n",
       "    .dataframe tbody tr th {\n",
       "        vertical-align: top;\n",
       "    }\n",
       "\n",
       "    .dataframe thead th {\n",
       "        text-align: right;\n",
       "    }\n",
       "</style>\n",
       "<table border=\"1\" class=\"dataframe\">\n",
       "  <thead>\n",
       "    <tr style=\"text-align: right;\">\n",
       "      <th></th>\n",
       "      <th>Name</th>\n",
       "      <th>Age</th>\n",
       "      <th>Gender</th>\n",
       "    </tr>\n",
       "  </thead>\n",
       "  <tbody>\n",
       "    <tr>\n",
       "      <th>0</th>\n",
       "      <td>Alice</td>\n",
       "      <td>25</td>\n",
       "      <td>Female</td>\n",
       "    </tr>\n",
       "    <tr>\n",
       "      <th>1</th>\n",
       "      <td>Bob</td>\n",
       "      <td>30</td>\n",
       "      <td>Male</td>\n",
       "    </tr>\n",
       "    <tr>\n",
       "      <th>2</th>\n",
       "      <td>Claire</td>\n",
       "      <td>27</td>\n",
       "      <td>Female</td>\n",
       "    </tr>\n",
       "  </tbody>\n",
       "</table>\n",
       "</div>"
      ],
      "text/plain": [
       "     Name  Age  Gender\n",
       "0   Alice   25  Female\n",
       "1     Bob   30    Male\n",
       "2  Claire   27  Female"
      ]
     },
     "execution_count": 5,
     "metadata": {},
     "output_type": "execute_result"
    }
   ],
   "source": [
    "# There are more than one method to create the above table\n",
    "\n",
    "# Method 1: Creating from dictionary\n",
    "d1 = {\n",
    "    'Name': ['Alice', 'Bob', 'Claire'],\n",
    "    'Age': [25, 30, 27],\n",
    "    'Gender': ['Female', 'Male', 'Female']\n",
    "}\n",
    "\n",
    "df1 = pd.DataFrame(d1)\n",
    "df1"
   ]
  },
  {
   "cell_type": "code",
   "execution_count": 6,
   "id": "ee5d66db-7c12-4726-96fc-ca492f2ced6d",
   "metadata": {},
   "outputs": [
    {
     "data": {
      "text/html": [
       "<div>\n",
       "<style scoped>\n",
       "    .dataframe tbody tr th:only-of-type {\n",
       "        vertical-align: middle;\n",
       "    }\n",
       "\n",
       "    .dataframe tbody tr th {\n",
       "        vertical-align: top;\n",
       "    }\n",
       "\n",
       "    .dataframe thead th {\n",
       "        text-align: right;\n",
       "    }\n",
       "</style>\n",
       "<table border=\"1\" class=\"dataframe\">\n",
       "  <thead>\n",
       "    <tr style=\"text-align: right;\">\n",
       "      <th></th>\n",
       "      <th>Name</th>\n",
       "      <th>Age</th>\n",
       "      <th>Gender</th>\n",
       "    </tr>\n",
       "  </thead>\n",
       "  <tbody>\n",
       "    <tr>\n",
       "      <th>0</th>\n",
       "      <td>Alice</td>\n",
       "      <td>25</td>\n",
       "      <td>Female</td>\n",
       "    </tr>\n",
       "    <tr>\n",
       "      <th>1</th>\n",
       "      <td>Bob</td>\n",
       "      <td>30</td>\n",
       "      <td>Male</td>\n",
       "    </tr>\n",
       "    <tr>\n",
       "      <th>2</th>\n",
       "      <td>Claire</td>\n",
       "      <td>27</td>\n",
       "      <td>Female</td>\n",
       "    </tr>\n",
       "  </tbody>\n",
       "</table>\n",
       "</div>"
      ],
      "text/plain": [
       "     Name  Age  Gender\n",
       "0   Alice   25  Female\n",
       "1     Bob   30    Male\n",
       "2  Claire   27  Female"
      ]
     },
     "execution_count": 6,
     "metadata": {},
     "output_type": "execute_result"
    }
   ],
   "source": [
    "# Method 2: Creating from list of tuples\n",
    "\n",
    "cols = ['Name', 'Age', 'Gender']\n",
    "\n",
    "tup = [('Alice', 25, 'Female'),\n",
    "      ('Bob', 30, 'Male'),\n",
    "      ('Claire', 27, 'Female')]\n",
    "\n",
    "df2 = pd.DataFrame(tup, columns=cols)\n",
    "df2"
   ]
  },
  {
   "cell_type": "markdown",
   "id": "72c92b20-cd91-4792-be04-c371b7a9b7c9",
   "metadata": {},
   "source": [
    "#### Q4. What is 'DataFrame' in pandas and how is it different from pandas.series? Explain with an example."
   ]
  },
  {
   "cell_type": "markdown",
   "id": "e8c9a152-eeb2-4b98-91f7-e35dc555b7fb",
   "metadata": {},
   "source": [
    "A `DataFrame` in pandas is nothing but the tablular structure of the Dataset. It is combination of rows and columns with data. The column could be consist of different types.\n",
    "It is similar kind of Excel Spreadsheet.\n",
    "\n",
    "A `Series` is equivalent to list. It is one dimentional array of dataset. It contain data of any type. If you extract single column from dataframe, it is a Series."
   ]
  },
  {
   "cell_type": "code",
   "execution_count": 7,
   "id": "955e8e1c-5f11-439d-a564-d4bdc3eefe78",
   "metadata": {},
   "outputs": [
    {
     "data": {
      "text/html": [
       "<div>\n",
       "<style scoped>\n",
       "    .dataframe tbody tr th:only-of-type {\n",
       "        vertical-align: middle;\n",
       "    }\n",
       "\n",
       "    .dataframe tbody tr th {\n",
       "        vertical-align: top;\n",
       "    }\n",
       "\n",
       "    .dataframe thead th {\n",
       "        text-align: right;\n",
       "    }\n",
       "</style>\n",
       "<table border=\"1\" class=\"dataframe\">\n",
       "  <thead>\n",
       "    <tr style=\"text-align: right;\">\n",
       "      <th></th>\n",
       "      <th>name</th>\n",
       "      <th>course</th>\n",
       "      <th>email</th>\n",
       "    </tr>\n",
       "  </thead>\n",
       "  <tbody>\n",
       "    <tr>\n",
       "      <th>0</th>\n",
       "      <td>Krish</td>\n",
       "      <td>Statistics</td>\n",
       "      <td>krish@test.live</td>\n",
       "    </tr>\n",
       "    <tr>\n",
       "      <th>1</th>\n",
       "      <td>Sudh</td>\n",
       "      <td>Python</td>\n",
       "      <td>sudh@test.live</td>\n",
       "    </tr>\n",
       "    <tr>\n",
       "      <th>2</th>\n",
       "      <td>Karen</td>\n",
       "      <td>Java</td>\n",
       "      <td>karen@test.live</td>\n",
       "    </tr>\n",
       "  </tbody>\n",
       "</table>\n",
       "</div>"
      ],
      "text/plain": [
       "    name      course            email\n",
       "0  Krish  Statistics  krish@test.live\n",
       "1   Sudh      Python   sudh@test.live\n",
       "2  Karen        Java  karen@test.live"
      ]
     },
     "execution_count": 7,
     "metadata": {},
     "output_type": "execute_result"
    }
   ],
   "source": [
    "# DataFrame example\n",
    "\n",
    "mentors = {\n",
    "    'name': ['Krish', 'Sudh', 'Karen'],\n",
    "    'course': ['Statistics', 'Python', 'Java'],\n",
    "    'email': ['krish@test.live', 'sudh@test.live', 'karen@test.live']\n",
    "}\n",
    "\n",
    "df3 = pd.DataFrame(mentors)\n",
    "df3"
   ]
  },
  {
   "cell_type": "code",
   "execution_count": 8,
   "id": "b44ca257-c0e7-4c1c-8dd2-0b2b1982777b",
   "metadata": {},
   "outputs": [
    {
     "data": {
      "text/plain": [
       "pandas.core.frame.DataFrame"
      ]
     },
     "execution_count": 8,
     "metadata": {},
     "output_type": "execute_result"
    }
   ],
   "source": [
    "# let's see the type of df3\n",
    "type(df3)  # it is pandas dataframe"
   ]
  },
  {
   "cell_type": "code",
   "execution_count": 9,
   "id": "95be33e2-b427-4e7a-b414-dca91332d9d6",
   "metadata": {},
   "outputs": [
    {
     "name": "stdout",
     "output_type": "stream",
     "text": [
      "0    Statistics\n",
      "1        Python\n",
      "2          Java\n",
      "Name: course, dtype: object\n"
     ]
    }
   ],
   "source": [
    "# Series examle : selecting one of the column 'course' from above dataframe df3\n",
    "\n",
    "s3 = pd.Series(df3['course'])\n",
    "print(s3)"
   ]
  },
  {
   "cell_type": "code",
   "execution_count": 10,
   "id": "87238543-9139-494a-a063-507f18883903",
   "metadata": {},
   "outputs": [
    {
     "data": {
      "text/plain": [
       "pandas.core.series.Series"
      ]
     },
     "execution_count": 10,
     "metadata": {},
     "output_type": "execute_result"
    }
   ],
   "source": [
    "# let's see the type of s3 \n",
    "type(s3)  # it is pandas series"
   ]
  },
  {
   "cell_type": "markdown",
   "id": "47be103b-912a-48f8-9bab-959e68966e9b",
   "metadata": {},
   "source": [
    "#### Q5. What are some common functions you can use to manipulate data in a Pandas DataFrame? Can you give an example of when you might use one of these functions?"
   ]
  },
  {
   "cell_type": "markdown",
   "id": "a045b2b6-5079-44a2-b14c-01c2206876d6",
   "metadata": {},
   "source": [
    "*Below are some of the common functions which apply on dataframe to manipulate it.*"
   ]
  },
  {
   "cell_type": "markdown",
   "id": "9bedc2d8-4416-480f-9665-1c6b48ef82f7",
   "metadata": {},
   "source": [
    "- df.head()\n",
    "- df.columns\n",
    "- df.dtypes\n",
    "- df.isna()\n",
    "\n",
    "Lets see them in example."
   ]
  },
  {
   "cell_type": "code",
   "execution_count": 11,
   "id": "67ca5830-9a02-405f-86db-210a7c53f916",
   "metadata": {},
   "outputs": [
    {
     "data": {
      "text/html": [
       "<div>\n",
       "<style scoped>\n",
       "    .dataframe tbody tr th:only-of-type {\n",
       "        vertical-align: middle;\n",
       "    }\n",
       "\n",
       "    .dataframe tbody tr th {\n",
       "        vertical-align: top;\n",
       "    }\n",
       "\n",
       "    .dataframe thead th {\n",
       "        text-align: right;\n",
       "    }\n",
       "</style>\n",
       "<table border=\"1\" class=\"dataframe\">\n",
       "  <thead>\n",
       "    <tr style=\"text-align: right;\">\n",
       "      <th></th>\n",
       "      <th>name</th>\n",
       "      <th>course</th>\n",
       "      <th>enrolled</th>\n",
       "      <th>grade</th>\n",
       "      <th>state</th>\n",
       "      <th>age</th>\n",
       "    </tr>\n",
       "  </thead>\n",
       "  <tbody>\n",
       "    <tr>\n",
       "      <th>0</th>\n",
       "      <td>Alex</td>\n",
       "      <td>AI</td>\n",
       "      <td>True</td>\n",
       "      <td>A+</td>\n",
       "      <td>NC</td>\n",
       "      <td>20</td>\n",
       "    </tr>\n",
       "    <tr>\n",
       "      <th>1</th>\n",
       "      <td>Robert</td>\n",
       "      <td>ML</td>\n",
       "      <td>True</td>\n",
       "      <td>B</td>\n",
       "      <td>GA</td>\n",
       "      <td>22</td>\n",
       "    </tr>\n",
       "    <tr>\n",
       "      <th>2</th>\n",
       "      <td>Kathleen</td>\n",
       "      <td>DL</td>\n",
       "      <td>False</td>\n",
       "      <td>None</td>\n",
       "      <td>PA</td>\n",
       "      <td>20</td>\n",
       "    </tr>\n",
       "    <tr>\n",
       "      <th>3</th>\n",
       "      <td>Roger</td>\n",
       "      <td>DS</td>\n",
       "      <td>True</td>\n",
       "      <td>B</td>\n",
       "      <td>TX</td>\n",
       "      <td>19</td>\n",
       "    </tr>\n",
       "    <tr>\n",
       "      <th>4</th>\n",
       "      <td>Neil</td>\n",
       "      <td>DA</td>\n",
       "      <td>True</td>\n",
       "      <td>A</td>\n",
       "      <td>CA</td>\n",
       "      <td>25</td>\n",
       "    </tr>\n",
       "    <tr>\n",
       "      <th>5</th>\n",
       "      <td>Braden</td>\n",
       "      <td>CS</td>\n",
       "      <td>True</td>\n",
       "      <td>B+</td>\n",
       "      <td>MI</td>\n",
       "      <td>28</td>\n",
       "    </tr>\n",
       "    <tr>\n",
       "      <th>6</th>\n",
       "      <td>Julie</td>\n",
       "      <td>AC</td>\n",
       "      <td>False</td>\n",
       "      <td>None</td>\n",
       "      <td>TX</td>\n",
       "      <td>23</td>\n",
       "    </tr>\n",
       "    <tr>\n",
       "      <th>7</th>\n",
       "      <td>Jack</td>\n",
       "      <td>ML</td>\n",
       "      <td>True</td>\n",
       "      <td>B</td>\n",
       "      <td>NH</td>\n",
       "      <td>22</td>\n",
       "    </tr>\n",
       "  </tbody>\n",
       "</table>\n",
       "</div>"
      ],
      "text/plain": [
       "       name course  enrolled grade state  age\n",
       "0      Alex     AI      True    A+    NC   20\n",
       "1    Robert     ML      True     B    GA   22\n",
       "2  Kathleen     DL     False  None    PA   20\n",
       "3     Roger     DS      True     B    TX   19\n",
       "4      Neil     DA      True     A    CA   25\n",
       "5    Braden     CS      True    B+    MI   28\n",
       "6     Julie     AC     False  None    TX   23\n",
       "7      Jack     ML      True     B    NH   22"
      ]
     },
     "execution_count": 11,
     "metadata": {},
     "output_type": "execute_result"
    }
   ],
   "source": [
    "# creating a dataframe \n",
    "d2 = {\n",
    "    'name': ['Alex', 'Robert', 'Kathleen', 'Roger', 'Neil', 'Braden', 'Julie', 'Jack'],\n",
    "    'course': ['AI','ML','DL','DS','DA','CS','AC', 'ML'],\n",
    "    'enrolled': [True, True, False, True, True, True, False, True],\n",
    "    'grade': ['A+', 'B', None, 'B', 'A', 'B+', None, 'B'],\n",
    "    'state': ['NC', 'GA', 'PA', 'TX', 'CA', 'MI', 'TX', 'NH'],\n",
    "    'age': [20, 22, 20, 19, 25, 28, 23, 22]\n",
    "}\n",
    "\n",
    "df4 = pd.DataFrame(d2)\n",
    "df4"
   ]
  },
  {
   "cell_type": "markdown",
   "id": "e90f59f8-9564-4304-ba7c-6574a4d86f29",
   "metadata": {},
   "source": [
    "* `df.head()`: To display the first five rows of the dataframe"
   ]
  },
  {
   "cell_type": "code",
   "execution_count": 12,
   "id": "a202f39b-9d9a-4533-9527-243919585e92",
   "metadata": {},
   "outputs": [
    {
     "data": {
      "text/html": [
       "<div>\n",
       "<style scoped>\n",
       "    .dataframe tbody tr th:only-of-type {\n",
       "        vertical-align: middle;\n",
       "    }\n",
       "\n",
       "    .dataframe tbody tr th {\n",
       "        vertical-align: top;\n",
       "    }\n",
       "\n",
       "    .dataframe thead th {\n",
       "        text-align: right;\n",
       "    }\n",
       "</style>\n",
       "<table border=\"1\" class=\"dataframe\">\n",
       "  <thead>\n",
       "    <tr style=\"text-align: right;\">\n",
       "      <th></th>\n",
       "      <th>name</th>\n",
       "      <th>course</th>\n",
       "      <th>enrolled</th>\n",
       "      <th>grade</th>\n",
       "      <th>state</th>\n",
       "      <th>age</th>\n",
       "    </tr>\n",
       "  </thead>\n",
       "  <tbody>\n",
       "    <tr>\n",
       "      <th>0</th>\n",
       "      <td>Alex</td>\n",
       "      <td>AI</td>\n",
       "      <td>True</td>\n",
       "      <td>A+</td>\n",
       "      <td>NC</td>\n",
       "      <td>20</td>\n",
       "    </tr>\n",
       "    <tr>\n",
       "      <th>1</th>\n",
       "      <td>Robert</td>\n",
       "      <td>ML</td>\n",
       "      <td>True</td>\n",
       "      <td>B</td>\n",
       "      <td>GA</td>\n",
       "      <td>22</td>\n",
       "    </tr>\n",
       "    <tr>\n",
       "      <th>2</th>\n",
       "      <td>Kathleen</td>\n",
       "      <td>DL</td>\n",
       "      <td>False</td>\n",
       "      <td>None</td>\n",
       "      <td>PA</td>\n",
       "      <td>20</td>\n",
       "    </tr>\n",
       "    <tr>\n",
       "      <th>3</th>\n",
       "      <td>Roger</td>\n",
       "      <td>DS</td>\n",
       "      <td>True</td>\n",
       "      <td>B</td>\n",
       "      <td>TX</td>\n",
       "      <td>19</td>\n",
       "    </tr>\n",
       "    <tr>\n",
       "      <th>4</th>\n",
       "      <td>Neil</td>\n",
       "      <td>DA</td>\n",
       "      <td>True</td>\n",
       "      <td>A</td>\n",
       "      <td>CA</td>\n",
       "      <td>25</td>\n",
       "    </tr>\n",
       "  </tbody>\n",
       "</table>\n",
       "</div>"
      ],
      "text/plain": [
       "       name course  enrolled grade state  age\n",
       "0      Alex     AI      True    A+    NC   20\n",
       "1    Robert     ML      True     B    GA   22\n",
       "2  Kathleen     DL     False  None    PA   20\n",
       "3     Roger     DS      True     B    TX   19\n",
       "4      Neil     DA      True     A    CA   25"
      ]
     },
     "execution_count": 12,
     "metadata": {},
     "output_type": "execute_result"
    }
   ],
   "source": [
    "df4.head()"
   ]
  },
  {
   "cell_type": "markdown",
   "id": "3df81bc1-e452-4f94-ba80-adce27149f5e",
   "metadata": {},
   "source": [
    "* `df.columns`: To get the name of columns of the dataframe"
   ]
  },
  {
   "cell_type": "code",
   "execution_count": 13,
   "id": "a54fbb91-a362-43be-bf27-37895c365b1c",
   "metadata": {},
   "outputs": [
    {
     "data": {
      "text/plain": [
       "['name', 'course', 'enrolled', 'grade', 'state', 'age']"
      ]
     },
     "execution_count": 13,
     "metadata": {},
     "output_type": "execute_result"
    }
   ],
   "source": [
    "list(df4.columns)"
   ]
  },
  {
   "cell_type": "markdown",
   "id": "82589725-5b29-4f5d-b15f-878d84148e99",
   "metadata": {},
   "source": [
    "* `df.dtypes`: To see the datatype of each columns"
   ]
  },
  {
   "cell_type": "code",
   "execution_count": 14,
   "id": "bb6bdca4-507c-4312-9205-8d8c815994ad",
   "metadata": {},
   "outputs": [
    {
     "data": {
      "text/plain": [
       "name        object\n",
       "course      object\n",
       "enrolled      bool\n",
       "grade       object\n",
       "state       object\n",
       "age          int64\n",
       "dtype: object"
      ]
     },
     "execution_count": 14,
     "metadata": {},
     "output_type": "execute_result"
    }
   ],
   "source": [
    "df4.dtypes"
   ]
  },
  {
   "cell_type": "markdown",
   "id": "4c9881e0-73d7-4033-a8ae-084ab2428d65",
   "metadata": {},
   "source": [
    "* `df.isna`: To find the missing data in a row for the column"
   ]
  },
  {
   "cell_type": "code",
   "execution_count": 15,
   "id": "fed5cdb2-f1be-4201-a2f8-896f4ea4bff2",
   "metadata": {},
   "outputs": [
    {
     "data": {
      "text/plain": [
       "name        0\n",
       "course      0\n",
       "enrolled    0\n",
       "grade       2\n",
       "state       0\n",
       "age         0\n",
       "dtype: int64"
      ]
     },
     "execution_count": 15,
     "metadata": {},
     "output_type": "execute_result"
    }
   ],
   "source": [
    "df4.isna().sum()"
   ]
  },
  {
   "cell_type": "markdown",
   "id": "1e8468f7-b9a2-42fd-a641-c030f5df38a5",
   "metadata": {},
   "source": [
    "From the above result, we can see that there are 2 rows has missing value for `grade` column."
   ]
  },
  {
   "cell_type": "markdown",
   "id": "2be2c9a1-b3ba-4aa3-965e-e2270f0af11f",
   "metadata": {},
   "source": [
    "#### Q6. Which of the following is mutable in nature Series, DataFrame, Panel?"
   ]
  },
  {
   "cell_type": "markdown",
   "id": "1a88f335-3b4d-4f99-88cb-9fc16c875448",
   "metadata": {},
   "source": [
    "* `DataFrame` and `Series` are mutable that means you can modify/delete the object and its data after they created. If you do so, it will impact the original object with latest changes.\n",
    "\n",
    "* On the other hand `Panel` object is immutable means they can not modified once they created. If you make any changes in that series object, it will create new object.\n"
   ]
  },
  {
   "cell_type": "markdown",
   "id": "ca886a00-e97b-4616-923e-19ba6e4882f2",
   "metadata": {},
   "source": [
    "#### Q7. Create a DataFrame using multiple Series. Explain with an example."
   ]
  },
  {
   "cell_type": "code",
   "execution_count": 16,
   "id": "80f2f8fe-b76f-4e04-8d69-fba9b7993471",
   "metadata": {},
   "outputs": [],
   "source": [
    "# first let's create some series objects\n",
    "\n",
    "name = pd.Series(['Alex', 'Robert', 'Kathleen', 'Roger', 'Neil'])\n",
    "course = pd.Series(['AI','ML','DL','DS','AI'])\n",
    "grade =  pd.Series(['A+', 'B', None, 'B', 'A'])\n",
    "state = pd.Series(['NC', 'GA', 'PA', 'TX', 'CA'])\n",
    "\n",
    "# let create dataframe by using concat() method \n",
    "\n",
    "df5 = pd.concat([name, course], axis=1)\n",
    "df5.columns = ['name', 'course']"
   ]
  },
  {
   "cell_type": "code",
   "execution_count": 17,
   "id": "0cce23aa-07b9-4f40-87f1-380d0d091933",
   "metadata": {},
   "outputs": [
    {
     "data": {
      "text/html": [
       "<div>\n",
       "<style scoped>\n",
       "    .dataframe tbody tr th:only-of-type {\n",
       "        vertical-align: middle;\n",
       "    }\n",
       "\n",
       "    .dataframe tbody tr th {\n",
       "        vertical-align: top;\n",
       "    }\n",
       "\n",
       "    .dataframe thead th {\n",
       "        text-align: right;\n",
       "    }\n",
       "</style>\n",
       "<table border=\"1\" class=\"dataframe\">\n",
       "  <thead>\n",
       "    <tr style=\"text-align: right;\">\n",
       "      <th></th>\n",
       "      <th>name</th>\n",
       "      <th>course</th>\n",
       "    </tr>\n",
       "  </thead>\n",
       "  <tbody>\n",
       "    <tr>\n",
       "      <th>0</th>\n",
       "      <td>Alex</td>\n",
       "      <td>AI</td>\n",
       "    </tr>\n",
       "    <tr>\n",
       "      <th>1</th>\n",
       "      <td>Robert</td>\n",
       "      <td>ML</td>\n",
       "    </tr>\n",
       "    <tr>\n",
       "      <th>2</th>\n",
       "      <td>Kathleen</td>\n",
       "      <td>DL</td>\n",
       "    </tr>\n",
       "    <tr>\n",
       "      <th>3</th>\n",
       "      <td>Roger</td>\n",
       "      <td>DS</td>\n",
       "    </tr>\n",
       "    <tr>\n",
       "      <th>4</th>\n",
       "      <td>Neil</td>\n",
       "      <td>AI</td>\n",
       "    </tr>\n",
       "  </tbody>\n",
       "</table>\n",
       "</div>"
      ],
      "text/plain": [
       "       name course\n",
       "0      Alex     AI\n",
       "1    Robert     ML\n",
       "2  Kathleen     DL\n",
       "3     Roger     DS\n",
       "4      Neil     AI"
      ]
     },
     "execution_count": 17,
     "metadata": {},
     "output_type": "execute_result"
    }
   ],
   "source": [
    "df5"
   ]
  },
  {
   "cell_type": "code",
   "execution_count": 18,
   "id": "7eebb9c2-5ecc-41b2-bcbd-3c1e8b0ea0f4",
   "metadata": {},
   "outputs": [],
   "source": [
    "# now let's add some more series in this dataframe by assigning series \n",
    "df5['grade'] = grade\n",
    "df5['state'] = state"
   ]
  },
  {
   "cell_type": "code",
   "execution_count": 19,
   "id": "ef95dfd7-8cc3-4408-949b-34a9eb65c330",
   "metadata": {},
   "outputs": [
    {
     "data": {
      "text/html": [
       "<div>\n",
       "<style scoped>\n",
       "    .dataframe tbody tr th:only-of-type {\n",
       "        vertical-align: middle;\n",
       "    }\n",
       "\n",
       "    .dataframe tbody tr th {\n",
       "        vertical-align: top;\n",
       "    }\n",
       "\n",
       "    .dataframe thead th {\n",
       "        text-align: right;\n",
       "    }\n",
       "</style>\n",
       "<table border=\"1\" class=\"dataframe\">\n",
       "  <thead>\n",
       "    <tr style=\"text-align: right;\">\n",
       "      <th></th>\n",
       "      <th>name</th>\n",
       "      <th>course</th>\n",
       "      <th>grade</th>\n",
       "      <th>state</th>\n",
       "    </tr>\n",
       "  </thead>\n",
       "  <tbody>\n",
       "    <tr>\n",
       "      <th>0</th>\n",
       "      <td>Alex</td>\n",
       "      <td>AI</td>\n",
       "      <td>A+</td>\n",
       "      <td>NC</td>\n",
       "    </tr>\n",
       "    <tr>\n",
       "      <th>1</th>\n",
       "      <td>Robert</td>\n",
       "      <td>ML</td>\n",
       "      <td>B</td>\n",
       "      <td>GA</td>\n",
       "    </tr>\n",
       "    <tr>\n",
       "      <th>2</th>\n",
       "      <td>Kathleen</td>\n",
       "      <td>DL</td>\n",
       "      <td>None</td>\n",
       "      <td>PA</td>\n",
       "    </tr>\n",
       "    <tr>\n",
       "      <th>3</th>\n",
       "      <td>Roger</td>\n",
       "      <td>DS</td>\n",
       "      <td>B</td>\n",
       "      <td>TX</td>\n",
       "    </tr>\n",
       "    <tr>\n",
       "      <th>4</th>\n",
       "      <td>Neil</td>\n",
       "      <td>AI</td>\n",
       "      <td>A</td>\n",
       "      <td>CA</td>\n",
       "    </tr>\n",
       "  </tbody>\n",
       "</table>\n",
       "</div>"
      ],
      "text/plain": [
       "       name course grade state\n",
       "0      Alex     AI    A+    NC\n",
       "1    Robert     ML     B    GA\n",
       "2  Kathleen     DL  None    PA\n",
       "3     Roger     DS     B    TX\n",
       "4      Neil     AI     A    CA"
      ]
     },
     "execution_count": 19,
     "metadata": {},
     "output_type": "execute_result"
    }
   ],
   "source": [
    "df5"
   ]
  },
  {
   "cell_type": "code",
   "execution_count": null,
   "id": "108f4c9d-7699-40bf-af89-880a07222516",
   "metadata": {},
   "outputs": [],
   "source": []
  }
 ],
 "metadata": {
  "kernelspec": {
   "display_name": "Python 3 (ipykernel)",
   "language": "python",
   "name": "python3"
  },
  "language_info": {
   "codemirror_mode": {
    "name": "ipython",
    "version": 3
   },
   "file_extension": ".py",
   "mimetype": "text/x-python",
   "name": "python",
   "nbconvert_exporter": "python",
   "pygments_lexer": "ipython3",
   "version": "3.10.8"
  }
 },
 "nbformat": 4,
 "nbformat_minor": 5
}
