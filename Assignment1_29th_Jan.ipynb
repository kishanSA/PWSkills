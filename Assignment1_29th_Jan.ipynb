{
 "cells": [
  {
   "cell_type": "markdown",
   "id": "athletic-smart",
   "metadata": {},
   "source": [
    "## <u>Assignment 1 - 29th Jan</u>"
   ]
  },
  {
   "cell_type": "markdown",
   "id": "concerned-poetry",
   "metadata": {},
   "source": [
    "#### Q-1. Who developed Python Programming Language?\n",
    "Python was created by **[Guido van Rossum](https://en.wikipedia.org/wiki/Guido_van_Rossum)** and first released in the year **1991**."
   ]
  },
  {
   "cell_type": "markdown",
   "id": "aerial-probability",
   "metadata": {},
   "source": [
    "#### Q-2. Which type of Programming does Python support?\n",
    "\n",
    "Python is an **interpreted programming language**, supporting object-oriented, structured, dynamically typed, and functional programming."
   ]
  },
  {
   "cell_type": "markdown",
   "id": "cubic-board",
   "metadata": {},
   "source": [
    "#### Q-3. Is Python case sensitive when dealing with identifiers?\n",
    "\n",
    "First of all we need to know what is **Identifier**.\n",
    "Python identifier is **the name given to identify a variable, function, class, module, method or other object**.\n",
    "\n",
    "eg.\n",
    "`language = 'Python'`\n",
    "\n",
    "Here **language** variable (an identifier) is case sensitive.\n",
    "Both **language** and **Language** are different."
   ]
  },
  {
   "cell_type": "code",
   "execution_count": null,
   "id": "incident-corrections",
   "metadata": {},
   "outputs": [],
   "source": [
    "language = 'Python'"
   ]
  },
  {
   "cell_type": "code",
   "execution_count": null,
   "id": "ethical-calendar",
   "metadata": {
    "scrolled": true
   },
   "outputs": [],
   "source": [
    "print(language) # Print the value of variable 'language'"
   ]
  },
  {
   "cell_type": "code",
   "execution_count": null,
   "id": "athletic-palestine",
   "metadata": {},
   "outputs": [],
   "source": [
    "print(Language) # This will give NameError: name 'Language' is not defined"
   ]
  },
  {
   "cell_type": "markdown",
   "id": "julian-strategy",
   "metadata": {},
   "source": [
    "#### Q-4. What is the correct extension of the Python file?\n",
    "\n",
    "Python file is save with the extension **'.py'**\n",
    "\n",
    "eg.  'Example.py'"
   ]
  },
  {
   "cell_type": "markdown",
   "id": "great-baseball",
   "metadata": {},
   "source": [
    "#### Q-5. Is Python code compiled or interpreted?\n",
    "\n",
    "Python is an **interpreted programming language**. So the Python code is interpreted."
   ]
  },
  {
   "cell_type": "markdown",
   "id": "greenhouse-campus",
   "metadata": {},
   "source": [
    "#### Q-6. Name a few blocks of code used to define in Python language.\n",
    "\n",
    "Blocks of code in Python language are :\n",
    "* if-else condition\n",
    "* loop\n",
    "* function body\n",
    "* class\n",
    "* module"
   ]
  },
  {
   "cell_type": "markdown",
   "id": "shared-habitat",
   "metadata": {},
   "source": [
    "#### Q-7. State a character used to give single-line comments in Python.\n",
    "\n",
    "In Python, one can write comments by using **`#`** character."
   ]
  },
  {
   "cell_type": "code",
   "execution_count": null,
   "id": "verified-nothing",
   "metadata": {},
   "outputs": [],
   "source": [
    "# This is a single-line comment. It will not execute when you run the cell.\n",
    "var_a = 'Data Science Masters Course'  \n",
    "print(var_a)"
   ]
  },
  {
   "cell_type": "markdown",
   "id": "needed-drain",
   "metadata": {},
   "source": [
    "#### Q-8. Mention functions which can help us to find the version of python that we are currently working on?\n",
    "\n",
    "There are multiple ways to find the version of python that we are currently working on.\n",
    "\n",
    "Type `python --version`  or `python -V` on command prompt to get the version of python.\n",
    "\n",
    "You can execute the terminal command in jupyter notebook too. Below is how I execute to get the python version."
   ]
  },
  {
   "cell_type": "code",
   "execution_count": null,
   "id": "about-security",
   "metadata": {},
   "outputs": [],
   "source": [
    "%%cmd\n",
    "python -V"
   ]
  },
  {
   "cell_type": "markdown",
   "id": "expanded-strength",
   "metadata": {},
   "source": [
    "#### Q-9. Python supports the creation of anonymous functions at runtime, using a construct called\n",
    "\n",
    "Yes. Python supports the creation of anonymous functions at runtime, using a construct called **`lambda`**."
   ]
  },
  {
   "cell_type": "markdown",
   "id": "graphic-shower",
   "metadata": {},
   "source": [
    "#### Q-10. What does pip stand for python?\n",
    "\n",
    "`Pip` is a recursive acronym that can stand for either **P**ip **I**nstalls **P**ackages or **P**ip **I**nstalls **P**ython. Alternatively, pip stands for **P**referred **I**nstaller **P**rogram.\n"
   ]
  },
  {
   "cell_type": "markdown",
   "id": "trained-cheat",
   "metadata": {},
   "source": [
    "#### Q-11. Mention a few built-in functions in python.\n",
    "\n",
    "Python has a number of built-in functions available.\n",
    "\n",
    "Here are the few of them:\n",
    "* `ascii()`: Returns a readable version of an object. Replaces none-ascii characters with escape character\n",
    "* `bin()`: Convert an integer number to a binary string prefixed with “0b”.\n",
    "* `bool()`: Returns the boolean value of the specified object\n",
    "* `complex()`: Returns a complex number\n",
    "* `dict()`: Returns a dictionary (Array)\n",
    "* `format()`: Formats a specified value\n",
    "* `help()`: Executes the built-in help system\n",
    "\n",
    "To explore more built-in functions, please [**Click**](https://docs.python.org/3/library/functions.html) here."
   ]
  },
  {
   "cell_type": "markdown",
   "id": "known-smoke",
   "metadata": {},
   "source": [
    "#### Q-12. What is the maximum possible length of an identifier in Python?\n",
    "\n",
    "Python identifiers are unlimited in length but as per **PEP-8** you should limit identifier to a maximum of 79 character for better readability but there is no restriction."
   ]
  },
  {
   "cell_type": "markdown",
   "id": "front-consciousness",
   "metadata": {},
   "source": [
    "#### Q-13. What are the benefits of using Python?\n",
    "\n",
    "There are a plethora of benefits to developing software in the Python programming language. Below are some of the major  benefits of using python:\n",
    "\n",
    "* Easy to Learn and use\n",
    "* Improved productivity\n",
    "* Interpreted language\n",
    "* Open-source\n",
    "* Easily portabble\n",
    "* Massive libraries\n",
    "* Easy to integrate\n",
    "* Very Supportive Community   "
   ]
  },
  {
   "cell_type": "markdown",
   "id": "virtual-colors",
   "metadata": {},
   "source": [
    "#### Q-14. How is memory managed in Python?\n",
    "\n",
    "Memory management in Python involves the management of a private heap. A private heap is a portion of memory that is exclusive to the Python process. All Python objects and data structures are stored in the private heap.\n",
    "\n",
    "The operating system cannot allocate this piece of memory to another process.\n"
   ]
  },
  {
   "cell_type": "markdown",
   "id": "built-probe",
   "metadata": {},
   "source": [
    "#### Q-15. How to install Python on Windows and set path variables?\n",
    "\n",
    "**<u>Method: 1</u>**\n",
    "First download python from this link https://www.python.org/downloads/ and then click on it. \n",
    "It will start installation of python. You can check the box to **Add Python to PATH** at the bottom of the setup screen.\n",
    "So it will add python to path variables.\n",
    "\n",
    "\n",
    "**<u>Method: 2</u>**\n",
    "First, navigate to the Windows Environment Variables screen (where you can add/edit your paths):\n",
    "\n",
    "* Press the **Windows Key + R** on your keyboard in order to open the Run dialog box\n",
    "* Type **sysdm.cpl** to open the System Properties\n",
    "* Go to the **Advanced** tab and then click on the **Environment Variables…**\n",
    " \n",
    "Add a new variable and name it as PYTHON_NAME and paste the path where your python is installed.\n",
    "\n",
    "In my sytem python is installed on `C:\\Users\\Krish\\AppData\\Local\\Programs\\Python\\Python39` location.\n",
    "\n",
    "Press **OK** and you would then see your new Python Path under the **User variables** section. Don't forget to press **OK** again so that the changes will get implemented."
   ]
  },
  {
   "cell_type": "markdown",
   "id": "wicked-alfred",
   "metadata": {},
   "source": [
    "#### Q-16. Is indentation required in python?\n",
    "\n",
    "**Yes**. Indentation is mendatory in python. If you do not write your code with proper indentation, it will throw error.\n",
    "Like many other programing languages used curly braces **{ --- }** to write the code block inside it, in python it uses indentation."
   ]
  }
 ],
 "metadata": {
  "kernelspec": {
   "display_name": "Python 3",
   "language": "python",
   "name": "python3"
  },
  "language_info": {
   "codemirror_mode": {
    "name": "ipython",
    "version": 3
   },
   "file_extension": ".py",
   "mimetype": "text/x-python",
   "name": "python",
   "nbconvert_exporter": "python",
   "pygments_lexer": "ipython3",
   "version": "3.8.2"
  }
 },
 "nbformat": 4,
 "nbformat_minor": 5
}
