{
 "cells": [
  {
   "cell_type": "markdown",
   "id": "needed-coordinator",
   "metadata": {},
   "source": [
    "## <u> Assignment 10 - 10th Feb </u>"
   ]
  },
  {
   "cell_type": "markdown",
   "id": "african-intro",
   "metadata": {},
   "source": [
    "#### Q1. Which function is used to open a file? What are the different modes of opening a file? Explain each mode of file opening."
   ]
  },
  {
   "cell_type": "markdown",
   "id": "obvious-ivory",
   "metadata": {},
   "source": [
    "`open()` function is used to open a file.\n",
    "\n",
    "There are several different modes of opening a file as below:\n",
    "\n",
    "- `'r'` :   open for reading (default)\n",
    "- `'w'` :   open for writing, truncating the file first\n",
    "- `'x'` :   create a new file and open it for writing\n",
    "- `'a'` :   open for writing, appending to the end of the file if it exists\n",
    "- `'b'` :   binary mode\n",
    "- `'t'` :   text mode (default)\n",
    "- `'+'` :   open a disk file for updating (reading and writing)\n",
    "- `'U'` :   universal newline mode (deprecated)"
   ]
  },
  {
   "cell_type": "markdown",
   "id": "suffering-moral",
   "metadata": {},
   "source": [
    "#### Q2. Why close() function is used? Why is it important to close a file?"
   ]
  },
  {
   "cell_type": "markdown",
   "id": "operating-bookmark",
   "metadata": {},
   "source": [
    "`close()` function is used to close the existing open file in memory.\n",
    "\n",
    "Suppose we open a file for writing purpose. Have write some text in it and we didn't close the file.\n",
    "\n",
    "We can not see any data in that file which we recently wrote.\n",
    "\n",
    "Once we use the `close()` funtion to close the file, the data will save in file and it free memory used by that file.\n",
    "\n",
    "So any `open()` file, `close()` is required."
   ]
  },
  {
   "cell_type": "markdown",
   "id": "loving-maryland",
   "metadata": {},
   "source": [
    "#### Q3. Write a python program to create a text file. Write ‘I want to become a Data Scientist’ in that file. Then close the file. Open this file and read the content of the file."
   ]
  },
  {
   "cell_type": "code",
   "execution_count": 1,
   "id": "brown-forty",
   "metadata": {},
   "outputs": [],
   "source": [
    "# create a file\n",
    "f = open('my_file.txt', 'w')\n",
    "\n",
    "# write some text in the file\n",
    "f.write('I want to become a Data Scientist.')\n",
    "\n",
    "# closing the file\n",
    "f.close()"
   ]
  },
  {
   "cell_type": "code",
   "execution_count": 2,
   "id": "dress-times",
   "metadata": {},
   "outputs": [
    {
     "name": "stdout",
     "output_type": "stream",
     "text": [
      "I want to become a Data Scientist.\n"
     ]
    }
   ],
   "source": [
    "# open the 'my_file.txt' in read mode\n",
    "f = open('my_file.txt', 'r')\n",
    "\n",
    "# read the entire content of a file\n",
    "print(f.read())"
   ]
  },
  {
   "cell_type": "markdown",
   "id": "collaborative-spread",
   "metadata": {},
   "source": [
    "#### Q4. Explain the following with python code: read(), readline() and readlines()."
   ]
  },
  {
   "cell_type": "markdown",
   "id": "velvet-building",
   "metadata": {},
   "source": [
    "`read()`: The read() method returns the specified number of bytes from the file. Default is -1 which means the whole file."
   ]
  },
  {
   "cell_type": "code",
   "execution_count": 3,
   "id": "funny-penetration",
   "metadata": {},
   "outputs": [
    {
     "name": "stdout",
     "output_type": "stream",
     "text": [
      "Data Science\n",
      "Data Analytics\n",
      "Machine Learning\n",
      "Deep Learning\n",
      "Big Data\n",
      "Web Development\n",
      "\n"
     ]
    }
   ],
   "source": [
    "# open the 'sample.txt' in read mode\n",
    "f = open('sample.txt', 'r')\n",
    "\n",
    "# I have following lines in my sample.txt file\n",
    "\"\"\"\n",
    "Data Science\n",
    "Data Analytics\n",
    "Machine Learning\n",
    "Deep Learning\n",
    "Big Data\n",
    "Web Development\n",
    "\"\"\"\n",
    "\n",
    "# read the entire content of a file\n",
    "print(f.read())"
   ]
  },
  {
   "cell_type": "markdown",
   "id": "prepared-reward",
   "metadata": {},
   "source": [
    "`readline()` : The readline() method is used to read one line at a time."
   ]
  },
  {
   "cell_type": "code",
   "execution_count": 4,
   "id": "shaped-foster",
   "metadata": {},
   "outputs": [
    {
     "name": "stdout",
     "output_type": "stream",
     "text": [
      "Data Science\n",
      "\n",
      "Data Analytics\n",
      "\n"
     ]
    }
   ],
   "source": [
    "# open the 'my_file.txt' in read mode\n",
    "f = open('sample.txt', 'r')\n",
    "\n",
    "# read one line from the open file \n",
    "print(f.readline())\n",
    "print(f.readline())\n"
   ]
  },
  {
   "cell_type": "markdown",
   "id": "stone-entrance",
   "metadata": {},
   "source": [
    "`readlines()` : The readlines() method reads until EOF using readline() and returns a list containing the lines."
   ]
  },
  {
   "cell_type": "code",
   "execution_count": 5,
   "id": "complete-sherman",
   "metadata": {},
   "outputs": [
    {
     "name": "stdout",
     "output_type": "stream",
     "text": [
      "['Data Science\\n', 'Data Analytics\\n', 'Machine Learning\\n', 'Deep Learning\\n', 'Big Data\\n', 'Web Development\\n']\n",
      "\n",
      "Data Science\n",
      "Data Analytics\n",
      "Machine Learning\n",
      "Deep Learning\n",
      "Big Data\n",
      "Web Development\n"
     ]
    }
   ],
   "source": [
    "# Open a file\n",
    "f = open(\"sample.txt\", \"r\")\n",
    "lines = f.readlines()\n",
    "print(lines)\n",
    "\n",
    "print()\n",
    "for line in lines:\n",
    "    print(line, end='')\n",
    "\n",
    "# Close opend file\n",
    "f.close()"
   ]
  },
  {
   "cell_type": "markdown",
   "id": "radical-luxury",
   "metadata": {},
   "source": [
    "#### Q5. Explain why `with` statement is used with `open()`. What is the advantage of using with statement and open() together?"
   ]
  },
  {
   "cell_type": "markdown",
   "id": "professional-window",
   "metadata": {},
   "source": [
    "- `with` statement in python is called the context manager. When we are using it with `open()` method, we don't require to use `close()` method explicitly for closing the file. It returns a file object, which has methods and attributes for getting information about and manipulating the opened file. \n",
    "\n",
    "**Advantage**\n",
    "* The advantage of using a with statement is that it is guaranteed to close the file no matter how the nested block exits.\n",
    "* If an exception occurs before the end of the block, it will close the file before the exception is caught by an outer exception handler. "
   ]
  },
  {
   "cell_type": "markdown",
   "id": "nervous-flashing",
   "metadata": {},
   "source": [
    "#### Q6. Explain the write() and writelines() functions. Give a suitable example."
   ]
  },
  {
   "cell_type": "markdown",
   "id": "attractive-private",
   "metadata": {},
   "source": [
    "- `write()` function/method is used to write a string to an already opened file\n",
    "- `writelines()` funtion/method is used to write a list of strings in an opened file"
   ]
  },
  {
   "cell_type": "code",
   "execution_count": 6,
   "id": "alpha-offering",
   "metadata": {},
   "outputs": [
    {
     "name": "stdout",
     "output_type": "stream",
     "text": [
      "I am interested in following courses:\n",
      "\n",
      "Python\n",
      "Streamlit\n",
      "Julia\n",
      "R\n"
     ]
    }
   ],
   "source": [
    "# list of courses\n",
    "courses = ['Streamlit\\n', 'Julia\\n', 'R\\n']\n",
    "\n",
    "# Open a file for writing\n",
    "with open(\"sample1.txt\", \"w\") as f:\n",
    "    f.write(\"Python\" + \"\\n\")\n",
    "    f.writelines(courses)\n",
    "    \n",
    "# Open the file for reading\n",
    "with open(\"sample1.txt\", \"r\") as f:\n",
    "    lines = f.readlines()\n",
    "    \n",
    "print(\"I am interested in following courses:\\n\")\n",
    "for line in lines:\n",
    "    print(line, end='')\n",
    "    "
   ]
  },
  {
   "cell_type": "code",
   "execution_count": null,
   "id": "realistic-dairy",
   "metadata": {},
   "outputs": [],
   "source": []
  }
 ],
 "metadata": {
  "kernelspec": {
   "display_name": "Python 3",
   "language": "python",
   "name": "python3"
  },
  "language_info": {
   "codemirror_mode": {
    "name": "ipython",
    "version": 3
   },
   "file_extension": ".py",
   "mimetype": "text/x-python",
   "name": "python",
   "nbconvert_exporter": "python",
   "pygments_lexer": "ipython3",
   "version": "3.8.2"
  }
 },
 "nbformat": 4,
 "nbformat_minor": 5
}
