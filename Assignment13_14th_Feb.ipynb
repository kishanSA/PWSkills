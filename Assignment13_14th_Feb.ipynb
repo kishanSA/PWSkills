{
 "cells": [
  {
   "cell_type": "markdown",
   "id": "ultimate-briefs",
   "metadata": {},
   "source": [
    "## <u> Assignment 13 -14th Feb </u>"
   ]
  },
  {
   "cell_type": "markdown",
   "id": "dying-czech",
   "metadata": {},
   "source": [
    "#### Q1. What is multithreading in python? Why is it used? Name the module used to handle threads in python."
   ]
  },
  {
   "cell_type": "markdown",
   "id": "regulation-carnival",
   "metadata": {},
   "source": [
    "`Multithreading` in Python programming is a well-known technique in which multiple threads in a process share their data space with the main thread which makes information sharing and communication within threads easy and efficient.\n",
    "Threads are lighter than processes. Multi threads may execute individually while sharing their process resources. The purpose of multithreading is to run multiple tasks and function cells at the same time.\n",
    "\n",
    "There are two main modules which can be used to handle threads in python.\n",
    "1. The `thread` module, and \n",
    "2. The `threading` moudle"
   ]
  },
  {
   "cell_type": "markdown",
   "id": "ceramic-burner",
   "metadata": {},
   "source": [
    "#### Q2. Why threading module used? Write the use of the following functions:\n",
    "1. activeCount()\n",
    "2. currentThread()\n",
    "3. enumerate()"
   ]
  },
  {
   "cell_type": "markdown",
   "id": "rocky-conflict",
   "metadata": {},
   "source": [
    "The `threading` module exposes all the methods of the `thread` module and provides some additional methods.\n",
    "The `threading` module provides a very simple and intuitive API for spawning multiple threads in a program.\n",
    "\n",
    "**1. activeCount()** − Returns the count of **Thread** objects which are still alive\n",
    "\n",
    "**2. currentThread()** − Returns the current object of the Thread class.\n",
    "\n",
    "**3. enumerate()** − Returns the lists all active Thread objects.."
   ]
  },
  {
   "cell_type": "markdown",
   "id": "south-pasta",
   "metadata": {},
   "source": [
    "#### Q3. Explain the following functions:\n",
    "1. run()\n",
    "2. start()\n",
    "3. join()\n",
    "4. isAlive()\n",
    "\n"
   ]
  },
  {
   "cell_type": "markdown",
   "id": "dental-blake",
   "metadata": {},
   "source": [
    "The above methods/functions are provided in `Thread` class of `threading` module.\n",
    "\n",
    "**run()** − This method denotes the activity of a thread and can be overridden by a class that extends the Thread class.\n",
    "\n",
    "**start()** − Starts the activity of a thread. It must be called only once for each thread because it will throw a runtime error if called multiple times.\n",
    "\n",
    "**join()** − It blocks the execution of other code until the thread on which the join() method was called gets terminated.\n",
    "\n",
    "**isAlive()** − The isAlive() method checks whether a thread is still executing."
   ]
  },
  {
   "cell_type": "markdown",
   "id": "separated-jaguar",
   "metadata": {},
   "source": [
    "#### Q4. Write a python program to create two threads. Thread one must print the list of squares and thread two must print the list of cubes.\n"
   ]
  },
  {
   "cell_type": "code",
   "execution_count": 1,
   "id": "fantastic-depth",
   "metadata": {},
   "outputs": [
    {
     "name": "stdout",
     "output_type": "stream",
     "text": [
      "Square of 1 is 1\n",
      "Square of 2 is 4\n",
      "Square of 3 is 9\n",
      "Square of 4 is 16\n",
      "Square of 5 is 25\n",
      "\n",
      "Cube of 1 is 1\n",
      "Cube of 2 is 8\n",
      "Cube of 3 is 27\n",
      "Cube of 4 is 64\n",
      "Cube of 5 is 125\n"
     ]
    }
   ],
   "source": [
    "# import threading module\n",
    "import threading\n",
    "\n",
    "\n",
    "# function for square of number\n",
    "def squares(num):\n",
    "    print(f\"Square of {num} is {num**2}\")\n",
    "\n",
    "\n",
    "# function for cube of number\n",
    "def cubes(num):\n",
    "    print(f\"Cube of {num} is {num**3}\")\n",
    "        \n",
    "lst = [1, 2, 3, 4, 5]\n",
    "\n",
    "t1 = [threading.Thread(target=squares, args=(n,)) for n in lst]\n",
    "t2 = [threading.Thread(target=cubes, args=(n,)) for n in lst]\n",
    "\n",
    "for t in t1:\n",
    "    t.start()\n",
    "\n",
    "print()\n",
    "\n",
    "for t in t2:\n",
    "    t.start()\n"
   ]
  },
  {
   "cell_type": "markdown",
   "id": "traditional-professor",
   "metadata": {},
   "source": [
    "#### Q5. State advantages and disadvantages of multithreading."
   ]
  },
  {
   "cell_type": "markdown",
   "id": "textile-footage",
   "metadata": {},
   "source": [
    "**Advantages**\n",
    "\n",
    "Multithreading in Python offers many advantages that make it a good choice and a widely popular approach. Here are the two main advantages:\n",
    "\n",
    "* Multithreading in Python streamlines the efficient utilization of resources as the threads share the same memory and data space.\n",
    "* It also allows the concurrent appearance of multiple tasks and reduces the response time. This improves the performance.\n",
    "* More responsive\n",
    "* Effective use of Multiprocessor architecture due to parallelism\n",
    "* Threads (since part of the same process) communicate with each other more easily than if they were separate processes\n",
    "* They do not require much memory overhead\n",
    "* Multi-threaded servers and interactive GUIs use multithreading exclusively.\n",
    "\n",
    "\n",
    "**Dis Advantages**\n",
    "\n",
    "* **Increased Complexity** − Multithreaded processes are quite complicated. Coding for these can only be handled by expert programmers.\n",
    "\n",
    "* **Complications due to Concurrency** − It is difficult to handle concurrency in multithreaded processes. This may lead to complications and future problems.\n",
    "\n",
    "* **Difficult to Identify Errors**− Identification and correction of errors is much more difficult in multithreaded processes as compared to single threaded processes.\n",
    "\n",
    "* **Testing Complications**− Testing is a complicated process in multithreaded programs as compared to single threaded programs. This is because defects can be timing related and not easy to identify.\n",
    "\n",
    "* **Unpredictable results**− Multithreaded programs can sometimes lead to unpredictable results as they are essentially multiple parts of a program that are running at the same time.\n",
    "\n",
    "* **Complications for Porting Existing Code**− A lot of testing is required for porting existing code in multithreading. Static variables need to be removed and any code or function calls that are not thread safe need to be replaced."
   ]
  },
  {
   "cell_type": "markdown",
   "id": "lucky-performance",
   "metadata": {},
   "source": [
    "#### Q6. Explain deadlocks and race conditions."
   ]
  },
  {
   "cell_type": "markdown",
   "id": "fabulous-howard",
   "metadata": {},
   "source": [
    "**Deadlock:**\n",
    "- This happens when **2 or more** threads are **waiting** on each other to release the resource for infinite amount of time.\n",
    "- In this the threads are in blocked state and not executing.\n",
    "\n",
    "**Race/Race Conditions:**\n",
    "- This happens when **2 or more** threads **run in parallel** but end up giving a result which is wrong and not equivalent if all the operations are done in sequential order.\n",
    "- Here all the threads run and execute there operations.\n",
    "\n",
    "In Coding we need to avoid both race and deadlock condition."
   ]
  },
  {
   "cell_type": "markdown",
   "id": "concerned-electricity",
   "metadata": {},
   "source": [
    "The following counter, for example, will become corrupted if increment() is called from multiple threads:"
   ]
  },
  {
   "cell_type": "code",
   "execution_count": 2,
   "id": "earned-likelihood",
   "metadata": {},
   "outputs": [
    {
     "name": "stdout",
     "output_type": "stream",
     "text": [
      "1655685\n"
     ]
    }
   ],
   "source": [
    "from threading import Thread\n",
    "\n",
    "class Counter(object):\n",
    "    def __init__(self):\n",
    "        self.value = 0\n",
    "    def increment(self):\n",
    "        self.value += 1\n",
    "            \n",
    "c = Counter()\n",
    "\n",
    "def go():\n",
    "    for i in range(1000000):\n",
    "        c.increment()\n",
    "\n",
    "# Run two threads that increment the counter:\n",
    "t1 = Thread(target=go)\n",
    "t1.start()\n",
    "t2 = Thread(target=go)\n",
    "t2.start()\n",
    "t1.join()\n",
    "t2.join()\n",
    "print(c.value)"
   ]
  },
  {
   "cell_type": "markdown",
   "id": "consolidated-detector",
   "metadata": {},
   "source": [
    "We incremented 1,000,000 times, but that's not what we got.\n",
    "\n",
    "One way to solve this is with locks:"
   ]
  },
  {
   "cell_type": "code",
   "execution_count": 3,
   "id": "split-logging",
   "metadata": {},
   "outputs": [
    {
     "name": "stdout",
     "output_type": "stream",
     "text": [
      "2000000\n"
     ]
    }
   ],
   "source": [
    "from threading import Lock\n",
    "\n",
    "class Counter(object):\n",
    "    def __init__(self):\n",
    "        self.value = 0\n",
    "        self.lock = Lock()\n",
    "    def increment(self):\n",
    "        with self.lock:\n",
    "            self.value += 1\n",
    "            \n",
    "c = Counter()\n",
    "\n",
    "def go():\n",
    "    for i in range(1000000):\n",
    "        c.increment()\n",
    "\n",
    "# Run two threads that increment the counter:\n",
    "t1 = Thread(target=go)\n",
    "t1.start()\n",
    "t2 = Thread(target=go)\n",
    "t2.start()\n",
    "t1.join()\n",
    "t2.join()\n",
    "print(c.value)          "
   ]
  },
  {
   "cell_type": "code",
   "execution_count": null,
   "id": "greek-worry",
   "metadata": {},
   "outputs": [],
   "source": []
  }
 ],
 "metadata": {
  "kernelspec": {
   "display_name": "Python 3",
   "language": "python",
   "name": "python3"
  },
  "language_info": {
   "codemirror_mode": {
    "name": "ipython",
    "version": 3
   },
   "file_extension": ".py",
   "mimetype": "text/x-python",
   "name": "python",
   "nbconvert_exporter": "python",
   "pygments_lexer": "ipython3",
   "version": "3.8.2"
  }
 },
 "nbformat": 4,
 "nbformat_minor": 5
}
