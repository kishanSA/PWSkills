{
 "cells": [
  {
   "cell_type": "markdown",
   "id": "thrown-expert",
   "metadata": {},
   "source": [
    "## <u> Assignment 9 - 9th Feb </u>"
   ]
  },
  {
   "cell_type": "markdown",
   "id": "recovered-christmas",
   "metadata": {},
   "source": [
    "#### Q1. Create a vehicle class with an init method having instance variables as name_of_vehicle, max_speed and average_of_vehicle. "
   ]
  },
  {
   "cell_type": "code",
   "execution_count": 1,
   "id": "uniform-romania",
   "metadata": {},
   "outputs": [],
   "source": [
    "# base classs\n",
    "\n",
    "class Vehicle():\n",
    "    \n",
    "    def __init__(self, name_of_vehicle, max_speed, average_of_vehicle):\n",
    "        self.name_of_vehicle = name_of_vehicle\n",
    "        self.max_speed = max_speed\n",
    "        self.average_of_vehicle = average_of_vehicle        "
   ]
  },
  {
   "cell_type": "markdown",
   "id": "accompanied-scale",
   "metadata": {},
   "source": [
    "### Q2. Create a child class car from the vehicle class created in Que 1, which will inherit the vehicle class. Create a method named seating_capacity which takes capacity as an argument and returns the name of the vehicle and its seating capacity."
   ]
  },
  {
   "cell_type": "code",
   "execution_count": 2,
   "id": "gross-industry",
   "metadata": {},
   "outputs": [],
   "source": [
    "# child classs\n",
    "\n",
    "class Car(Vehicle):\n",
    "    \n",
    "    def seating_capacity(self, capacity):\n",
    "        self.capacity = capacity\n",
    "        print(f\"Vehicle: {self.name_of_vehicle}, Seating Capacity: {self.capacity}\")"
   ]
  },
  {
   "cell_type": "code",
   "execution_count": 3,
   "id": "labeled-pencil",
   "metadata": {},
   "outputs": [],
   "source": [
    "c1 = Car('BMW', 150, 25)"
   ]
  },
  {
   "cell_type": "code",
   "execution_count": 4,
   "id": "blind-visiting",
   "metadata": {},
   "outputs": [
    {
     "name": "stdout",
     "output_type": "stream",
     "text": [
      "Vehicle: BMW, Seating Capacity: 4\n"
     ]
    }
   ],
   "source": [
    "c1.seating_capacity(4)"
   ]
  },
  {
   "cell_type": "markdown",
   "id": "cheap-aaron",
   "metadata": {},
   "source": [
    "#### Q3. What is multiple inheritance? Write a python code to demonstrate multiple inheritance."
   ]
  },
  {
   "cell_type": "markdown",
   "id": "general-composite",
   "metadata": {},
   "source": [
    "When a class can be derived from more than one base class this type of inheritance is called multiple inheritances. In multiple inheritances, all the features of the base classes are inherited into the derived class."
   ]
  },
  {
   "cell_type": "code",
   "execution_count": 5,
   "id": "imported-walker",
   "metadata": {},
   "outputs": [
    {
     "name": "stdout",
     "output_type": "stream",
     "text": [
      "Mother name : Jennifer\n",
      "Father name : Robert\n"
     ]
    }
   ],
   "source": [
    "# Multiple Inheritance example\n",
    "\n",
    "# Base class1\n",
    "class Mother:\n",
    "    mother_name = \"\"\n",
    " \n",
    "    def mother(self):\n",
    "        print(self.mother_name)\n",
    "\n",
    "# Base class2\n",
    "class Father:\n",
    "    father_name = \"\"\n",
    " \n",
    "    def father(self):\n",
    "        print(self.father_name)\n",
    "\n",
    "# Derived class\n",
    "class Child(Mother, Father):\n",
    "    def parents(self):\n",
    "        print(f\"Mother name : {self.mother_name}\")\n",
    "        print(f\"Father name : {self.father_name}\")\n",
    "\n",
    "c1 = Child()\n",
    "c1.father_name = \"Robert\"\n",
    "c1.mother_name = \"Jennifer\"\n",
    "c1.parents()"
   ]
  },
  {
   "cell_type": "markdown",
   "id": "commercial-camera",
   "metadata": {},
   "source": [
    "#### Q4. What are getter and setter in python? Create a class and create a getter and a setter method in this class."
   ]
  },
  {
   "cell_type": "markdown",
   "id": "unexpected-diagram",
   "metadata": {},
   "source": [
    "The main purpose of using getters and setters in object-oriented programs is to ensure data encapsulation.\n",
    "Private variables in python are not actually hidden fields like in other object oriented languages.\n",
    "\n",
    "- We can use getters & setters to add validation logic around getting and setting a value.\n",
    "- To avoid direct access of a class field i.e. private variables cannot be accessed directly or modified by external user"
   ]
  },
  {
   "cell_type": "code",
   "execution_count": 6,
   "id": "viral-nursing",
   "metadata": {},
   "outputs": [],
   "source": [
    "class Mentor:\n",
    "    \n",
    "    def __init__(self):\n",
    "        self.__name = \"\"\n",
    "        \n",
    "    # property decorator\n",
    "    @property\n",
    "    def name(self):\n",
    "        print(\"calling getter\")\n",
    "        return self.__name\n",
    "\n",
    "    # setter method\n",
    "    @name.setter\n",
    "    def name(self, value):\n",
    "        print(\"calling setter\")\n",
    "        self.__name = value"
   ]
  },
  {
   "cell_type": "code",
   "execution_count": 7,
   "id": "arbitrary-backing",
   "metadata": {},
   "outputs": [],
   "source": [
    "# creating instance of class\n",
    "mentor1 = Mentor()"
   ]
  },
  {
   "cell_type": "code",
   "execution_count": 8,
   "id": "treated-carbon",
   "metadata": {},
   "outputs": [
    {
     "name": "stdout",
     "output_type": "stream",
     "text": [
      "calling setter\n",
      "calling getter\n",
      "Mentor Name: Krish\n"
     ]
    }
   ],
   "source": [
    "# setting the name of mentor\n",
    "mentor1.name = \"Krish\"\n",
    "# display name using getter method\n",
    "print(f\"Mentor Name: {mentor1.name}\")"
   ]
  },
  {
   "cell_type": "markdown",
   "id": "fatty-picture",
   "metadata": {},
   "source": [
    "#### Q5.What is method overriding in python? Write a python code to demonstrate method overriding."
   ]
  },
  {
   "cell_type": "markdown",
   "id": "international-responsibility",
   "metadata": {},
   "source": [
    "**Method overriding** in Python is when you have two methods with the same name that each perform different tasks. This is an important feature of inheritance in Python. In method overriding, the child class has access to the properties and functions of the parent class method while also extending additional functions of its own to the method."
   ]
  },
  {
   "cell_type": "code",
   "execution_count": 9,
   "id": "existing-budapest",
   "metadata": {},
   "outputs": [
    {
     "name": "stdout",
     "output_type": "stream",
     "text": [
      "We are overriding the method Walk in this code.\n",
      "I am from the child class.\n",
      "I am from the parent class.\n"
     ]
    }
   ],
   "source": [
    "class Animal:\n",
    "    def Walk(self):\n",
    "        print('I am from the parent class.')\n",
    "\n",
    "class Cow(Animal):\n",
    "    def Walk(self):\n",
    "        print('I am from the child class.')\n",
    "        \n",
    "print('We are overriding the method Walk in this code.')\n",
    "\n",
    "# Invoking child class through object c\n",
    "c = Cow()\n",
    "c.Walk()\n",
    "\n",
    "# Invoking parent class through object c\n",
    "\n",
    "c = Animal()\n",
    "c.Walk()"
   ]
  },
  {
   "cell_type": "code",
   "execution_count": null,
   "id": "angry-assurance",
   "metadata": {},
   "outputs": [],
   "source": []
  }
 ],
 "metadata": {
  "kernelspec": {
   "display_name": "Python 3",
   "language": "python",
   "name": "python3"
  },
  "language_info": {
   "codemirror_mode": {
    "name": "ipython",
    "version": 3
   },
   "file_extension": ".py",
   "mimetype": "text/x-python",
   "name": "python",
   "nbconvert_exporter": "python",
   "pygments_lexer": "ipython3",
   "version": "3.8.2"
  }
 },
 "nbformat": 4,
 "nbformat_minor": 5
}
