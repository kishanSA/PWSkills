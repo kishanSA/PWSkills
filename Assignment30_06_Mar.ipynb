{
 "cells": [
  {
   "cell_type": "markdown",
   "id": "consolidated-alexandria",
   "metadata": {},
   "source": [
    "## <u> Assignment 30 - 06 Mar </u>"
   ]
  },
  {
   "cell_type": "markdown",
   "id": "particular-freedom",
   "metadata": {},
   "source": [
    "#### Q1. What is Statistics?"
   ]
  },
  {
   "cell_type": "markdown",
   "id": "pleasant-bargain",
   "metadata": {},
   "source": [
    "**Statistics** is the science of *collecting, organizing, interpreting, analyzing,* and *summarising* the data.\n",
    "\n",
    " In data science, Statistics is a set of mathematical methods and tools that enable us to answer important questions about data."
   ]
  },
  {
   "cell_type": "markdown",
   "id": "million-voluntary",
   "metadata": {},
   "source": [
    "#### Q2. Define the different types of statistics and give an example of when each type might be used."
   ]
  },
  {
   "cell_type": "markdown",
   "id": "ranging-comment",
   "metadata": {},
   "source": [
    "Statistics have majorly categorised into two types:\n",
    "\n",
    "1. Descriptive statistics\n",
    "2. Inferential statistics\n",
    "\n",
    "**Descriptive statistics**\n",
    "\n",
    "It is used to quantitatively describe the attributes of the known data and provides summaries of either the sample or the population. The summarisation is one from a sample of population using parameters such as the mean or standard deviation. \n",
    "\n",
    "**eg:** \n",
    "- The collection of people in a city using the internet or using Television.\n",
    "- The collection of marks obtained by 50 students.\n",
    "\n",
    "\n",
    "**Inferential statistics**\n",
    "\n",
    "This type of statistics is used to interpret the meaning of Descriptive statistics. That means once the data has been collected, analysed and summarised then we use these stats to describe the meaning of the collected data. Or we can say, it is used to draw conclusions from the data that depends on random variations such as observational errors, sampling variation, etc. In short, it is used to make decisions, predictions or inferences from a population.\n",
    "\n",
    "**eg:** \n",
    "- Deriving estimates from hypothetical research.\n",
    "- The relationship between SAT scores and family income.\n",
    "\n"
   ]
  },
  {
   "cell_type": "markdown",
   "id": "sonic-master",
   "metadata": {},
   "source": [
    "#### Q3. What are the different types of data and how do they differ from each other? Provide an example of each type of data."
   ]
  },
  {
   "cell_type": "markdown",
   "id": "monetary-talent",
   "metadata": {},
   "source": [
    "**Qualitative** and **Quantitative** are the main two types of data. They are further classified into sub categories.\n",
    "\n",
    "1. **Qualitative** or **Categorical** Data is data that can't be measured or counted in the form of numbers.\n",
    "\n",
    "    - **Nominal Data:** It is used to label variables without any order or quantitative value. \n",
    "        - **eg:** Color of hair, Marital status, Nationality etc.\n",
    "    - **Ordinal Data:** It has natural ordering where a number is present in some kind of order by their position on the scale.\n",
    "        - **eg:** Ranking of people in a competition, customer satisfaction, Econoic Status, Education Level etc.\n",
    "        \n",
    "2. **Quantitative** can be expressed in numerical values, making it countable and including statistical data analysis. These kinds of data are also known as Numerical data. It answers the questions like “how much,” “how many,” and “how often.”\n",
    "    - **Discrete Data:** The term discrete means distinct or separate. The discrete data contain the values that fall under integers or whole numbers. They are countable and have finite values; their subdivision is not possible.\n",
    "        - **eg:** Cost of a cell phone, Numbers of employees in a company, Days in a week\n",
    "    - **Continuous Data:** They are in the form of fractional numbers. Continuous data represents information that can be divided into smaller levels. The continuous variable can take any value within a range. \n",
    "        - **eg:** Height of a person, Length of an object, Speed of a vehicle, Wi-Fi frequency, Market share price etc."
   ]
  },
  {
   "cell_type": "markdown",
   "id": "moved-today",
   "metadata": {},
   "source": [
    "#### Q4. Categorise the following datasets with respect to quantitative and qualitative data types:"
   ]
  },
  {
   "cell_type": "markdown",
   "id": "faced-sunset",
   "metadata": {},
   "source": [
    "- (i)\tGrading in exam: A+, A, B+, B, C+, C, D, E - **Qualitative Ordinal Data**\n",
    "- (ii)\tColour of mangoes: yellow, green, orange, red - **Qualitative Nominal Data**\n",
    "- (iii)\tHeight data of a class: [178.9, 179, 179.5, 176, 177.2, 178.3, 175.8,...] - **Quantitative Continuous Data**\n",
    "- (iv)\tNumber of mangoes exported by a farm: [500, 600, 478, 672, …] - **Quantitative Discrete Data**"
   ]
  },
  {
   "cell_type": "markdown",
   "id": "patient-broad",
   "metadata": {},
   "source": [
    "#### Q5. Explain the concept of levels of measurement and give an example of a variable for each level."
   ]
  },
  {
   "cell_type": "markdown",
   "id": "deluxe-survey",
   "metadata": {},
   "source": [
    "In statistics, level of measurement, also known as scale of measurement is a classification that relates the values that are assigned to variables with each other. In other words, level of measurement is used to describe information within the values. Psychologist **Stanley Smith** is known for developing four levels of measurement: **nominal, ordinal, interval, and ratio.**\n",
    "\n",
    "<u>**Nominal Scale:**</u> It is contain the least amount of information. Used to categorize data into mutually exclusive categories or groups. There is no ranked or ordered.\n",
    "- **eg.** a fund manager may choose to assign the number 1 to small-cap stocks, the number 2 to corporate bonds, the number 3 to derivatives, and so on.\n",
    "\n",
    "<u>**Ordinal Scale:**</u> There is an ordered relationship between the variable's observations. Used to measure variables in a natural order, such as rating or ranking. They provide meaningful insights into attitudes, preferences, and behaviors by understanding the order of responses.\n",
    "- **eg.** a list of 500 managers of mutual funds may be ranked by assigning the number 1 to the best-performing manager, the number 2 to the second best-performing manager, and so on.\n",
    "\n",
    "<u>**Interval Scale:**</u> It is an ordinal scale but with equivalent scale values from low to high intervals. They also provide assurance that the differences between values are equal. A drawback in interval scales is that they do not have a true zero point. Zero does not represent an absence of something in an interval scale. \n",
    "- **eg.** The temperature 60°C is colder than 65°C, and the temperature difference is the same as the difference between 50°C and 55°C. In other words, the difference of 5°C in both intervals shares the same interpretation and meaning.\n",
    "\n",
    "<u>**Ratio Scale:**</u> Ratio scales are the most informative scales. Ratio scales provide rankings, assure equal differences between scale values, and have a true zero point.\n",
    "- **eg.** The measurement of money is an example of a ratio scale. An individual with \\\\$0 has an absence of money. With a \n",
    "true zero point, it would be correct to say that someone with \\\\$100 has twice as much money as someone with \\\\$50."
   ]
  },
  {
   "cell_type": "markdown",
   "id": "normal-shower",
   "metadata": {},
   "source": [
    "#### Q6. Why is it important to understand the level of measurement when analyzing data? Provide an example to illustrate your answer."
   ]
  },
  {
   "cell_type": "markdown",
   "id": "unable-astrology",
   "metadata": {},
   "source": [
    "It is important to understand the level of measurement of variables in research, because the level of measurement determines the type of statistical analysis that can be conducted, and, therefore, the type of conclusions that can be drawn from the research. When gathering data for analysis, you might notice that the information varies in degree of complexity from past analyses. You can describe the varying degree of complexity using levels of measurement, which help you categorize data by how you can analyze it. Learning about the four levels of measurement allows statisticians and analysts to more efficiently plan for research and present their findings.\n",
    "\n",
    "For example, you can measure the variable of income at an ordinal or ratio level.\n",
    "\n",
    "In ordinal level, you create brackets of income ranges:**\\\\$0–\\\\$19,999, \\\\$20,000–\\\\$39,999, and \\\\$40,000–\\\\$59,999.** You ask participants to select the bracket that represents their annual income. The brackets are coded with numbers from 1–3.\n",
    "\n",
    "In Ratio level, you collect data on the exact annual incomes of your participants. \n",
    "\n",
    "At a ratio level, you can see that the difference between A and B's incomes is far greater than the difference between B and C's incomes.\n",
    "\n",
    "At an ordinal level, however, you only know the income bracket for each participant, not their exact income. Since you cannot say exactly how much each income differs from the others in your data set, you can only order the income levels and group the participants.\n"
   ]
  },
  {
   "cell_type": "markdown",
   "id": "coupled-stable",
   "metadata": {},
   "source": [
    "#### Q7. How nominal data type is different from ordinal data type."
   ]
  },
  {
   "cell_type": "markdown",
   "id": "structured-treat",
   "metadata": {},
   "source": [
    "**Nominal** and **ordinal** both are part of categorical data, but they are different by the level of measurement and the what type of information they provide.\n",
    "\n",
    "**Nominal data** contains least amount of information so it is the lowest level of measurement. It represents distinct categories or groups. This data cannot be ranked or ordered. eg.: gender, ethnicity, race\n",
    "\n",
    "**Ordinal data** has ordered relationship between variable's value. The difference between categories may not be always equal or meaningful. eg.: level of satisfaction/happiness, grade rating\n"
   ]
  },
  {
   "cell_type": "markdown",
   "id": "rational-ladder",
   "metadata": {},
   "source": [
    "#### Q8. Which type of plot can be used to display data in terms of range?"
   ]
  },
  {
   "cell_type": "markdown",
   "id": "olive-explosion",
   "metadata": {},
   "source": [
    "To display data in terms of range, one can use histogram or box plot.\n",
    "\n",
    "**Histograms:** It show the distribution of a quantitative variable by using bars whose height represents the number of individuals whose values fall within a specific range. It is used to summarize discrete or continuous data that are measured on an interval scale. In a histogram, the range is the width that the bars cover along the x-axis. These are approximate values because histograms display bin values rather than raw data values.\n",
    "\n",
    "**Box Plot:** A box and whisker plot—also called a box plot—displays the five-number summary of a set of data. The five-number summary is the minimum, first quartile, median, third quartile, and maximum. In a box plot, we draw a box from the first quartile to the third quartile. A vertical line goes through the box at the median. In descriptive statistics, a box plot or boxplot is a method for graphically demonstrating the locality, spread and skewness groups of numerical data through their quartiles.\n"
   ]
  },
  {
   "cell_type": "markdown",
   "id": "indian-editing",
   "metadata": {},
   "source": [
    "#### Q9. Describe the difference between descriptive and inferential statistics. Give an example of each type of statistics and explain how they are used."
   ]
  },
  {
   "cell_type": "markdown",
   "id": "electoral-collapse",
   "metadata": {},
   "source": [
    "Both descriptive and inferential statistics are equally important to analyze data.\n",
    "\n",
    "**1. Descriptive Statistics**\n",
    "\n",
    "- It is used to describe the characteristics of the population using a sample.\n",
    "- Tools used are Measures of central tendency and measures of dispersion.\n",
    "- Organizes, describes and presents data in a meaningful way with the help of charts and graphs.\n",
    "- It is used to summarize known data in a way that can be used for further predictions and analysis.\n",
    "\n",
    "**2. Inferential Statistics**\n",
    "\n",
    "- It uses various analytical tools to draw inferences about the population using samples.\n",
    "- Tools used are Hypothesis testing and regression analysis.\n",
    "- Tests, predicts, and compares data obtained from various samples.\n",
    "- It tries to use the summarized samples to draw conclusions about the population.\n",
    "\n",
    "\n",
    "**Example:** \n",
    "Suppose the scores of 100 students belonging to a specific country are available. The performance of these students needs to be examined. This data by itself will not yield any valuable results. However, by using **descriptive statistics**, the spread of the marks can be obtained thus, giving a clear idea regarding the performance of each student.\n",
    "\n",
    "Now suppose the scores of the students of an entire country need to be examined. Using a sample of, say 100 students, **inferential statistics** is used to make generalizations about the population.\n",
    "\n"
   ]
  },
  {
   "cell_type": "markdown",
   "id": "confirmed-governor",
   "metadata": {},
   "source": [
    "#### Q10. What are some common measures of central tendency and variability used in statistics? Explain how each measure can be used to describe a dataset."
   ]
  },
  {
   "cell_type": "markdown",
   "id": "arabic-cornwall",
   "metadata": {},
   "source": [
    "Central tendency and variation are two measures used in statistics to summarize data.\n",
    "\n",
    "**Measure of central tendency** \n",
    "\n",
    "This measure is an important way to summarize the dataset with one representative value. This measure provides a rough picture of where data points are centered. The commonly used measures of central tendency are:\n",
    "  - **Mean:** Average value is termed as the mean of the dataset.\n",
    "  - **Median:** The middle value of the sorted dataset is called the median.\n",
    "  - **Mode:** The most frequently occurring value in the dataset is called mode. \n",
    "\n",
    "**Measure of variation** \n",
    "\n",
    "This measure describes how far apart data points lie from each other and from the center of a distribution. There are many ways of measuring the dispersion in the data, some major ways to measure the spread are given below: \n",
    "  - **Range:** The difference between the maximum and the minimum values of the observations in the data. \n",
    "  - **Varuance:** The distance of the observed values from the mean of the distribution. \n",
    "  - **Standard Deviation:** The square root of variance."
   ]
  }
 ],
 "metadata": {
  "kernelspec": {
   "display_name": "Python 3",
   "language": "python",
   "name": "python3"
  },
  "language_info": {
   "codemirror_mode": {
    "name": "ipython",
    "version": 3
   },
   "file_extension": ".py",
   "mimetype": "text/x-python",
   "name": "python",
   "nbconvert_exporter": "python",
   "pygments_lexer": "ipython3",
   "version": "3.8.2"
  }
 },
 "nbformat": 4,
 "nbformat_minor": 5
}
