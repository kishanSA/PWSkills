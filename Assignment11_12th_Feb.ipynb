{
 "cells": [
  {
   "cell_type": "markdown",
   "id": "nominated-number",
   "metadata": {},
   "source": [
    "## <u> Assignment 11 - 12th Feb </u>"
   ]
  },
  {
   "cell_type": "markdown",
   "id": "broadband-judgment",
   "metadata": {},
   "source": [
    "#### Q1. What is an Exception in python? Write the difference between Exceptions and Syntax errors."
   ]
  },
  {
   "cell_type": "markdown",
   "id": "primary-beads",
   "metadata": {},
   "source": [
    "An `Exception` is an unexpected event that occurs during the program execution. For example\n",
    "`num = 7 /0`\n",
    "The above code causes an exception as it is not apooible to divide a number by 0."
   ]
  },
  {
   "cell_type": "markdown",
   "id": "orange-fruit",
   "metadata": {},
   "source": [
    "- **Syntax Errors** \n",
    "This is mostly occurs when the interpreter encounters invalid syntax in code. When Python code is executed, the interpreter parses it to convert it into bytecode. If the interpreter finds any invalid syntax during the parsing stage, a SyntaxError is thrown.\n",
    "\n",
    "- **Exception**\n",
    "An exception is a Python object that represents an error. It happens during the execution of a program. Whenever there is an error, Python generates an exception that could be handled. It basically prevents the program from getting crashed."
   ]
  },
  {
   "cell_type": "markdown",
   "id": "sunrise-agent",
   "metadata": {},
   "source": [
    "#### Q2. What happens when an exception is not handled? Explain with an example."
   ]
  },
  {
   "cell_type": "markdown",
   "id": "legal-banner",
   "metadata": {},
   "source": [
    "If exception is not handled by code, it will throw an error and program stop running."
   ]
  },
  {
   "cell_type": "code",
   "execution_count": 1,
   "id": "republican-riverside",
   "metadata": {},
   "outputs": [
    {
     "ename": "FileNotFoundError",
     "evalue": "[Errno 2] No such file or directory: 'noFile.txt'",
     "output_type": "error",
     "traceback": [
      "\u001b[1;31m---------------------------------------------------------------------------\u001b[0m",
      "\u001b[1;31mFileNotFoundError\u001b[0m                         Traceback (most recent call last)",
      "\u001b[1;32m<ipython-input-1-312896bdf5ae>\u001b[0m in \u001b[0;36m<module>\u001b[1;34m\u001b[0m\n\u001b[0;32m      2\u001b[0m \u001b[1;31m# this will throw exception 'FileNotFoundError'\u001b[0m\u001b[1;33m\u001b[0m\u001b[1;33m\u001b[0m\u001b[1;33m\u001b[0m\u001b[0m\n\u001b[0;32m      3\u001b[0m \u001b[1;33m\u001b[0m\u001b[0m\n\u001b[1;32m----> 4\u001b[1;33m \u001b[0mf\u001b[0m \u001b[1;33m=\u001b[0m \u001b[0mopen\u001b[0m\u001b[1;33m(\u001b[0m\u001b[1;34m'noFile.txt'\u001b[0m\u001b[1;33m,\u001b[0m \u001b[1;34m'r'\u001b[0m\u001b[1;33m)\u001b[0m\u001b[1;33m\u001b[0m\u001b[1;33m\u001b[0m\u001b[0m\n\u001b[0m\u001b[0;32m      5\u001b[0m \u001b[0mprint\u001b[0m\u001b[1;33m(\u001b[0m\u001b[0mf\u001b[0m\u001b[1;33m.\u001b[0m\u001b[0mread\u001b[0m\u001b[1;33m(\u001b[0m\u001b[1;33m)\u001b[0m\u001b[1;33m)\u001b[0m\u001b[1;33m\u001b[0m\u001b[1;33m\u001b[0m\u001b[0m\n",
      "\u001b[1;31mFileNotFoundError\u001b[0m: [Errno 2] No such file or directory: 'noFile.txt'"
     ]
    }
   ],
   "source": [
    "# trying to open not existed text file with open() method\n",
    "# this will throw exception 'FileNotFoundError'\n",
    "\n",
    "f = open('noFile.txt', 'r')\n",
    "print(f.read())"
   ]
  },
  {
   "cell_type": "markdown",
   "id": "divided-roommate",
   "metadata": {},
   "source": [
    "#### Q3. Which Python statements are used to catch and handle exceptions? Explain with an example."
   ]
  },
  {
   "cell_type": "markdown",
   "id": "configured-providence",
   "metadata": {},
   "source": [
    "`try` and `except` are used to catch and handle exceptions in python code."
   ]
  },
  {
   "cell_type": "code",
   "execution_count": 2,
   "id": "general-mercury",
   "metadata": {},
   "outputs": [
    {
     "name": "stdout",
     "output_type": "stream",
     "text": [
      "No such file named 'nofile.txt' in current directory found.\n"
     ]
    }
   ],
   "source": [
    "# opening un existed text file and catch the exception\n",
    "\n",
    "try:\n",
    "    file_name = 'nofile.txt'\n",
    "    f = open(file_name)\n",
    "    print(f.read())\n",
    "except:\n",
    "    print(f\"No such file named '{file_name}' in current directory found.\")"
   ]
  },
  {
   "cell_type": "markdown",
   "id": "forward-provider",
   "metadata": {},
   "source": [
    "#### Q4. Explain with an example"
   ]
  },
  {
   "cell_type": "markdown",
   "id": "brilliant-convergence",
   "metadata": {},
   "source": [
    "**a.** <b>try and else </b>\n",
    "\n",
    "If you think that your code is suspicious and might be broke while running, you can put them in `try -- except` block to handle the error. And if there is no any error during running the try block, then `else` block will execute to complete the program execution."
   ]
  },
  {
   "cell_type": "code",
   "execution_count": 3,
   "id": "swedish-acrylic",
   "metadata": {},
   "outputs": [
    {
     "name": "stdout",
     "output_type": "stream",
     "text": [
      "3.0\n",
      "Congrates! No error in try block.\n"
     ]
    }
   ],
   "source": [
    "#example of try - except - else\n",
    "\n",
    "try:\n",
    "    num = 15\n",
    "    print(num/5)\n",
    "except Exception as e:\n",
    "    print(e)\n",
    "else:\n",
    "    print(\"Congrates! No error in try block.\")"
   ]
  },
  {
   "cell_type": "markdown",
   "id": "sonic-polls",
   "metadata": {},
   "source": [
    "**b.** <b> finally </b>\n",
    "\n",
    "The `finally` block will be executed no matter if the try block raises an error or not.\n",
    "This can be useful to close objects and clean up resources."
   ]
  },
  {
   "cell_type": "code",
   "execution_count": 4,
   "id": "soviet-motion",
   "metadata": {},
   "outputs": [
    {
     "name": "stdout",
     "output_type": "stream",
     "text": [
      "This is finally block. The try...except block is finished.\n"
     ]
    }
   ],
   "source": [
    "# example of finally block\n",
    "\n",
    "try:\n",
    "    num > 10\n",
    "except:\n",
    "    print(\"Something wrong in code.\")\n",
    "finally:\n",
    "    print(\"This is finally block. The try...except block is finished.\")"
   ]
  },
  {
   "cell_type": "markdown",
   "id": "recent-favor",
   "metadata": {},
   "source": [
    "**c.** <b> raise </b>\n",
    "\n",
    "The `raise` keyword is used to raise an exception.\n",
    "\n",
    "You can define what kind of error to raise, and the text to print to the user."
   ]
  },
  {
   "cell_type": "code",
   "execution_count": 5,
   "id": "still-somewhere",
   "metadata": {},
   "outputs": [
    {
     "name": "stdout",
     "output_type": "stream",
     "text": [
      "Enter your age: thirty\n"
     ]
    },
    {
     "ename": "TypeError",
     "evalue": "Only integers are allowed.",
     "output_type": "error",
     "traceback": [
      "\u001b[1;31m---------------------------------------------------------------------------\u001b[0m",
      "\u001b[1;31mTypeError\u001b[0m                                 Traceback (most recent call last)",
      "\u001b[1;32m<ipython-input-5-e0cd3b688538>\u001b[0m in \u001b[0;36m<module>\u001b[1;34m\u001b[0m\n\u001b[0;32m      6\u001b[0m     \u001b[0mprint\u001b[0m\u001b[1;33m(\u001b[0m\u001b[1;34mf\"You are {age} years old.\"\u001b[0m\u001b[1;33m)\u001b[0m\u001b[1;33m\u001b[0m\u001b[1;33m\u001b[0m\u001b[0m\n\u001b[0;32m      7\u001b[0m \u001b[1;32melse\u001b[0m\u001b[1;33m:\u001b[0m\u001b[1;33m\u001b[0m\u001b[1;33m\u001b[0m\u001b[0m\n\u001b[1;32m----> 8\u001b[1;33m     \u001b[1;32mraise\u001b[0m \u001b[0mTypeError\u001b[0m\u001b[1;33m(\u001b[0m\u001b[1;34m\"Only integers are allowed.\"\u001b[0m\u001b[1;33m)\u001b[0m\u001b[1;33m\u001b[0m\u001b[1;33m\u001b[0m\u001b[0m\n\u001b[0m\u001b[0;32m      9\u001b[0m \u001b[1;33m\u001b[0m\u001b[0m\n",
      "\u001b[1;31mTypeError\u001b[0m: Only integers are allowed."
     ]
    }
   ],
   "source": [
    "# example of raise keyword\n",
    "\n",
    "age = input(\"Enter your age: \")\n",
    "\n",
    "if age.isdigit():\n",
    "    print(f\"You are {age} years old.\")\n",
    "else:\n",
    "    raise TypeError(\"Only integers are allowed.\")\n",
    "    "
   ]
  },
  {
   "cell_type": "markdown",
   "id": "driving-bargain",
   "metadata": {},
   "source": [
    "#### Q5. What are Custom Exceptions in python? Why do we need Custom Exceptions? Explain with an example.\n",
    "\n",
    "Python provides a lot of built-in exception classes that outputs an error when something in your code goes wrong.\n",
    "The error classes can also be used to handle those specific exceptions using try-except blocks.\n",
    "\n",
    "However, there are times, when you need to provide more context in exceptions to deal with specific requirements.\n",
    "To handle this kind of situation we need to write user-define exception class. This is called `Custom Exceptions` in python.\n",
    "\n",
    "One should use the Custom Exception class for the following reasons.\n",
    "1. To improve readability of your code.\n",
    "2. To enhance reusability of features.\n",
    "3. To provide custom messages/instructions to users for specific use cases."
   ]
  },
  {
   "cell_type": "code",
   "execution_count": 6,
   "id": "level-camping",
   "metadata": {},
   "outputs": [
    {
     "name": "stdout",
     "output_type": "stream",
     "text": [
      "Enter a number: 0\n",
      "Input value is zero, try again!\n"
     ]
    }
   ],
   "source": [
    "# user-defined exceptions\n",
    "\n",
    "class MyError(Exception):\n",
    "    \"\"\"Base class for other exceptions\"\"\"\n",
    "    pass\n",
    " \n",
    "class MyZeroDivision(MyError):\n",
    "    \"\"\"Raised when the input value is zero\"\"\"\n",
    "    pass\n",
    " \n",
    "try:\n",
    "    num = int(input(\"Enter a number: \"))\n",
    "    if num == 0:\n",
    "        raise MyZeroDivision\n",
    "except MyZeroDivision:\n",
    "    print(\"Input value is zero, try again!\")   "
   ]
  },
  {
   "cell_type": "markdown",
   "id": "complete-lounge",
   "metadata": {},
   "source": [
    "#### Q6. Create a Custom Exception class. Use this class to handle an exception."
   ]
  },
  {
   "cell_type": "code",
   "execution_count": 7,
   "id": "noted-consolidation",
   "metadata": {},
   "outputs": [
    {
     "name": "stdout",
     "output_type": "stream",
     "text": [
      "Guess a position ==> 5\n",
      "You are only allowed to guess between -4 and 3\n"
     ]
    }
   ],
   "source": [
    "# example of custom exception\n",
    "\n",
    "class MyIndexError(Exception):\n",
    "    \n",
    "    def __init__(self, x):\n",
    "        self.valid_length = x\n",
    "    \n",
    "    def __str__(self):\n",
    "        return f\"You are only allowed to guess between \"\\\n",
    "               f\"{-1*self.valid_length} and {self.valid_length - 1}\"\n",
    "\n",
    "class MyValueError(Exception):\n",
    "\n",
    "    def __str__(self):\n",
    "        return f\"You are only allowed integers.\"  \n",
    "\n",
    "    \n",
    "x = [1, 2, 3, 4]\n",
    "\n",
    "try:\n",
    "    user_input = int(input(\"Guess a position ==> \"))\n",
    "    print(x[user_input])\n",
    "except Exception as e:\n",
    "    if e.__class__.__name__ == 'IndexError':\n",
    "        msg = MyIndexError(len(x))\n",
    "        print(msg)\n",
    "    elif e.__class__.__name__ == 'ValueError':\n",
    "        msg = MyValueError()\n",
    "        print(msg)\n",
    "    else:\n",
    "        print(e)"
   ]
  },
  {
   "cell_type": "code",
   "execution_count": null,
   "id": "level-experiment",
   "metadata": {},
   "outputs": [],
   "source": []
  }
 ],
 "metadata": {
  "kernelspec": {
   "display_name": "Python 3",
   "language": "python",
   "name": "python3"
  },
  "language_info": {
   "codemirror_mode": {
    "name": "ipython",
    "version": 3
   },
   "file_extension": ".py",
   "mimetype": "text/x-python",
   "name": "python",
   "nbconvert_exporter": "python",
   "pygments_lexer": "ipython3",
   "version": "3.8.2"
  }
 },
 "nbformat": 4,
 "nbformat_minor": 5
}
