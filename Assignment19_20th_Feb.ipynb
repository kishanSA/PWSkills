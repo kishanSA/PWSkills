{
 "cells": [
  {
   "cell_type": "markdown",
   "id": "c74172d2-0ded-42bc-b919-997defc88c5a",
   "metadata": {},
   "source": [
    "## <u> Assignment 19 - 20th Feb</u>"
   ]
  },
  {
   "cell_type": "markdown",
   "id": "d24bc00b-42ec-4000-880c-5671132b07d3",
   "metadata": {},
   "source": [
    "#### Q1. Explain GET and POST methods.\n",
    "\n",
    "Flask has different decorators to handle http requests. Http protocol is the basis for data communication in the World Wide Web.\n",
    "\n",
    "**GET:**\t\n",
    "The most common method. A GET message is send to web server from user's browser, and the server returns back data in the response of that request. The response data can be in HTML, XML, JSON, or in other form formats.\n",
    "This method is less secure, because the requested data is visible in browser's address bar of URL and can be bookmarked or shared.\n",
    " \n",
    "**POST:**\t\n",
    "This request method is used to send data to the server. The submitted data in form or any other format, can be then process on web server. The data received by the POST method is not cached by the server. You can create/modify any data send by this method.The data sent to the server with POST is stored in the request body of the HTTP request."
   ]
  },
  {
   "cell_type": "markdown",
   "id": "6d2992c9-7ed1-4c43-a8ba-52577ae1c6a8",
   "metadata": {},
   "source": [
    "#### Q2. Why is request used in Flask?\n",
    "In the client-server architecture, the request object contains all the data that is sent from the client to the server. The Request, in Flask, is an object that contains all the data sent from the Client to Server. This data can be received using the GET or POST Methods. POST is used when your application expects user input to be received by command or an HTTP request, while GET gets all the information before it even has a chance for submission.\n",
    "\n",
    "Somme of the attributes associated with the request objects are as follow:\n",
    "\n",
    "`Form:` It is the dictionary object which contains the key-value pair of form parameters and their values.\n",
    "\n",
    "`args:` It is parsed from the URL. It is the part of the URL which is specified in the URL after question mark (?).\n",
    "\n",
    "`Cookies:` It is the dictionary object containing cookie names and the values. It is saved at the client-side to track the user session.\n",
    "\n",
    "`files:` It contains the data related to the uploaded file.\n",
    "\n",
    "`method:` It is the current request method (get or post).\n"
   ]
  },
  {
   "cell_type": "markdown",
   "id": "acc0161f-74e8-4f4f-9155-f5d7225db28f",
   "metadata": {},
   "source": [
    "#### Q3. Why is redirect() used in Flask?\n",
    "Flask class provides the redirect() function which redirects the user to some specified URL with the specified status code.\n",
    "An HTTP status code is a response from the server to the request of the browser. When we visit a website, a request is sent to the server, and the server then responds to the browser's request with a three-digit code: the HTTP status code. This status code also represents the error.\n",
    "\n",
    "The syntax to use the redirect() function is given below.\n",
    "\n",
    "`Flask.redirect(<location>,<status-code>, <response> )`\n",
    "\n",
    "**location:** It is the URL where the response will be redirected.\n",
    "\n",
    "**status code:** It is the status code that is sent to the browser's header along with the response from the server.\n",
    "\n",
    "**response:** It is the instance of the response that is used in the project for future requirements."
   ]
  },
  {
   "cell_type": "code",
   "execution_count": 2,
   "id": "b68a1b8e-af4b-4148-b581-d58183bf8926",
   "metadata": {},
   "outputs": [],
   "source": [
    "from flask import Flask, redirect, url_for\n",
    "\n",
    "app = Flask(__name__)\n",
    "\n",
    "@app.route('/')\n",
    "def hello():\n",
    "    return redirect(\"http://www.example.com\", code=302)"
   ]
  },
  {
   "cell_type": "markdown",
   "id": "cf35feb7-ebbd-4f67-9d4b-0b79ff4e47d4",
   "metadata": {},
   "source": [
    "#### Q4. What are templates in Flask? Why is the render_template() function used?\n",
    "\n",
    "Templates is flask, store the layout of page. It means it contain all the files which are used to display on client's/user's browser to enter/retrieve information. These files contain static as well dynamic data for user. A template is rendered with specific data to produce a final document. Flask uses the Jinja template library to render templates.\n",
    "\n",
    "`render_template() :` Flask is bundled with a language named Jinja2. This gives you the power to include variables, create loops and add if statements right in the template. The render_template() function is used to render templates in Flask. It takes name of the template file as an argument, and any additional data that needs to be passed to the template."
   ]
  },
  {
   "cell_type": "code",
   "execution_count": 3,
   "id": "6731ed18-8f86-4587-9351-74c11e98b778",
   "metadata": {},
   "outputs": [],
   "source": [
    "from flask import Flask, render_template\n",
    "\n",
    "app = Flask(__name__)\n",
    "\n",
    "@app.route('/hello/<name>')\n",
    "def hello(name):\n",
    "    return render_template('welcome.html', name=name)"
   ]
  },
  {
   "cell_type": "markdown",
   "id": "8042f266-bc3b-4359-992c-ead8d08b8b6a",
   "metadata": {},
   "source": [
    "#### Q5. Create a simple API. Use Postman to test it. Attach the screenshot of the output in the Jupyter Notebook"
   ]
  },
  {
   "cell_type": "code",
   "execution_count": 4,
   "id": "f0ac9548-eb0c-4a64-89ab-a740cda2fd03",
   "metadata": {},
   "outputs": [
    {
     "name": "stdout",
     "output_type": "stream",
     "text": [
      " * Serving Flask app '__main__'\n",
      " * Debug mode: off\n"
     ]
    },
    {
     "name": "stderr",
     "output_type": "stream",
     "text": [
      "WARNING: This is a development server. Do not use it in a production deployment. Use a production WSGI server instead.\n",
      " * Running on all addresses (0.0.0.0)\n",
      " * Running on http://127.0.0.1:5000\n",
      " * Running on http://172.18.0.5:5000\n",
      "Press CTRL+C to quit\n"
     ]
    }
   ],
   "source": [
    "from flask import Flask, request, jsonify\n",
    "\n",
    "app = Flask(__name__)\n",
    "\n",
    "@app.route(\"/pali_post\", methods=['POST'])\n",
    "def check_palindrome():\n",
    "    if request.method == 'POST':\n",
    "        res = []\n",
    "        words = request.json['word_list']\n",
    "        if len(words) > 0:\n",
    "            for word in words:\n",
    "                if str(word).strip() == str(word).strip()[::-1]:\n",
    "                    res.append(word) \n",
    "                else:\n",
    "                    continue                \n",
    "\n",
    "            result = f\"Palindrome words: {res}\"\n",
    "\n",
    "            return jsonify(result)\n",
    "\n",
    "\n",
    "if __name__==\"__main__\":\n",
    "    app.run(host=\"0.0.0.0\")"
   ]
  },
  {
   "cell_type": "markdown",
   "id": "a5a9a6bd-2f4c-427d-ab92-3127f8d6fe78",
   "metadata": {},
   "source": [
    "<img src=\"./Images/A19_Q5.PNG\" alt=\"Question 5 Image\" > </img>"
   ]
  }
 ],
 "metadata": {
  "kernelspec": {
   "display_name": "Python 3 (ipykernel)",
   "language": "python",
   "name": "python3"
  },
  "language_info": {
   "codemirror_mode": {
    "name": "ipython",
    "version": 3
   },
   "file_extension": ".py",
   "mimetype": "text/x-python",
   "name": "python",
   "nbconvert_exporter": "python",
   "pygments_lexer": "ipython3",
   "version": "3.10.8"
  }
 },
 "nbformat": 4,
 "nbformat_minor": 5
}
