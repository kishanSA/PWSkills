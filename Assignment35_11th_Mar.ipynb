{
 "cells": [
  {
   "cell_type": "markdown",
   "id": "partial-recipient",
   "metadata": {},
   "source": [
    "## <u> Assignment 35 - 11th Mar </u>"
   ]
  },
  {
   "cell_type": "markdown",
   "id": "proud-prefix",
   "metadata": {},
   "source": [
    "#### Q1: What is the difference between a t-test and a z-test? Provide an example scenario where you would use each type of test."
   ]
  },
  {
   "cell_type": "markdown",
   "id": "naked-massage",
   "metadata": {},
   "source": [
    "Both **t-test** and **z-test** are statistical hypothesis tests used to determine whether a sample is likely to have come from a certain population with a known or assumed distribution. The main difference between them is that t-tests are used when the sample size is small (less than 30) or when the population standard deviation is unknown, while z-tests are used when the sample size is large (usually greater than 30) or when the population standard deviation is known.\n",
    "\n",
    "**eg.:**\n",
    "\n",
    "**T-Test:** A doctor may want to know if some new drug leads to a significant reduction in blood pressure compared to the current standard drug used. To test this, he recruits 20 subjects to participate in a study in which they each take the new drug for one month. He can perform a one sample t-test to determine if the mean reduction in blood pressure is significantly greater than the mean reduction that results from the current standard drug.\n",
    "\n",
    "**Z-Test:** A teacher claims that the mean score of students in his class is greater than 82 with a standard deviation of 20. If a sample of 81 students was selected with a mean score of 90 then check if there is enough evidence to support this claim at a 0.05 significance level."
   ]
  },
  {
   "cell_type": "markdown",
   "id": "genuine-motor",
   "metadata": {},
   "source": [
    "#### Q2: Differentiate between one-tailed and two-tailed tests."
   ]
  },
  {
   "cell_type": "markdown",
   "id": "julian-optimization",
   "metadata": {},
   "source": [
    "One-tailed and two-tailed tests refer to the number of tails in the probability distribution used to test the null hypothesis. The difference between them is as below:\n",
    "\n",
    "**One-tailed test:** A one-tailed test is used when the null hypothesis is rejected only if the sample statistic falls within a certain range on one side of the distribution. In other words, the hypothesis is directional, and the researcher is only interested in detecting a difference in one direction. It is used when there is a strong theoretical or practical reason to expect a difference in a particular direction. For example, a researcher might use a one-tailed test to determine if a new drug is better than an existing drug, rather than just different.\n",
    "\n",
    "**Two-tailed test:** A two-tailed test is used when the null hypothesis is rejected only if the sample statistic falls within a certain range on either side of the distribution. In other words, the hypothesis is non-directional, and the researcher is interested in detecting a difference in either direction. It is used when there is no clear theoretical or practical reason to expect a difference in a particular direction. For example, a researcher might use a two-tailed test to determine if there is a significant difference in the mean height of men and women."
   ]
  },
  {
   "cell_type": "markdown",
   "id": "described-width",
   "metadata": {},
   "source": [
    "#### Q3: Explain the concept of Type 1 and Type 2 errors in hypothesis testing. Provide an example scenario for each type of error."
   ]
  },
  {
   "cell_type": "markdown",
   "id": "little-origin",
   "metadata": {},
   "source": [
    "**Type 1 error** occurs when the null hypothesis is rejected even though it is true. That means, it is a false positive result, where the researcher concludes that there is a significant difference when there is no actual difference. The probability of a Type 1 error is denoted by alpha **(α)**, which is the significance level of the test. The smaller the alpha, the less likely a Type 1 error will occur.\n",
    "**eg.:** Suppose a medical researcher wants to test whether a new drug is more effective than an existing drug. The null hypothesis is that there is no difference between the two drugs, and the alternative hypothesis is that the new drug is more effective. If the researcher rejects the null hypothesis and concludes that the new drug is more effective, but in reality, there is no significant difference between the two drugs, then a Type 1 error has occurred.\n",
    "\n",
    "**Type 2 error** occurs when the null hypothesis is not rejected even though it is false. It means, it is a false negative result, where the researcher concludes that there is no significant difference when there is an actual difference. The probability of a Type 2 error is denoted by beta **(β)**, and it is affected by the sample size, effect size, and significance level of the test. The smaller the beta, the less likely a Type 2 error will occur.\n",
    "\n",
    "**eg:** Suppose a researcher wants to test whether a new drug is more effective than an existing drug. The null hypothesis is that there is no difference between the two drugs, and the alternative hypothesis is that the new drug is more effective. If the researcher fails to reject the null hypothesis and concludes that there is no significant difference between the two drugs, but in reality, the new drug is more effective, then a Type 2 error has occurred.\n",
    "\n",
    "It is important to note that the probabilities of Type 1 and Type 2 errors are inversely related, which means that decreasing the probability of one type of error will increase the probability of the other type of error. Therefore, a researcher needs to strike a balance between the two errors while determining the appropriate significance level and sample size for their study."
   ]
  },
  {
   "cell_type": "markdown",
   "id": "enormous-palmer",
   "metadata": {},
   "source": [
    "#### Q4: Explain Bayes's theorem with an example."
   ]
  },
  {
   "cell_type": "markdown",
   "id": "moral-trash",
   "metadata": {},
   "source": [
    "**Bayes's theorem** is a mathematical formula that describes the relationship between conditional probabilities. It is named after Reverend Thomas Bayes, an 18th-century English statistician, and theologian. Bayes's theorem is used in Bayesian statistics, which is a branch of statistics that deals with uncertainty by using probability distributions.\n",
    "\n",
    "The theorem states that the probability of a hypothesis (H) given the data (D) is proportional to the probability of the data given the hypothesis multiplied by the prior probability of the hypothesis, divided by the probability of the data:\n",
    "\n",
    "The equation for this is as below:\n",
    "\n",
    "**P(H|D) = P(D|H) x P(H) / P(D)**"
   ]
  },
  {
   "cell_type": "markdown",
   "id": "significant-journey",
   "metadata": {},
   "source": [
    "#### Q5: What is a confidence interval? How to calculate the confidence interval, explain with an example."
   ]
  },
  {
   "cell_type": "markdown",
   "id": "secure-effectiveness",
   "metadata": {},
   "source": [
    "A **<u>confidence interval</u>** is a range of values around a sample estimate that is likely to contain the true poplulation parameter with a certain degree of confidence. It is a statistical measure of the uncertainty associated with the estimate.\n",
    "\n",
    "A **<u>confidence interval</u>** is expressed as a range of values with an associated level of confidence, usually 95% or 99%. For example, a 95% confidence interval for the mean weight of a certain population might be 150 to 160 pounds. This means that if we were to repeat the sampling process many times, 95% of the resulting confidence intervals would contain the true population mean.\n",
    "\n",
    "Before calculating confidence interval, we first need to know the sample size, sample mean, sample standard deviation, and the level of confidence. The formula is as below:\n",
    "\n",
    "**CI = X̄ ± t* (s / √n)**\n",
    "\n",
    "Here:\n",
    "\n",
    "**CI** is the confidence interval<br/>\n",
    "**X̄** is the sample mean<br/>\n",
    "**t** is the critical value of the t-distribution with degrees of freedom (df=n-1)<br/>\n",
    "**s** is the sample standard deviation<br/>\n",
    "**n** is the sample size<br/>\n",
    "\n",
    "Let's take an example. We want to estimate the average time spent by students studying per day. We randomly sample 50 students and find that the sample mean is 3.5 hours, and the sample standard deviation is 1.2 hours. We want to calculate a 95% confidence interval for the population mean.\n",
    "\n",
    "The critical value of t for a 95% confidence interval with df = 49 is 2.009. Plugging in the values, we get:\n",
    "```\n",
    "CI = 3.5 ± 2.009 * (1.2 / √50)\n",
    "   = 3.5 ± 0.34\n",
    "   = (3.16, 3.84)\n",
    "```\n",
    "\n",
    "Therefore, we can be 95% confident that the true population mean time spent by students studying per day falls within the range of 3.16 to 3.84 hours."
   ]
  },
  {
   "cell_type": "markdown",
   "id": "statutory-surprise",
   "metadata": {},
   "source": [
    "#### Q6. Use Bayes' Theorem to calculate the probability of an event occurring given prior knowledge of the event's probability and new evidence. Provide a sample problem and solution."
   ]
  },
  {
   "cell_type": "markdown",
   "id": "stretch-stephen",
   "metadata": {},
   "source": [
    "**Problem:** A company produces two types of products: Type A and Type B. Type A products have a defect rate of 5%, while  Type B products have a defect rate of 3%. Suppose a customer buys a product from the company, but does not know which type it is. If the product is found to be defective, what is the probability that it is a Type A product?\n",
    "\n",
    "**Solution:**\n",
    "\n",
    "Let's use Bayes' theorem to calculate the probability that the product is Type A given that it is defective:\n",
    "\n",
    "**P(A|D) = P(D|A) * P(A) / P(D)**\n",
    "\n",
    "where:\n",
    "\n",
    "**P(A|D)** is the probability that the product is Type A given that it is defective <br/>\n",
    "**P(D|A)** is the probability that a Type A product is defective (i.e. the defect rate for Type A products)=0.05<br/>\n",
    "**P(A)** is the prior probability that the product is Type A (i.e. the proportion of Type A products produced by the company) = 0.5 (assuming an equal number of Type A and Type B products are produced)<br/>\n",
    "**P(D)** is the probability that the product is defective, regardless of its type<br/>\n",
    "\n",
    "To calculate P(D), we need to use the law of total probability:\n",
    "\n",
    "**P(D) = P(D|A) * P(A) + P(D|B) * P(B)**\n",
    "\n",
    "where:\n",
    "\n",
    "**P(D|B)** is the probability that a Type B product is defective (i.e., the defect rate for Type B products) = 0.03<br/>\n",
    "**P(B)** is the prior probability that the product is Type B (i.e., the proportion of Type B products produced by the company) = 0.5<br/>\n",
    "\n",
    "Plugging in the values, we get:\n",
    "\n",
    "**P(D) = 0.05 * 0.5 + 0.03 * 0.5<br>\n",
    "     = 0.04**\n",
    "\n",
    "Therefore, the probability that the product is Type A given that it is defective is:\n",
    "\n",
    "**P(A|D) = P(D|A) * P(A) / P(D)<br/>\n",
    "= 0.05 * 0.5 / 0.04<br/>\n",
    "= 0.625 or 62.5%<br/>**\n",
    "\n",
    "So, given that the product is defective, there is a 62.5% chance that it is a Type A product."
   ]
  },
  {
   "cell_type": "markdown",
   "id": "fatty-brave",
   "metadata": {},
   "source": [
    "#### Q7. Calculate the 95% confidence interval for a sample of data with a mean of 50 and a standard deviation of 5. Interpret the results."
   ]
  },
  {
   "cell_type": "markdown",
   "id": "serious-adobe",
   "metadata": {},
   "source": [
    "The formula is as below:\n",
    "\n",
    "**CI = X̄ ± Zα/2 * (σ / √n)**\n",
    "\n",
    "where:\n",
    "\n",
    "**CI** is the confidence interval<br/>\n",
    "**X̄** is the sample mean<br/>\n",
    "**Zα/2** is the critical value of the standard normal distribution for the desired level of confidence (in this case, 95%) and two-tailed test (α/2 = 0.025)<br/>\n",
    "**σ** is the population standard deviation (unknown in this case, so we use the sample standard deviation as an estimate)<br/>\n",
    "**n** is the sample size<br/>\n",
    "\n",
    "Plug the values in formula, we get:\n",
    "\n",
    "**CI = 50 ± 1.96 * (5 / √n)**\n",
    "\n",
    "To find the sample size, we need to have additional information. If we assume a sample size of 100, then the confidence interval is:\n",
    "\n",
    "**CI = 50 ± 1.96 * (5 / √100)<br/>\n",
    "= 50 ± 0.98<br/>\n",
    "= (49.02, 50.98)**<br/>\n",
    "\n",
    "**Interpretation:** We can say with 95% confidence that the true population mean falls within the range of 49.02 to 50.98. This means that if we were to repeat the sampling process many times and calculate the confidence intervals for each sample, 95% of the intervals would contain the true population mean. Additionally, since the confidence interval does not include any negative numbers, we can be reasonably sure that the population mean is not significantly less than 50."
   ]
  },
  {
   "cell_type": "markdown",
   "id": "robust-vault",
   "metadata": {},
   "source": [
    "#### Q8. What is the margin of error in a confidence interval? How does sample size affect the margin of error? Provide an example of a scenario where a larger sample size would result in a smaller margin of error."
   ]
  },
  {
   "cell_type": "markdown",
   "id": "engaging-instrument",
   "metadata": {},
   "source": [
    "The **<u>margin of error</u>** in a confidence interval is the range of values that we add and subtract from the sample mean to create a range of values in which we expect the true population mean to fall within with a certain level of confidence. It is the maximum amount of error we are willing to tolerate when estimating the true population parameter based on the sample statistic.\n",
    "\n",
    "The formula for calculating margin of error is as below:\n",
    "\n",
    "**Margin of error = Critical value * Standard error**\n",
    "\n",
    "where:\n",
    "\n",
    "- **Critical value** is the value from the standard normal distribution or t-distribution that corresponds to the desired level of confidence and sample size\n",
    "- **Standard error** is the standard deviation of the sample mean, calculated as the sample standard deviation divided by the square root of the sample size\n",
    "\n",
    "Sample size affects the margin of error in that a larger sample size will result in a smaller margin of error, assuming all other factors remain the same. This is because a larger sample size reduces the variability of the sample mean, resulting in a more precise estimate of the true population mean.\n",
    "\n",
    "**For example,** let's say we want to estimate the average height of all students in a particular school with 95% confidence, and we take two samples of different sizes: one with 50 students and another with 500 students. Assuming the same level of variability in the heights of the students in both samples, the larger sample size will result in a smaller margin of error.\n",
    "\n",
    "Suppose the sample mean height for the 100-student sample is 165 cm with a sample standard deviation of 5 cm, and the sample mean height for the 500-student sample is also 165 cm with the same sample standard deviation of 5 cm. Using a 95% confidence level and assuming a normal distribution, the critical value for the 50-student sample is 1.96, and for the 500-student sample, it is 1.96 as well.\n",
    "\n",
    "Calculating the margin of error for each sample size:\n",
    "\n",
    "**Margin of error for 100-student sample = 1.96 * (5 / √100) ≈ 0.98 cm<br/>\n",
    "Margin of error for 500-student sample = 1.96 * (5 / √500) ≈ 0.22 cm**\n",
    "\n",
    "As we can see, the margin of error for the 500-student sample is smaller than that of the 100-student sample. This means that we can be more confident that the true population mean falls within a narrower range of values with a larger sample size."
   ]
  },
  {
   "cell_type": "markdown",
   "id": "emotional-pricing",
   "metadata": {},
   "source": [
    "####  Q9. Calculate the z-score for a data point with a value of 75, a population mean of 70, and a population standard deviation of 5. Interpret the results."
   ]
  },
  {
   "cell_type": "markdown",
   "id": "promotional-special",
   "metadata": {},
   "source": [
    "The formula for calculating z-score is as below:\n",
    "\n",
    "**z = (X - μ) / σ**\n",
    "\n",
    "where:\n",
    "\n",
    "**z** is the z-score<br/>\n",
    "**X** is the data point value<br/>\n",
    "**μ** is the population mean<br/>\n",
    "**σ** is the population standard deviation<br/>\n",
    "\n",
    "Plugging in the values, we get:\n",
    "\n",
    "**z = (75 - 70) / 5<br/>\n",
    "z = 1**\n",
    "\n",
    "**Interpretation of result:**<br/>\n",
    "A z-score of 1 indicates that the data point is 1 standard deviation above the population mean. In other words, the data point is higher than the average value by one unit of standard deviation. This can also be interpreted as the probability of randomly selecting a value from the population that is equal to or greater than 75 is approximately 0.8413, or 84.13%, based on the standard normal distribution table."
   ]
  },
  {
   "cell_type": "markdown",
   "id": "awful-steering",
   "metadata": {},
   "source": [
    "####  Q10. In a study of the effectiveness of a new weight loss drug, a sample of 50 participants lost an average of 6 pounds with a standard deviation of 2.5 pounds. Conduct a hypothesis test to determine if the drug is significantly effective at a 95% confidence level using a t-test."
   ]
  },
  {
   "cell_type": "markdown",
   "id": "covered-aquarium",
   "metadata": {},
   "source": [
    "To conduct a hypothesis test to determine if the weight loss drug is significantly effective at a 95% confidence level using a t-test, we need to set up the null and alternative hypotheses as follows:\n",
    "\n",
    "**Null hypothesis (H0):** The weight loss drug is not significantly effective, and the sample mean weight loss is not significantly different from zero.<br/>\n",
    "**H0: μ = 0**<br/>\n",
    "\n",
    "**Alternative hypothesis (Ha):** The weight loss drug is significantly effective, and the sample mean weight loss is significantly different from zero.<br/>\n",
    "**Ha: μ ≠ 0**\n",
    "\n",
    "We will use a two-tailed t-test with a significance level of 0.05.\n",
    "\n",
    "First, we need to calculate the t-statistic using the formula:\n",
    "\n",
    "**t = (x̄ - μ) / (s / √n)**\n",
    "\n",
    "where:\n",
    "\n",
    "**x̄** is the sample mean weight loss <br/> \n",
    "**μ** is the hypothesized population mean (0 in this case) <br/>\n",
    "**s** is the sample standard deviation <br/>\n",
    "**n** is the sample size <br/>\n",
    "\n",
    "Plugging in the values, we get:\n",
    "\n",
    "**t = (6 - 0) / (2.5 / √50)<br/>\n",
    "t = 18.97**\n",
    "\n",
    "Next, we need to find the critical t-value using a t-distribution table with (n-1) degrees of freedom and a significance level of 0.05. Since the sample size is 50, the degrees of freedom are 49. From the table, we find that the critical t-value is ±2.009.\n",
    "\n",
    "Since the calculated t-value (18.97) is greater than the critical t-value (±2.009), we can reject the null hypothesis and conclude that the weight loss drug is significantly effective at a 95% confidence level.\n",
    "\n",
    "Therefore, we can say that there is strong evidence to support that the weight loss drug is effective and that the observed sample mean weight loss of 6 pounds is significantly different from zero."
   ]
  },
  {
   "cell_type": "markdown",
   "id": "recovered-width",
   "metadata": {},
   "source": [
    "####  Q11. In a survey of 500 people, 65% reported being satisfied with their current job. Calculate the 95% confidence interval for the true proportion of people who are satisfied with their job."
   ]
  },
  {
   "cell_type": "markdown",
   "id": "christian-agent",
   "metadata": {},
   "source": [
    "Formula for confidence interval is:\n",
    "\n",
    "**CI = p ± z(sqrt(p(1-p)/n))**\n",
    "\n",
    "where:\n",
    "\n",
    "**CI** is the confidence interval<br/>\n",
    "**p** is the sample proportion (65% or 0.65 in this case)<br/>\n",
    "**z** is the critical value from the standard normal distribution at the desired confidence level (1.96 for 95% confidence)<br/>\n",
    "**n** is the sample size (500 in this case)<br/>\n",
    "\n",
    "Applying values to formula, we get:\n",
    "\n",
    "**CI = 0.65 ± 1.96(sqrt(0.65(1-0.65)/500))<br/>\n",
    "CI = 0.65 ± 0.049<br/>\n",
    "CI = (0.601, 0.699)**\n",
    "\n",
    "**Interpretation:**<br/>\n",
    "We are 95% confident that the true proportion of people who are satisfied with their job is between 0.601 and 0.699. This means that if we were to repeat this survey many times and calculate the confidence interval each time, approximately 95% of the intervals would contain the true population proportion of people who are satisfied with their job."
   ]
  },
  {
   "cell_type": "markdown",
   "id": "prescription-sudan",
   "metadata": {},
   "source": [
    "####  Q12. A researcher is testing the effectiveness of two different teaching methods on student performance. Sample A has a mean score of 85 with a standard deviation of 6, while sample B has a mean score of 82 with a standard deviation of 5. Conduct a hypothesis test to determine if the two teaching methods have a significant difference in student performance using a t-test with a significance level of 0.01."
   ]
  },
  {
   "cell_type": "markdown",
   "id": "normal-wagon",
   "metadata": {},
   "source": [
    "To test if the two teaching methods have a significant difference in student performance, we can use a two-sample t-test with equal variances assuming that the populations are normally distributed. The null hypothesis is that there is no difference between the means of the two populations, while the alternative hypothesis is that there is a difference.\n",
    "\n",
    "Here are the steps for conducting the test:\n",
    "\n",
    "**Step 1: State the null and alternative hypotheses:**<br/>\n",
    "**Null hypothesis:** The means of the two populations are equal.<br/>\n",
    "**Alternative hypothesis:** The means of the two populations are not equal.\n",
    "\n",
    "**Step 2: Determine the level of significance and the degrees of freedom:**<br/>\n",
    "**Level of significance:** α = 0.01 (given)<br/>\n",
    "**Degrees of freedom:** df = n1 + n2 - 2, where n1 and n2 are the sample sizes of the two groups.\n",
    "\n",
    "For this problem, df = 23 (df = 11 + 12 - 2)\n",
    "\n",
    "**Step 3: Calculate the test statistic:**<br/>\n",
    "**t = (x̄1 - x̄2) / (sqrt((s1^2/n1) + (s2^2/n2)))**, where **x̄1** and **x̄2** are the sample means, **s1** and **s2** are the sample standard deviations, and n1 and n2 are the sample sizes.\n",
    "\n",
    "**t = (85 - 82) / (sqrt((6^2/12) + (5^2/11)))<br/>\n",
    "t = 2.84**\n",
    "\n",
    "**Step 4: Determine the critical value:**<br/>\n",
    "Since this is a two-tailed test with a significance level of 0.01 and df = 23, we can find the critical value using a t-table or a calculator. The critical value is ±2.807.\n",
    "\n",
    "**Step 5: Compare the test statistic to the critical value and make a decision:**<br/>\n",
    "The test statistic t = 2.84 is greater than the critical value of ±2.807. Therefore, we reject the null hypothesis and conclude that there is a significant difference between the means of the two populations.\n",
    "\n",
    "**Step 6: Interpret the result:**<br/>\n",
    "The test result indicates that there is a statistically significant difference in student performance between the two teaching methods. We can't determine which teaching method is better from this test alone, but we can conclude that they are not equally effective.\n"
   ]
  },
  {
   "cell_type": "markdown",
   "id": "controversial-fault",
   "metadata": {},
   "source": [
    "####  Q13. A population has a mean of 60 and a standard deviation of 8. A sample of 50 observations has a mean of 65. Calculate the 90% confidence interval for the true population mean."
   ]
  },
  {
   "cell_type": "markdown",
   "id": "second-simpson",
   "metadata": {},
   "source": [
    "To calculate the 90% confidence interval for the true population mean, we can use the formula:\n",
    "\n",
    "**CI = X̄ ± Zα/2 * (σ/√n)**\n",
    "\n",
    "where:\n",
    "\n",
    "**X̄** is the sample mean<br/>\n",
    "**σ** is the population standard deviation<br/>\n",
    "**n** is the sample size<br/>\n",
    "**Zα/2** is the critical value from the standard normal distribution at the 90% confidence level<br/>\n",
    "**CI** is the confidence interval\n",
    "\n",
    "\n",
    "**Step 1: Find the critical value**\n",
    "\n",
    "Since the confidence level is 90%, the level of significance is α=1-0.90=0.10. From the standard normal distribution table, the critical value for a two-tailed test at a 10% level of significance is Zα/2=1.645.\n",
    "\n",
    "**Step 2: Calculate the confidence interval**\n",
    "\n",
    "Using the given values, we get:\n",
    "\n",
    "**CI = 65 ± 1.645 * (8/√50)<br/>\n",
    "CI = 65 ± 2.33**\n",
    "\n",
    "So the 90% confidence interval for the true population mean is **(62.67, 67.33)**\n",
    "\n",
    "**Step 3: Interpret the result**\n",
    "\n",
    "We are 90% confident that the true population mean lies between 62.67 and 67.33. This means that if we were to repeat this process many times, creating many samples and calculating their confidence intervals, approximately 90% of those intervals would contain the true population mean."
   ]
  },
  {
   "cell_type": "markdown",
   "id": "collect-utility",
   "metadata": {},
   "source": [
    "####  Q14. In a study of the effects of caffeine on reaction time, a sample of 30 participants had an average reaction time of 0.25 seconds with a standard deviation of 0.05 seconds. Conduct a hypothesis test to determine if the caffeine has a significant effect on reaction time at a 90% confidence level using a t-test."
   ]
  },
  {
   "cell_type": "markdown",
   "id": "tracked-interim",
   "metadata": {},
   "source": [
    "To determine if caffeine has a significant effect on reaction time, we can conduct a hypothesis test using a t-test with a 90% confidence level. The null hypothesis is that there is no significant difference in reaction time between participants who consumed caffeine and those who did not. The alternative hypothesis is that there is a significant difference in reaction time between the two groups.\n",
    "\n",
    "**H0: μ1 - μ2 = 0** There is no significant difference in reaction time between the two groups <br/>\n",
    "**Ha: μ1 - μ2 ≠ 0** There is a significant difference in reaction time between the two groups\n",
    "\n",
    "where **μ1** is the population mean reaction time for participants who consumed caffeine and **μ2** is the population mean reaction time for those who did not.\n",
    "\n",
    "**Step 1: Calculate the test statistic**\n",
    "\n",
    "The formula is as below for calculating the t-test:\n",
    "\n",
    "**t = (X̄1 - X̄2) / (s / sqrt(n))**\n",
    "\n",
    "where **X̄1** is the sample mean for participants who consumed caffeine, **X̄2** is the sample mean for those who did not, **s** is the pooled standard deviation, and **n** is the sample size.\n",
    "\n",
    "**X̄1 = 0.25 seconds<br/>\n",
    "X̄2 = ?<br/>\n",
    "s = sqrt(((n1-1)*s1^2 + (n2-1)s2^2) / (n1 + n2 - 2))<br/>\n",
    "s = sqrt(((29)(0.05)^2) / (30 + 30 - 2))<br/>\n",
    "s = 0.029<br/>\n",
    "n = 30**\n",
    "\n",
    "To find **X̄2**, we need to know whether this is a one-tailed or two-tailed test. Since the alternative hypothesis is two-tailed (μ1 - μ2 ≠ 0), we will use a two-tailed test.\n",
    "\n",
    "The significance level for a 90% confidence interval is 0.1. This means that the alpha value for the test is (1 - 0.9)/2 = 0.05. The critical value for a two-tailed t-test with 29 degrees of freedom and alpha of 0.05 is ±2.045.\n",
    "\n",
    "Therefore, the test statistic is:\n",
    "\n",
    "**t = (0.25 - X̄2) / (0.029 / sqrt(30))<br/>\n",
    "2.045 = (0.25 - X̄2) / (0.029 / sqrt(30))**\n",
    "\n",
    "Solving for **X̄2**, we get:\n",
    "\n",
    "**X̄2 = 0.2408 seconds**\n",
    "\n",
    "**Step 2: Compare the test statistic with the critical value and make a decision**\n",
    "\n",
    "The calculated t-value of 2.045 is greater than the critical value of ±2.045, so we reject the null hypothesis. This means that there is a significant difference in reaction time between participants who consumed caffeine and those who did not.\n",
    "\n",
    "**Step 3: Interpret the results**\n",
    "\n",
    "At a 90% confidence level, we can conclude that caffeine has a significant effect on reaction time for the sample of 30 participants."
   ]
  }
 ],
 "metadata": {
  "kernelspec": {
   "display_name": "Python 3",
   "language": "python",
   "name": "python3"
  },
  "language_info": {
   "codemirror_mode": {
    "name": "ipython",
    "version": 3
   },
   "file_extension": ".py",
   "mimetype": "text/x-python",
   "name": "python",
   "nbconvert_exporter": "python",
   "pygments_lexer": "ipython3",
   "version": "3.8.2"
  }
 },
 "nbformat": 4,
 "nbformat_minor": 5
}
