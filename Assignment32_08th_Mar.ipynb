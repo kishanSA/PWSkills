{
 "cells": [
  {
   "cell_type": "markdown",
   "id": "italian-click",
   "metadata": {},
   "source": [
    "## <u> Assignment 32 - 08th Mar </u>"
   ]
  },
  {
   "cell_type": "markdown",
   "id": "processed-taiwan",
   "metadata": {},
   "source": [
    "#### Q1. What is the Probability density function?"
   ]
  },
  {
   "cell_type": "markdown",
   "id": "announced-spice",
   "metadata": {},
   "source": [
    "The **Probability Density function (PDF)** is a **statistical expression defining the likelihood of a series of outcomes for a discrete variable,** such as a stock or ETF.\n",
    "\n",
    "It takes a value of random variable as an input and returns the probability of that value occuring."
   ]
  },
  {
   "cell_type": "markdown",
   "id": "conditional-strength",
   "metadata": {},
   "source": [
    "#### Q2. What are the types of Probability distribution?"
   ]
  },
  {
   "cell_type": "markdown",
   "id": "presidential-veteran",
   "metadata": {},
   "source": [
    "Following are the most common types of Probability Distrubution:\n",
    "\n",
    "**1. Normal distribution:** It is also known as Gaussian distribution. It's a continuous distribution that is symmetric and bell-shaped and is commonly used to model real-world phenomena, such as the heights and weights of a population etc.\n",
    "\n",
    "**2. Binomial distribution:** A discrete distribution that models the probability of a specific number of successes in a fixed number of independent trials, where each trial has the same probability of success. Example is coin flips.\n",
    "\n",
    "**3. Bernoulli distribution:** A a discrete distribution that models the probability of a binary outcome, such as success or failure.\n",
    "\n",
    "**4. Poisson distribution:** This is describes the number of events occurring within a fixed interval of time or space. It is often used in modeling the number of customers arriving at a store.\n",
    "\n",
    "**5. Uniform distribution:** A continuous distribution that models a situation where all outcomes are equally likely to take on any value within certain range. It is often used in simulation models or in random number generation.\n",
    "\n",
    "**6. Exponential distribution:** A continuous distribution that models the time between events in a Poisson process, such as the time between arrivals of customers at a store."
   ]
  },
  {
   "cell_type": "markdown",
   "id": "tutorial-notification",
   "metadata": {},
   "source": [
    "#### Q3. Write a Python function to calculate the probability density function of a normal distribution with given mean and standard deviation at a given point."
   ]
  },
  {
   "cell_type": "code",
   "execution_count": 1,
   "id": "supported-correction",
   "metadata": {},
   "outputs": [],
   "source": [
    "import math\n",
    "\n",
    "def calculate_pdf(x, mean_ , std_ ):\n",
    "    \"\"\"\n",
    "    Parameters\n",
    "    x     : the point at which to evaluate the PDF\n",
    "    mean_ : the mean of the normal distribution\n",
    "    std_  : the standard deviation of the normal distribution\n",
    "    \n",
    "    Return Value\n",
    "    calculated PDF\n",
    "    \"\"\"\n",
    "    exponent = math.exp(-(x-mean_)**2 / (2 * (std_**2)))\n",
    "    coefficient = 1 / (std_ * math.sqrt(2 * math.pi))\n",
    "    return coefficient * exponent   "
   ]
  },
  {
   "cell_type": "code",
   "execution_count": 2,
   "id": "positive-framework",
   "metadata": {},
   "outputs": [
    {
     "name": "stdout",
     "output_type": "stream",
     "text": [
      "0.10934004978399577\n"
     ]
    }
   ],
   "source": [
    "pdf = calculate_pdf(x=5,mean_=3,std_=1.5)\n",
    "print(pdf)"
   ]
  },
  {
   "cell_type": "markdown",
   "id": "sunrise-bloom",
   "metadata": {},
   "source": [
    "#### Q4. What are the properties of Binomial distribution? Give two examples of events where binomial distribution can be applied."
   ]
  },
  {
   "cell_type": "markdown",
   "id": "found-trading",
   "metadata": {},
   "source": [
    "Binomial distribution is a discrete probability distribution which describes the number of successes in a fixed number of independent trials with a constant probability of success.\n",
    "\n",
    "It takes two parameters - total number of trials(n) and probability of success in each trial (p)\n",
    "\n",
    "The mean of binomial distribution is calculated by **np**, and the variance is **np(1-p)**\n",
    "\n",
    "**Examples**\n",
    "\n",
    "**1.** Flipping a fair coin **n** trials, the probability of getting heads or tails being 0.5 is follows a binomial distribution.\n",
    "\n",
    "**2.** Assume that there are 50 boys in a population of 1,000 students. The probability of picking a boy from that population is 0.05."
   ]
  },
  {
   "cell_type": "markdown",
   "id": "assisted-newspaper",
   "metadata": {},
   "source": [
    "#### Q5. Generate a random sample of size 1000 from a binomial distribution with probability of success 0.4 and plot a histogram of the results using matplotlib."
   ]
  },
  {
   "cell_type": "code",
   "execution_count": 3,
   "id": "martial-xerox",
   "metadata": {},
   "outputs": [
    {
     "data": {
      "image/png": "[encoded data removed]",
      "text/plain": [
       "<Figure size 432x288 with 1 Axes>"
      ]
     },
     "metadata": {
      "needs_background": "light"
     },
     "output_type": "display_data"
    }
   ],
   "source": [
    "import numpy as np\n",
    "import matplotlib.pyplot as plt\n",
    "%matplotlib inline\n",
    "\n",
    "p = 0.4\n",
    "n = 10\n",
    "size_ = 1000\n",
    "\n",
    "sample = np.random.binomial(n, p, size_)\n",
    "\n",
    "plt.hist(sample, bins=range(n+2), align='left',rwidth=0.9)\n",
    "plt.xticks(range(n+1))\n",
    "plt.xlabel('Successes Trial')\n",
    "plt.ylabel('Frequency')\n",
    "plt.title('Binomial Distribution (n={}, p={})'.format(n, p))\n",
    "plt.show()"
   ]
  },
  {
   "cell_type": "markdown",
   "id": "ongoing-deviation",
   "metadata": {},
   "source": [
    "#### Q6. Write a Python function to calculate the cumulative distribution function of a Poisson distribution with given mean at a given point."
   ]
  },
  {
   "cell_type": "code",
   "execution_count": 4,
   "id": "fifth-carol",
   "metadata": {},
   "outputs": [],
   "source": [
    "import math\n",
    "\n",
    "def cdf_poisson(x, mn):\n",
    "    pcdf = 0\n",
    "    for i in range(x+1):\n",
    "        pcdf += math.exp(-mn) * mn**i / math.factorial(i)\n",
    "        \n",
    "    return pcdf"
   ]
  },
  {
   "cell_type": "markdown",
   "id": "excellent-investment",
   "metadata": {},
   "source": [
    "Now lets calculate Poisson CDF of with given mean at a given point.\n",
    "\n",
    "Let's take an example:\n",
    "\n",
    "A complex software system averages 7 errors per 1,000 lines of code. What is the probability of exactly 2 errors in 1,000 lines of randomly selected lines of code?\n"
   ]
  },
  {
   "cell_type": "code",
   "execution_count": 5,
   "id": "central-homework",
   "metadata": {},
   "outputs": [
    {
     "name": "stdout",
     "output_type": "stream",
     "text": [
      "Probability of exactly 2 errors in 1,000 lines is 0.029636\n"
     ]
    }
   ],
   "source": [
    "mn = 7 # average error per 1,000 lines\n",
    "x = 2 # exactly 2 error per 1,000 lines\n",
    "\n",
    "poisson_cdf = cdf_poisson(x=x, mn=mn)\n",
    "print(f\"Probability of exactly {x} errors in 1,000 lines is {round(poisson_cdf,6)}\")"
   ]
  },
  {
   "cell_type": "markdown",
   "id": "interior-gasoline",
   "metadata": {},
   "source": [
    "#### Q7. How Binomial distribution different from Poisson distribution?"
   ]
  },
  {
   "cell_type": "markdown",
   "id": "advised-shelf",
   "metadata": {},
   "source": [
    "The **binomial distribution** is one, whose possible number of outcomes are two, i.e. success or failure. On the other hand, there is no limit of possible outcomes in **Poisson distribution**\n",
    "\n",
    "The differences between binomial and poisson distribution can be drawn clearly on the following grounds:\n",
    "\n",
    "- The binomial distribution is one in which the probability of repeated number of trials is studied. A probability distribution that gives the count of a number of independent events occur randomly within a given period, is called probability distribution.\n",
    "- Binomial Distribution is biparametric, i.e. it is featured by two parameters n and p whereas Poisson distribution is uniparametric, i.e. characterised by a single parameter m.\n",
    "- There are a fixed number of attempts in the binomial distribution. On the other hand, an unlimited number of trials are there in a poisson distribution.\n",
    "- The success probability is constant in binomial distribution but in poisson distribution, there are an extremely small number of success chances.\n",
    "- In a binomial distribution, there are only two possible outcomes, i.e. success or failure. Conversely, there are an unlimited number of possible outcomes in the case of poisson distribution.\n",
    "- In binomial distribution Mean > Variance while in poisson distribution mean = variance.\n",
    "- The shape of the binomial distribution depends on the value of p and can range from symmetric to highly skewed. The Poisson distribution is often skewed to the right and has a longer tail than the binomial distribution."
   ]
  },
  {
   "cell_type": "markdown",
   "id": "sustainable-consistency",
   "metadata": {},
   "source": [
    "#### Q8. Generate a random sample of size 1000 from a Poisson distribution with mean 5 and calculate the sample mean and variance.\n",
    "\n"
   ]
  },
  {
   "cell_type": "code",
   "execution_count": 6,
   "id": "ahead-entrepreneur",
   "metadata": {},
   "outputs": [
    {
     "name": "stdout",
     "output_type": "stream",
     "text": [
      "Sample mean: 5.01\n",
      "Sample variance: 4.9719\n"
     ]
    }
   ],
   "source": [
    "import numpy as np\n",
    "\n",
    "s = 1000\n",
    "m = 5\n",
    "sample = np.random.poisson(lam=5, size=s)\n",
    "\n",
    "sample_mean = np.mean(sample)\n",
    "sample_var = np.var(sample)\n",
    "\n",
    "print(\"Sample mean:\", sample_mean)\n",
    "print(\"Sample variance:\", round(sample_var,4))"
   ]
  },
  {
   "cell_type": "markdown",
   "id": "charming-associate",
   "metadata": {},
   "source": [
    "#### Q9. How mean and variance are related in Binomial distribution and Poisson distribution?\n",
    "\n"
   ]
  },
  {
   "cell_type": "markdown",
   "id": "beneficial-season",
   "metadata": {},
   "source": [
    "The mean of the **binomial distribution** is np, and the variance of the binomial distribution is np (1-p). When p = 0.5, the distribution is symmetric around the mean—such as when flipping a coin because the chances of getting heads or tails is 50%, or 0.5. When p > 0.5, the distribution curve is skewed to the left.\n",
    "\n",
    "\n",
    "In **Poisson distribution**, the mean is represented as E(X) = λ. For a Poisson Distribution, the mean and the variance are equal. It means that E(X) = V(X) Where, V(X) is the variance.\n",
    "\n",
    "\n",
    "In short, the mean and variance are directly related in both binomial and poisson distributions, but the relationship is different for each distribution."
   ]
  },
  {
   "cell_type": "markdown",
   "id": "prospective-legislation",
   "metadata": {},
   "source": [
    "#### Q10. In normal distribution with respect to mean position, where does the least frequent data appear?"
   ]
  },
  {
   "cell_type": "markdown",
   "id": "portable-writer",
   "metadata": {},
   "source": [
    "In a normal distribution, the data are symmetrically distributed around the mean. On the tail of the distribution you can find the least frequent data, which are the regions that are far from the mean. The tails of the normal distribution extend to infinity in both directions, but the probability of observing data far from the mean decreases rapidly as you move away from the center of the distribution. The area under the curve of the normal distribution represents the total probability of observing any value in the distribution, and the majority of the data fall within a few standard deviations of the mean."
   ]
  },
  {
   "cell_type": "code",
   "execution_count": null,
   "id": "approximate-supply",
   "metadata": {},
   "outputs": [],
   "source": []
  }
 ],
 "metadata": {
  "kernelspec": {
   "display_name": "Python 3",
   "language": "python",
   "name": "python3"
  },
  "language_info": {
   "codemirror_mode": {
    "name": "ipython",
    "version": 3
   },
   "file_extension": ".py",
   "mimetype": "text/x-python",
   "name": "python",
   "nbconvert_exporter": "python",
   "pygments_lexer": "ipython3",
   "version": "3.8.2"
  }
 },
 "nbformat": 4,
 "nbformat_minor": 5
}
