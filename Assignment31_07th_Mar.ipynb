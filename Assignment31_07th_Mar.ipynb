{
 "cells": [
  {
   "cell_type": "markdown",
   "id": "cognitive-caribbean",
   "metadata": {},
   "source": [
    "## <u>Assignment 31 - 07th Mar </u>"
   ]
  },
  {
   "cell_type": "markdown",
   "id": "assured-fireplace",
   "metadata": {},
   "source": [
    "#### Q1. What are the three measures of central tendency?"
   ]
  },
  {
   "cell_type": "markdown",
   "id": "surprising-trinity",
   "metadata": {},
   "source": [
    "The three measures of central tendency are **Mean, Median,** and **Mode**.\n",
    "\n"
   ]
  },
  {
   "cell_type": "markdown",
   "id": "complimentary-boutique",
   "metadata": {},
   "source": [
    "#### Q2. What is the difference between the mean, median, and mode? How are they used to measure the central tendency of a dataset?"
   ]
  },
  {
   "cell_type": "markdown",
   "id": "european-housing",
   "metadata": {},
   "source": [
    "**Mean, Median,** and **Mode** all are used to describe the measures of central tendency. Their diffeences are as follows:\n",
    "\n",
    "**1. Mean:** To find the mean of dataset, do the sum of all values then divide it with total count of dataset. This is used when data are normally distributed and not much skewed. It provides simple way to calculate the average of dataset.\n",
    "\n",
    "**2. Median:** To find the median of datset, first we need to arrange them in ascending order then get the middle value of that dataset. It is used when data are distributed with skewness. It provides robust estimation of data distribution.\n",
    "\n",
    "**3. Mode:** The mode is nothing but the value in our dataset which occurs most frequently. This is insensitive because it only represent the most common number among the dataset. It is most used in categorical data."
   ]
  },
  {
   "cell_type": "markdown",
   "id": "brilliant-appointment",
   "metadata": {},
   "source": [
    "#### Q3. Measure the three measures of central tendency for the given height data:\n",
    " [178,177,176,177,178.2,178,175,179,180,175,178.9,176.2,177,172.5,178,176.5]\n",
    "\n"
   ]
  },
  {
   "cell_type": "code",
   "execution_count": 1,
   "id": "ideal-eagle",
   "metadata": {},
   "outputs": [],
   "source": [
    "# list of heights\n",
    "data = [178,177,176,177,178.2,178,175,179,180,175,178.9,176.2,177,172.5,178,176.5]"
   ]
  },
  {
   "cell_type": "code",
   "execution_count": 2,
   "id": "directed-victor",
   "metadata": {},
   "outputs": [
    {
     "name": "stdout",
     "output_type": "stream",
     "text": [
      "Mean: 177.02\n"
     ]
    }
   ],
   "source": [
    "import numpy as np\n",
    "ht_mean = np.mean(data)\n",
    "print(f\"Mean: {round(ht_mean,2)}\")"
   ]
  },
  {
   "cell_type": "code",
   "execution_count": 3,
   "id": "drawn-cathedral",
   "metadata": {},
   "outputs": [
    {
     "name": "stdout",
     "output_type": "stream",
     "text": [
      "Median: 177.0\n"
     ]
    }
   ],
   "source": [
    "ht_median = np.median(data)\n",
    "print(f\"Median: {round(ht_median,2)}\")"
   ]
  },
  {
   "cell_type": "code",
   "execution_count": 4,
   "id": "patent-centre",
   "metadata": {},
   "outputs": [
    {
     "name": "stdout",
     "output_type": "stream",
     "text": [
      "Mode: 178\n"
     ]
    }
   ],
   "source": [
    "from statistics import mode\n",
    "ht_mode = mode(data)\n",
    "print(f\"Mode: {round(ht_mode,2)}\")"
   ]
  },
  {
   "cell_type": "markdown",
   "id": "central-fourth",
   "metadata": {},
   "source": [
    "#### Q4. Find the standard deviation for the given data:\n",
    "[178,177,176,177,178.2,178,175,179,180,175,178.9,176.2,177,172.5,178,176.5]"
   ]
  },
  {
   "cell_type": "code",
   "execution_count": 5,
   "id": "difficult-virtue",
   "metadata": {},
   "outputs": [
    {
     "name": "stdout",
     "output_type": "stream",
     "text": [
      "Standard Deviation : 1.789\n"
     ]
    }
   ],
   "source": [
    "import numpy as np\n",
    "data = [178,177,176,177,178.2,178,175,179,180,175,178.9,176.2,177,172.5,178,176.5]\n",
    "ht_std = np.std(data)\n",
    "print(f'Standard Deviation : {round(ht_std,3)}')"
   ]
  },
  {
   "cell_type": "markdown",
   "id": "searching-caribbean",
   "metadata": {},
   "source": [
    "#### Q5. How are measures of dispersion such as range, variance, and standard deviation used to describe the spread of a dataset? Provide an example."
   ]
  },
  {
   "cell_type": "markdown",
   "id": "found-visiting",
   "metadata": {},
   "source": [
    "**Range** \n",
    "\n",
    "Given a data set, the range can be defined as the difference between the maximum value and the minimum value.\n",
    "\n",
    "***Example:*** The weight of 50 person's data - mininum weight is 60kg and maximum is 100 kg. So the range of this dataset is (100-60) = 40 which represents the weight is widely spread across the data.\n",
    "\n",
    "**Variance:**\n",
    "\n",
    "The average squared deviation from the mean of the given data set is known as the variance. This measure of dispersion checks the spread of the data about the mean.\n",
    "\n",
    "***Example:*** From the above range example, suppose we get 85kg as mean. So if the variance is higher then it indicate that many persons are heavy weighted than the mean weight.\n",
    "\n",
    "\n",
    "**Standard Deviation:**\n",
    "\n",
    "The square root of the variance gives the standard deviation. Thus, the standard deviation also measures the variation of the data about the mean.\n",
    "\n",
    "***Example:*** Let take the same example, 85kg is our mean and suppose 2.3 is our statndard deviation. It means there are some weight which are higher or lower than mean wieght."
   ]
  },
  {
   "cell_type": "markdown",
   "id": "immediate-desperate",
   "metadata": {},
   "source": [
    "#### Q6. What is a Venn diagram?"
   ]
  },
  {
   "cell_type": "markdown",
   "id": "collaborative-disney",
   "metadata": {},
   "source": [
    "A Venn diagram uses overlapping circles or other shapes to illustrate the logical relationships between two or more sets of items. Often, they serve to graphically organize things, highlighting how the items are similar and different.\n",
    "\n",
    "Venn diagrams, also called Set diagrams or Logic diagrams, are widely used in mathematics, statistics, logic, teaching, linguistics, computer science and business."
   ]
  },
  {
   "cell_type": "markdown",
   "id": "modular-football",
   "metadata": {},
   "source": [
    "#### Q7. For the two given sets A = (2,3,4,5,6,7) & B = (0,2,6,8,10). \n",
    "**Find: (i) $A \\cap B$ (ii) $A \\cup B$**\n",
    "\n",
    "\n"
   ]
  },
  {
   "cell_type": "code",
   "execution_count": 6,
   "id": "handmade-volunteer",
   "metadata": {},
   "outputs": [],
   "source": [
    "A = {2,3,4,5,6,7} \n",
    "B = {0,2,6,8,10}"
   ]
  },
  {
   "cell_type": "code",
   "execution_count": 7,
   "id": "fifty-alcohol",
   "metadata": {},
   "outputs": [
    {
     "name": "stdout",
     "output_type": "stream",
     "text": [
      "A intersection with B : {2, 6}\n"
     ]
    }
   ],
   "source": [
    "print(f\"A intersection with B : {A.intersection(B)}\")"
   ]
  },
  {
   "cell_type": "code",
   "execution_count": 8,
   "id": "funny-spending",
   "metadata": {},
   "outputs": [
    {
     "name": "stdout",
     "output_type": "stream",
     "text": [
      "A union with B : {0, 2, 3, 4, 5, 6, 7, 8, 10}\n"
     ]
    }
   ],
   "source": [
    "print(f\"A union with B : {A.union(B)}\")"
   ]
  },
  {
   "cell_type": "markdown",
   "id": "processed-morning",
   "metadata": {},
   "source": [
    "#### Q8. What do you understand about skewness in data?"
   ]
  },
  {
   "cell_type": "markdown",
   "id": "aggregate-oliver",
   "metadata": {},
   "source": [
    "**Skewness** is a measure of the asymmetry of a distribution. \n",
    "\n",
    "A distribution is asymmetrical when its left and right side are not mirror images. A distribution can have right (or positive), left (or negative), or symmetrical(zero) skewness."
   ]
  },
  {
   "cell_type": "markdown",
   "id": "stretch-armstrong",
   "metadata": {},
   "source": [
    "#### Q9. If a data is right skewed then what will be the position of median with respect to mean?"
   ]
  },
  {
   "cell_type": "markdown",
   "id": "complimentary-processing",
   "metadata": {},
   "source": [
    "If a data is right skewed, then then median will be less then mean. Because in right skewed distribution, the position of long tail is on right side. The sequence for measures of central tendencey is **mode < median < mean** for right skewed distribution."
   ]
  },
  {
   "cell_type": "markdown",
   "id": "adolescent-bosnia",
   "metadata": {},
   "source": [
    "#### Q10. Explain the difference between covariance and correlation. How are these measures used in statistical analysis?\n",
    "\n"
   ]
  },
  {
   "cell_type": "markdown",
   "id": "swedish-desert",
   "metadata": {},
   "source": [
    "**Covariance:** Covariance is a measure of the joint variability of two random variables. Specifically, it measures the degree to which two variables deviate from their means in similar ways. The value of the covariance can range from negative infinity to positive infinity. A positive covariance indicates that the two variables tend to move in the same direction, while a negative covariance indicates that the two variables tend to move in opposite directions. A covariance of zero indicates that the two variables are uncorrelated.\n",
    "\n",
    "**Correlation:** Correlation is the strength of the linear relationship between two variables on a standardized scale. It  takes on values between -1 and 1, where a correlation of 1 indicates a perfect positive relationship, a correlation of -1 indicates a perfect negative relationship, and a correlation of 0 indicates no linear relationship.\n",
    "\n",
    "Correlation is widely used measure than covariance because of its standardized property."
   ]
  },
  {
   "cell_type": "markdown",
   "id": "rising-operator",
   "metadata": {},
   "source": [
    "#### Q11. What is the formula for calculating the sample mean? Provide an example calculation for a dataset."
   ]
  },
  {
   "cell_type": "markdown",
   "id": "gross-chuck",
   "metadata": {},
   "source": [
    "Sample Mean = sum of all the data/ total count of data\n",
    "\n",
    "Consider the below small dataset.\n",
    "\n",
    "data = 1, 2, 3, 4, 5\n",
    "\n",
    "mean = (1 + 2 + 3 + 4 + 5)/5\n",
    "mean = 15 / 5\n",
    "mean = 5\n",
    "\n",
    "The sample mean of the data is **5**."
   ]
  },
  {
   "cell_type": "markdown",
   "id": "figured-block",
   "metadata": {},
   "source": [
    "#### Q12. For a normal distribution data what is the relationship between its measure of central tendency?"
   ]
  },
  {
   "cell_type": "markdown",
   "id": "parliamentary-dealer",
   "metadata": {},
   "source": [
    "For a normal distribution, the three measures of central tendency (mean, median, and mode) have the same value. That means the distribution of data is symmetrical and all data spreaded evenly around the center point. The mean is arithmatic average of all data point, the median (which is the middle value when the data is arranged in order manner) is also the mean. And the mode (which is the most common value in the distribution) is also equal to the mean value.\n",
    "\n",
    "Therefor, in the normal distribution all three (mean, median, mode) are same value and represent the center of the distribution."
   ]
  },
  {
   "cell_type": "markdown",
   "id": "empty-decade",
   "metadata": {},
   "source": [
    "#### Q13. How is covariance different from correlation?"
   ]
  },
  {
   "cell_type": "markdown",
   "id": "bottom-calculator",
   "metadata": {},
   "source": [
    "**Covariance:**  It is a measure of the joint variability of two random variables.\n",
    "\n",
    "**Correlation:** It is the strength of the linear relationship between two variables on a standardized scale.\n",
    "\n",
    "In short, **covariance** measures the direction and strength of the linear relationship between two variables. It is unstandardized measure. **Correlation**, on the other hand, provides a standardized measure of the strength and direction of the linear relationship between two variables."
   ]
  },
  {
   "cell_type": "markdown",
   "id": "affecting-tracy",
   "metadata": {},
   "source": [
    "#### Q14. How do outliers affect measures of central tendency and dispersion? Provide an example."
   ]
  },
  {
   "cell_type": "markdown",
   "id": "royal-bolivia",
   "metadata": {},
   "source": [
    "An outlier is an observation that lies an abnormal distance from other values in a random sample from a population. It can play a measure role in calculating measures of central tendency and dispersion, \n",
    "\n",
    "Measures of central tendency such as the mean and mode can be skewed by outliers, while measures of dispersion such as range and standard deviation can be inflated or deflated by outliers.\n",
    "\n",
    "Let's see this with an example."
   ]
  },
  {
   "cell_type": "code",
   "execution_count": 9,
   "id": "assigned-newsletter",
   "metadata": {},
   "outputs": [],
   "source": [
    "data = [178,177,176,177,178.2,178,175,179,180,175,178.9,176.2,177,172.5,178,176.5]"
   ]
  },
  {
   "cell_type": "code",
   "execution_count": 10,
   "id": "later-newark",
   "metadata": {},
   "outputs": [],
   "source": [
    "import numpy as np\n",
    "from statistics import mode"
   ]
  },
  {
   "cell_type": "code",
   "execution_count": 11,
   "id": "thick-floor",
   "metadata": {},
   "outputs": [],
   "source": [
    "def calculate_ct_disp(data):\n",
    "    mean_ = np.mean(data)\n",
    "    median_ = np.median(data)\n",
    "    mode_ = mode(data)\n",
    "    std_ = np.std(data)\n",
    "    return mean_, median_, mode_, std_"
   ]
  },
  {
   "cell_type": "code",
   "execution_count": 12,
   "id": "amazing-blade",
   "metadata": {},
   "outputs": [
    {
     "name": "stdout",
     "output_type": "stream",
     "text": [
      "Mean: 177.01875\n",
      "Median: 177.0\n",
      "Mode: 178\n",
      "Standard Deviation: 1.79\n"
     ]
    }
   ],
   "source": [
    "m1, m2, m3, m4 = calculate_ct_disp(data)\n",
    "print(f'Mean: {m1}')\n",
    "print(f'Median: {m2}')\n",
    "print(f'Mode: {m3}')\n",
    "print(f'Standard Deviation: {round(m4,2)}')"
   ]
  },
  {
   "cell_type": "markdown",
   "id": "established-plant",
   "metadata": {},
   "source": [
    "Now let's add an outlier to our data, appending 500 as new value."
   ]
  },
  {
   "cell_type": "code",
   "execution_count": 13,
   "id": "neutral-premises",
   "metadata": {},
   "outputs": [],
   "source": [
    "data.append(500)"
   ]
  },
  {
   "cell_type": "code",
   "execution_count": 14,
   "id": "different-exemption",
   "metadata": {},
   "outputs": [
    {
     "name": "stdout",
     "output_type": "stream",
     "text": [
      "Mean with outler: 196.018\n",
      "Median with outler: 177.0\n",
      "Mode with outler: 178\n",
      "Standard Deviation with outler: 76.02\n"
     ]
    }
   ],
   "source": [
    "x1, x2, x3, x4 = calculate_ct_disp(data)\n",
    "print(f'Mean with outler: {round(x1,3)}')\n",
    "print(f'Median with outler: {x2}')\n",
    "print(f'Mode with outler: {x3}')\n",
    "print(f'Standard Deviation with outler: {round(x4,2)}')"
   ]
  },
  {
   "cell_type": "markdown",
   "id": "electric-color",
   "metadata": {},
   "source": [
    "Let's find the difference between two results."
   ]
  },
  {
   "cell_type": "code",
   "execution_count": 15,
   "id": "statutory-corpus",
   "metadata": {},
   "outputs": [
    {
     "name": "stdout",
     "output_type": "stream",
     "text": [
      "Mean Diff : 18.999\n",
      "Median Diff: 0.0\n",
      "Mode Diff: 0\n",
      "Standard Deviation Diff: 74.227\n"
     ]
    }
   ],
   "source": [
    "print(f'Mean Diff : {round(x1-m1,3)}')\n",
    "print(f'Median Diff: {x2-m2}')\n",
    "print(f'Mode Diff: {x3-m3}')\n",
    "print(f'Standard Deviation Diff: {round(x4-m4,3)}')"
   ]
  },
  {
   "cell_type": "markdown",
   "id": "raising-currency",
   "metadata": {},
   "source": [
    "From above observation, we can say that outliers have a very stong impact on **Mean** and **Standard Deviation**."
   ]
  }
 ],
 "metadata": {
  "kernelspec": {
   "display_name": "Python 3",
   "language": "python",
   "name": "python3"
  },
  "language_info": {
   "codemirror_mode": {
    "name": "ipython",
    "version": 3
   },
   "file_extension": ".py",
   "mimetype": "text/x-python",
   "name": "python",
   "nbconvert_exporter": "python",
   "pygments_lexer": "ipython3",
   "version": "3.8.2"
  }
 },
 "nbformat": 4,
 "nbformat_minor": 5
}
