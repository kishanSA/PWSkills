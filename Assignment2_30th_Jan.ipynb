{
 "cells": [
  {
   "cell_type": "markdown",
   "id": "color-mixer",
   "metadata": {},
   "source": [
    "## <u>Assignment 2 - 30th Jan</u>"
   ]
  },
  {
   "cell_type": "markdown",
   "id": "residential-absorption",
   "metadata": {},
   "source": [
    "#### Q_1. Write a program to accept percentage from the user and display the grde according to the following criteria."
   ]
  },
  {
   "cell_type": "code",
   "execution_count": 1,
   "id": "south-aurora",
   "metadata": {},
   "outputs": [
    {
     "name": "stdout",
     "output_type": "stream",
     "text": [
      "Enter the student's marks: 85\n",
      "\n",
      "The student get 'B' grade.\n"
     ]
    }
   ],
   "source": [
    "marks = ''\n",
    "marks = input(\"Enter the student's marks: \")\n",
    "\n",
    "flag= True\n",
    "while flag:\n",
    "    if marks.isnumeric():\n",
    "        flag=False\n",
    "    else:\n",
    "        marks=input(\"Enter the student's marks: \")      \n",
    "\n",
    "marks = int(marks)\n",
    "grade = ''\n",
    "if marks > 90:\n",
    "    grade='A'\n",
    "elif (80 < marks <=90):\n",
    "    grade='B'\n",
    "elif (60 <= marks <=80):\n",
    "    grade='C'\n",
    "else:\n",
    "    grade='D'\n",
    "            \n",
    "print(f\"\\nThe student get '{grade}' grade.\")"
   ]
  },
  {
   "cell_type": "markdown",
   "id": "blessed-somalia",
   "metadata": {},
   "source": [
    "#### Q_2. Write a program to accept the cost price of a bike and display the road tax to be paid according to the following criteria."
   ]
  },
  {
   "cell_type": "code",
   "execution_count": 2,
   "id": "enhanced-novel",
   "metadata": {},
   "outputs": [
    {
     "name": "stdout",
     "output_type": "stream",
     "text": [
      "Enter the Cost Price(in Rs) of a bike: 50000\n",
      "\n",
      "The Cost Price of Bike is Rs. 50000.0\n",
      "and the road tax will be Rs. 2500.0\n"
     ]
    }
   ],
   "source": [
    "bike_price = ''\n",
    "bike_price = input(\"Enter the Cost Price(in Rs) of a bike: \")\n",
    "\n",
    "flag= True\n",
    "while flag:\n",
    "    if bike_price.isnumeric():\n",
    "        flag=False\n",
    "    else:\n",
    "        bike_price = input(\"Enter the Cost Price(in Rs) of a bike: \")\n",
    "\n",
    "bike_price = float(bike_price)\n",
    "tax = 0.0\n",
    "\n",
    "if bike_price>100000:\n",
    "    tax = (bike_price*0.15)\n",
    "elif bike_price>50000:\n",
    "    tax = (bike_price*0.10)\n",
    "else:\n",
    "    tax = (bike_price*0.05)\n",
    "\n",
    "print(f\"\\nThe Cost Price of Bike is Rs. {bike_price}\\nand the road tax will be Rs. {tax}\")    "
   ]
  },
  {
   "cell_type": "markdown",
   "id": "supported-advisory",
   "metadata": {},
   "source": [
    "#### Q_3. Accept any city from the user and display monuments of theat city."
   ]
  },
  {
   "cell_type": "code",
   "execution_count": 3,
   "id": "waiting-parallel",
   "metadata": {},
   "outputs": [
    {
     "name": "stdout",
     "output_type": "stream",
     "text": [
      "Please enter City Name: delHI\n",
      "\n",
      "City: Delhi\n",
      "Monument: Red Fort\n"
     ]
    }
   ],
   "source": [
    "city = input(\"Please enter City Name: \")\n",
    "\n",
    "monument =''\n",
    "if city.lower() == 'delhi':\n",
    "    monument = 'Red Fort'\n",
    "elif city.lower() == 'agra':\n",
    "    monument = 'Taj Mahal'\n",
    "elif city.lower() == 'jaipur':\n",
    "    monument = 'Jal Mahal'\n",
    "else:\n",
    "    print(f\"There is no monument listed for city '{city}'.\")\n",
    "\n",
    "if monument:\n",
    "    print(f\"\\nCity: {city.title()}\\nMonument: {monument}\")\n"
   ]
  },
  {
   "cell_type": "markdown",
   "id": "super-howard",
   "metadata": {},
   "source": [
    "#### Q_4. Check how many times a given number can be divided by 3 before it is less than or equal to 10."
   ]
  },
  {
   "cell_type": "code",
   "execution_count": 4,
   "id": "brave-mixture",
   "metadata": {},
   "outputs": [
    {
     "name": "stdout",
     "output_type": "stream",
     "text": [
      "Enter a Number: 99\n",
      "3 times: 99 is divided by 3 before it is less than or equal to 10.\n"
     ]
    }
   ],
   "source": [
    "num = input(\"Enter a Number: \")\n",
    "\n",
    "flag= True\n",
    "\n",
    "while flag:\n",
    "    if num.isnumeric():\n",
    "        flag=False\n",
    "    else:\n",
    "        num = input(\"Enter a Number: \")\n",
    "        \n",
    "num = int(num)\n",
    "original = num\n",
    "count = 0\n",
    "\n",
    "while not num<=10:\n",
    "    count +=1\n",
    "    num /=3\n",
    "    \n",
    "print(f\"{count} times: {original} is divided by 3 before it is less than or equal to 10.\")    "
   ]
  },
  {
   "cell_type": "markdown",
   "id": "uniform-distance",
   "metadata": {},
   "source": [
    "#### Q_5. Why and When to use while loop in python give a detailed description with example.\n",
    "\n",
    "* While loop is use when you don't know how many times the code of block will execute.\n",
    "* It will check the condition before running the loop.\n",
    "* If you want user to continuously asking for input, you can use while loop.\n",
    "\n",
    "Below is the example of it."
   ]
  },
  {
   "cell_type": "code",
   "execution_count": 5,
   "id": "automatic-installation",
   "metadata": {},
   "outputs": [
    {
     "name": "stdout",
     "output_type": "stream",
     "text": [
      "Enter a Number: one\n",
      "Enter a Number: two\n",
      "Enter a Number: three\n",
      "Enter a Number: 4\n",
      "While Loop ended.\n"
     ]
    }
   ],
   "source": [
    "num = input(\"Enter a Number: \")\n",
    "\n",
    "flag= True\n",
    "\n",
    "while flag:\n",
    "    if num.isnumeric():\n",
    "        flag=False\n",
    "    else:\n",
    "        num = input(\"Enter a Number: \")\n",
    "else:\n",
    "    print(\"While Loop ended.\")\n"
   ]
  },
  {
   "cell_type": "markdown",
   "id": "accompanied-amendment",
   "metadata": {},
   "source": [
    "#### Q_6. Use nested while loop to print 3 different pattern."
   ]
  },
  {
   "cell_type": "code",
   "execution_count": 6,
   "id": "exciting-maple",
   "metadata": {},
   "outputs": [
    {
     "name": "stdout",
     "output_type": "stream",
     "text": [
      "Enter number of rows : 5\n",
      "Pattern 1\n",
      "* \n",
      "* * \n",
      "* * * \n",
      "* * * * \n",
      "* * * * * \n",
      "\n",
      "Pattern 2\n",
      "* * * * * \n",
      "* * * * \n",
      "* * * \n",
      "* * \n",
      "* \n",
      "\n",
      "Pattern 3\n",
      "    *\n",
      "   ***\n",
      "  *****\n",
      " *******\n",
      "*********\n"
     ]
    }
   ],
   "source": [
    "n = int(input('Enter number of rows : '))\n",
    "\n",
    "i=1\n",
    "\n",
    "print(\"Pattern 1\")\n",
    "while i <= n:   \n",
    "    j=1\n",
    "    while j<=i:\n",
    "        print(\"*\", end=\" \")\n",
    "        j +=1\n",
    "    print(\"\")\n",
    "    i +=1\n",
    "    \n",
    "i=1\n",
    "print(\"\\nPattern 2\")    \n",
    "while i <= n:   \n",
    "    j=n\n",
    "    while j>=i:\n",
    "        print(\"*\", end=\" \")\n",
    "        j -=1\n",
    "    print(\"\")\n",
    "    i +=1\n",
    "    \n",
    "i=1\n",
    "print(\"\\nPattern 3\")    \n",
    "while i <= n:   \n",
    "    j=n-1\n",
    "     \n",
    "    while j>=i:\n",
    "        print(\" \", end=\"\")\n",
    "        j -=1\n",
    "        \n",
    "    st = (2*j)\n",
    "    while st >=0:\n",
    "        print(\"*\", end='')    \n",
    "        st -=1\n",
    "    print()\n",
    "    i +=1"
   ]
  },
  {
   "cell_type": "markdown",
   "id": "compact-authorization",
   "metadata": {},
   "source": [
    "#### Q_7. Reverse a while loop to display numbers from 10 to 1."
   ]
  },
  {
   "cell_type": "code",
   "execution_count": 7,
   "id": "weird-segment",
   "metadata": {},
   "outputs": [
    {
     "name": "stdout",
     "output_type": "stream",
     "text": [
      "10\n",
      "9\n",
      "8\n",
      "7\n",
      "6\n",
      "5\n",
      "4\n",
      "3\n",
      "2\n",
      "1\n"
     ]
    }
   ],
   "source": [
    "n = 10\n",
    "\n",
    "while n > 0:\n",
    "    print(n)\n",
    "    n -=1"
   ]
  }
 ],
 "metadata": {
  "kernelspec": {
   "display_name": "Python 3",
   "language": "python",
   "name": "python3"
  },
  "language_info": {
   "codemirror_mode": {
    "name": "ipython",
    "version": 3
   },
   "file_extension": ".py",
   "mimetype": "text/x-python",
   "name": "python",
   "nbconvert_exporter": "python",
   "pygments_lexer": "ipython3",
   "version": "3.8.2"
  }
 },
 "nbformat": 4,
 "nbformat_minor": 5
}
