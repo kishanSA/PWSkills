{
 "cells": [
  {
   "cell_type": "markdown",
   "id": "pleased-colorado",
   "metadata": {},
   "source": [
    "## <u>Assignment 7 - 06th Feb</u>"
   ]
  },
  {
   "cell_type": "markdown",
   "id": "false-australian",
   "metadata": {},
   "source": [
    "#### Q1. Create a function which will take a list as an argument and return the product of all the numbers after creating a flat list. \n",
    "\n",
    "**Use the below-given list as an argument for your function.**\n",
    "\n",
    "list1 = [1,2,3,4, [44,55,66, True], False, (34,56,78,89,34), {1,2,3,3,2,1}, {1:34, \"key2\": [55, 67, 78, 89], 4: (45,\n",
    "22, 61, 34)}, [56, 'data science'], 'Machine Learning']\n",
    "\n",
    "<div class=\"alert alert-block alert-info\">\n",
    "    <b>Note:</b> you must extract numeric keys and values of the dictionary also.\n",
    "</div>"
   ]
  },
  {
   "cell_type": "code",
   "execution_count": 1,
   "id": "wound-product",
   "metadata": {},
   "outputs": [],
   "source": [
    "list1 = [1,2,3,4, [44,55,66, True], False, (34,56,78,89,34), {1,2,3,3,2,1}, \n",
    "         {1:34, \"key2\": [55, 67, 78, 89], 4: (45, 22, 61, 34)}, \n",
    "         [56, 'data science'], 'Machine Learning']"
   ]
  },
  {
   "cell_type": "code",
   "execution_count": 2,
   "id": "under-eating",
   "metadata": {},
   "outputs": [
    {
     "name": "stdout",
     "output_type": "stream",
     "text": [
      "Flatten list of integer:\n",
      "[1, 2, 3, 4, 44, 55, 66, 34, 56, 78, 89, 34, 1, 2, 3, 1, 4, 34, 55, 67, 78, 89, 45, 22, 61, 34, 56]\n"
     ]
    }
   ],
   "source": [
    "int_list = []\n",
    "\n",
    "# helper function to convert seq into integer value\n",
    "def convert(seq):\n",
    "    for i in seq:\n",
    "        if str(i).isnumeric():\n",
    "            int_list.append(i)\n",
    "\n",
    "# function to create flatten list \n",
    "def flatten(lst):\n",
    "    for item in lst:\n",
    "        if type(item) in (list, tuple, set):\n",
    "            convert(item)            \n",
    "        elif type(item) == int:\n",
    "            int_list.append(item)\n",
    "        elif type(item) == dict:\n",
    "            convert(list(item.keys()))\n",
    "            for v in item.values():\n",
    "                if type(v) == int:\n",
    "                    int_list.append(v)\n",
    "                elif type(v) in (list, tuple, set):\n",
    "                    convert(v)\n",
    "\n",
    "flatten(list1)\n",
    "\n",
    "print(\"Flatten list of integer:\")\n",
    "print(int_list)"
   ]
  },
  {
   "cell_type": "code",
   "execution_count": 3,
   "id": "rural-province",
   "metadata": {},
   "outputs": [
    {
     "name": "stdout",
     "output_type": "stream",
     "text": [
      "Product of flatten list: 4134711838987085478833841242112000\n"
     ]
    }
   ],
   "source": [
    "from functools import reduce\n",
    "\n",
    "product = reduce(lambda x, y : x*y, int_list)\n",
    "\n",
    "print(f\"Product of flatten list: {product}\")"
   ]
  },
  {
   "cell_type": "markdown",
   "id": "elect-concentrate",
   "metadata": {},
   "source": [
    "#### Q2. Write a python program for encrypting a message sent to you by your friend. The logic of encryption should be such that, for a the output should be z. For b, the output should be y. For c, the output should be x respectively. Also, the whitespace should be replaced with a dollar sign. Keep the punctuation marks unchanged.\n",
    "\n",
    "Input Sentence: I want to become a Data Scientist.\n",
    "\n",
    "Encrypt the above input sentence using the program you just created.\n",
    "\n",
    "<div class=\"alert alert-block alert-info\">\n",
    "    <b>Note:</b> Convert the given input sentence into lowercase before encrypting. The final output should be\n",
    "lowercase\n",
    "</div>"
   ]
  },
  {
   "cell_type": "code",
   "execution_count": 4,
   "id": "active-associate",
   "metadata": {},
   "outputs": [],
   "source": [
    "# create list of alphabets from 'a' to 'z'\n",
    "alphabets = [chr(c) for c in range(ord('a'), ord('z')+1)]"
   ]
  },
  {
   "cell_type": "code",
   "execution_count": 5,
   "id": "registered-channel",
   "metadata": {},
   "outputs": [],
   "source": [
    "# create dictionary for alphabets\n",
    "d = dict(zip(alphabets, alphabets[::-1]))"
   ]
  },
  {
   "cell_type": "code",
   "execution_count": 6,
   "id": "figured-catering",
   "metadata": {},
   "outputs": [],
   "source": [
    "# function to encrypt message\n",
    "new_msg = []\n",
    "def encrypt_message(msg):    \n",
    "    msg = msg.lower()\n",
    "    for c in msg:\n",
    "        if c == '.':\n",
    "            new_msg.append(c)\n",
    "        else:\n",
    "            new_msg.append(d.get(c, '$'))\n",
    "    \n",
    "    return new_msg\n",
    "\n",
    "message = \"I want to become a Data Scientist.\"\n",
    "\n",
    "enc = encrypt_message(message)"
   ]
  },
  {
   "cell_type": "code",
   "execution_count": 7,
   "id": "extraordinary-playback",
   "metadata": {},
   "outputs": [
    {
     "name": "stdout",
     "output_type": "stream",
     "text": [
      " Original message: I want to become a Data Scientist.\n",
      "Encrypted message: r$dzmg$gl$yvxlnv$z$wzgz$hxrvmgrhg.\n"
     ]
    }
   ],
   "source": [
    "print(f\" Original message: {message}\")\n",
    "print(f\"Encrypted message: {''.join(enc)}\")"
   ]
  }
 ],
 "metadata": {
  "kernelspec": {
   "display_name": "Python 3",
   "language": "python",
   "name": "python3"
  },
  "language_info": {
   "codemirror_mode": {
    "name": "ipython",
    "version": 3
   },
   "file_extension": ".py",
   "mimetype": "text/x-python",
   "name": "python",
   "nbconvert_exporter": "python",
   "pygments_lexer": "ipython3",
   "version": "3.8.2"
  }
 },
 "nbformat": 4,
 "nbformat_minor": 5
}
