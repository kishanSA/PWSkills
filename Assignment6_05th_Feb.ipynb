{
 "cells": [
  {
   "cell_type": "markdown",
   "id": "earlier-remedy",
   "metadata": {},
   "source": [
    "## <u>Assignment 6 - 05th Feb</u>"
   ]
  },
  {
   "cell_type": "markdown",
   "id": "guided-assistant",
   "metadata": {},
   "source": [
    "#### Q1. Explain Class and Object with respect to Object-Oriented Programming. Give a suitable example."
   ]
  },
  {
   "cell_type": "markdown",
   "id": "median-producer",
   "metadata": {},
   "source": [
    "* Classes are used to create user-defined data structures. Classes define functions called methods, which identify the behaviors and actions that an object created from the class can perform with its data. You can say like class is a blueprint/structure.\n",
    "\n",
    "\n",
    "* Object is an instance of a Class and it contain real data."
   ]
  },
  {
   "cell_type": "code",
   "execution_count": 1,
   "id": "assumed-nicaragua",
   "metadata": {},
   "outputs": [
    {
     "name": "stdout",
     "output_type": "stream",
     "text": [
      "Name: Jimmy, Age: 9\n",
      "Name: Jenny, Age: 6\n"
     ]
    }
   ],
   "source": [
    "# creating Animal class\n",
    "\n",
    "class Animal:\n",
    "    # class constructure\n",
    "    def __init__(self, name, age):\n",
    "        self.name = name\n",
    "        self.age = age\n",
    "        \n",
    "# object/instance of class\n",
    "dog1 = Animal(\"Jimmy\", 9)\n",
    "dog2 = Animal(\"Jenny\", 6)\n",
    "\n",
    "print(f\"Name: {dog1.name}, Age: {dog1.age}\")\n",
    "print(f\"Name: {dog2.name}, Age: {dog2.age}\")\n",
    "        "
   ]
  },
  {
   "cell_type": "markdown",
   "id": "heated-sound",
   "metadata": {},
   "source": [
    "#### Q2. Name the four pillars of OOPs."
   ]
  },
  {
   "cell_type": "markdown",
   "id": "conventional-mapping",
   "metadata": {},
   "source": [
    "The four pillars of OOPs are as follows:\n",
    "\n",
    "1. Inheritance\n",
    "2. Polymorphism\n",
    "3. Abstraction\n",
    "4. Encapsulation"
   ]
  },
  {
   "cell_type": "markdown",
   "id": "descending-support",
   "metadata": {},
   "source": [
    "#### Q3. Explain why the __init__() function is used. Give a suitable example."
   ]
  },
  {
   "cell_type": "markdown",
   "id": "young-frequency",
   "metadata": {},
   "source": [
    "* `__init()__` function is nothing but a constructer of a class. \n",
    "* Constructors are used to initializing the object's state.\n",
    "* The task of constructors is to initialize(assign values) to the data members of the class when an object of the class is created. \n",
    "* Like methods, a constructor also contains a collection of statements(i.e. instructions) that are executed at the time of Object creation.\n",
    "* It is run as soon as an object of a class is instantiated. The method is useful to do any initialization you want to do with your object."
   ]
  },
  {
   "cell_type": "code",
   "execution_count": 2,
   "id": "official-linux",
   "metadata": {},
   "outputs": [
    {
     "name": "stdout",
     "output_type": "stream",
     "text": [
      "Hello, my name is Krish\n"
     ]
    }
   ],
   "source": [
    "# A Sample class with init method\n",
    "class Person:\n",
    " \n",
    "    # init method\n",
    "    def __init__(self, name):\n",
    "        self.name = name\n",
    " \n",
    "    # sample method\n",
    "    def hello(self):\n",
    "        print('Hello, my name is', self.name)\n",
    " \n",
    "\n",
    "p = Person('Krish')\n",
    "p.hello()"
   ]
  },
  {
   "cell_type": "markdown",
   "id": "cloudy-sample",
   "metadata": {},
   "source": [
    "#### Q4. Why self is used in OOPs?\n"
   ]
  },
  {
   "cell_type": "markdown",
   "id": "personalized-stomach",
   "metadata": {},
   "source": [
    "* `self` represents the instance of the class. By using the \"self\" we can access the attributes and methods of the class in python. It binds the attributes with the given arguments.\n",
    "* The reason to use `self` is because Python does not use the @ syntax to refer to instance attributes. \n",
    "* Python decided to do methods in a way that makes the instance to which the method belongs be passed automatically, but not received automatically: the first parameter of methods is the instance the method is called on."
   ]
  },
  {
   "cell_type": "markdown",
   "id": "separate-plumbing",
   "metadata": {},
   "source": [
    "#### Q5. What is inheritance? Give an example for each type of inheritance."
   ]
  },
  {
   "cell_type": "markdown",
   "id": "hindu-brain",
   "metadata": {},
   "source": [
    "* `inheritance` is a mechanism that allows you to create a hierarchy of classes that share a set of properties and methods by deriving a class from another class. Inheritance is the capability of one class to derive or inherit the properties from another class. \n",
    "\n",
    "There are 5 different types of inheritance in Python."
   ]
  },
  {
   "cell_type": "markdown",
   "id": "small-spirituality",
   "metadata": {},
   "source": [
    "**1. Single Inheritance:** \n",
    "Single inheritance enables a derived class to inherit properties from a single parent class"
   ]
  },
  {
   "cell_type": "code",
   "execution_count": 3,
   "id": "checked-labor",
   "metadata": {},
   "outputs": [
    {
     "name": "stdout",
     "output_type": "stream",
     "text": [
      "I am from Parent class.\n",
      "I am from Child class.\n"
     ]
    }
   ],
   "source": [
    "# Single Inheritance example\n",
    "\n",
    "# Base class\n",
    "class Parent:\n",
    "    def f1(self):\n",
    "        print(\"I am from Parent class.\")\n",
    "        \n",
    "\n",
    "# Derived class\n",
    "class Child(Parent):\n",
    "    def f2(self):\n",
    "        print(\"I am from Child class.\")\n",
    "        \n",
    "\n",
    "obj = Child()\n",
    "obj.f1()\n",
    "obj.f2()"
   ]
  },
  {
   "cell_type": "markdown",
   "id": "thirty-milwaukee",
   "metadata": {},
   "source": [
    "**2.Multiple Inheritance:**\n",
    "When a class can be derived from more than one base class this type of inheritance is called multiple inheritances. In multiple inheritances, all the features of the base classes are inherited into the derived class."
   ]
  },
  {
   "cell_type": "code",
   "execution_count": 4,
   "id": "ready-costa",
   "metadata": {},
   "outputs": [
    {
     "name": "stdout",
     "output_type": "stream",
     "text": [
      "My mother is Jennifer and father is Robert.\n"
     ]
    }
   ],
   "source": [
    "# Multiple Inheritance example\n",
    "\n",
    "# Base class1\n",
    "class Mother:\n",
    "    mother_name = \"\"\n",
    " \n",
    "    def mother(self):\n",
    "        print(self.mother_name)\n",
    " \n",
    "# Base class2\n",
    "class Father:\n",
    "    father_name = \"\"\n",
    " \n",
    "    def father(self):\n",
    "        print(self.father_name)\n",
    " \n",
    "\n",
    "# Derived class\n",
    "class Child(Mother, Father):\n",
    "    def parents(self):\n",
    "        print(f\"My mother is {self.mother_name} and father is {self.father_name}.\")\n",
    "\n",
    " \n",
    "c1 = Child()\n",
    "c1.father_name = \"Robert\"\n",
    "c1.mother_name = \"Jennifer\"\n",
    "c1.parents()"
   ]
  },
  {
   "cell_type": "markdown",
   "id": "matched-medicaid",
   "metadata": {},
   "source": [
    "**3.Multilevel Inheritance :**\n",
    "In multilevel inheritance, features of the base class and the derived class are further inherited into the new derived class. "
   ]
  },
  {
   "cell_type": "code",
   "execution_count": 5,
   "id": "stuffed-victor",
   "metadata": {},
   "outputs": [
    {
     "name": "stdout",
     "output_type": "stream",
     "text": [
      "Child Name : William\n",
      "Father Name : Charles III\n",
      "Grandfather Name : Philip\n"
     ]
    }
   ],
   "source": [
    "# Multilevel Inheritance example\n",
    "\n",
    "# Base class\n",
    "class Grandfather:\n",
    "    def __init__(self, grandfathername):\n",
    "        self.grandfathername = grandfathername\n",
    " \n",
    "\n",
    "# Intermediate class\n",
    "class Father(Grandfather):\n",
    "    def __init__(self, fathername, grandfathername):\n",
    "        self.fathername = fathername\n",
    " \n",
    "        # invoking constructor of Grandfather class\n",
    "        Grandfather.__init__(self, grandfathername)\n",
    " \n",
    "# Derived class\n",
    "class Child(Father):\n",
    "    def __init__(self, childname, fathername, grandfathername):\n",
    "        self.childname = childname\n",
    " \n",
    "        # invoking constructor of Father class\n",
    "        Father.__init__(self, fathername, grandfathername)\n",
    " \n",
    "    def print_name(self):\n",
    "        print(\"Child Name :\", self.childname)\n",
    "        print(\"Father Name :\", self.fathername)\n",
    "        print('Grandfather Name :', self.grandfathername)\n",
    "       \n",
    " \n",
    "#  Driver code\n",
    "c1 = Child('William', 'Charles III', 'Philip')\n",
    "c1.print_name()"
   ]
  },
  {
   "cell_type": "markdown",
   "id": "frozen-finding",
   "metadata": {},
   "source": [
    "**4.Hierarchical Inheritance:**\n",
    "When more than one derived class are created from a single base this type of inheritance is called hierarchical inheritance."
   ]
  },
  {
   "cell_type": "code",
   "execution_count": 6,
   "id": "final-defendant",
   "metadata": {},
   "outputs": [
    {
     "name": "stdout",
     "output_type": "stream",
     "text": [
      "This function is in parent class.\n",
      "This function is in child 1.\n",
      "This function is in parent class.\n",
      "This function is in child 2.\n"
     ]
    }
   ],
   "source": [
    "# Hierarchical Inheritance example\n",
    " \n",
    "# Base class\n",
    "class Parent:\n",
    "    def func1(self):\n",
    "        print(\"This function is in parent class.\")\n",
    " \n",
    "class Child1(Parent):\n",
    "    def func2(self):\n",
    "        print(\"This function is in child 1.\")\n",
    " \n",
    "class Child2(Parent):\n",
    "    def func3(self):\n",
    "        print(\"This function is in child 2.\")\n",
    " \n",
    "object1 = Child1()\n",
    "object2 = Child2()\n",
    "\n",
    "object1.func1()\n",
    "object1.func2()\n",
    "\n",
    "object2.func1()\n",
    "object2.func3()"
   ]
  },
  {
   "cell_type": "markdown",
   "id": "labeled-facial",
   "metadata": {},
   "source": [
    "**5.Hybrid Inheritance:**\n",
    "Inheritance consisting of multiple types of inheritance is called hybrid inheritance."
   ]
  },
  {
   "cell_type": "code",
   "execution_count": 7,
   "id": "traditional-subcommittee",
   "metadata": {},
   "outputs": [
    {
     "name": "stdout",
     "output_type": "stream",
     "text": [
      "This function is in school.\n",
      "This function is in student 1. \n"
     ]
    }
   ],
   "source": [
    "# Hybrid Inheritance example\n",
    "  \n",
    "class School:\n",
    "    def func1(self):\n",
    "        print(\"This function is in school.\")\n",
    " \n",
    " \n",
    "class Student1(School):\n",
    "    def func2(self):\n",
    "        print(\"This function is in student 1. \")\n",
    " \n",
    " \n",
    "class Student2(School):\n",
    "    def func3(self):\n",
    "        print(\"This function is in student 2.\")\n",
    " \n",
    " \n",
    "class Student3(Student1, School):\n",
    "    def func4(self):\n",
    "        print(\"This function is in student 3.\")\n",
    " \n",
    " \n",
    "st = Student3()\n",
    "st.func1()\n",
    "st.func2()"
   ]
  }
 ],
 "metadata": {
  "kernelspec": {
   "display_name": "Python 3",
   "language": "python",
   "name": "python3"
  },
  "language_info": {
   "codemirror_mode": {
    "name": "ipython",
    "version": 3
   },
   "file_extension": ".py",
   "mimetype": "text/x-python",
   "name": "python",
   "nbconvert_exporter": "python",
   "pygments_lexer": "ipython3",
   "version": "3.8.2"
  }
 },
 "nbformat": 4,
 "nbformat_minor": 5
}
