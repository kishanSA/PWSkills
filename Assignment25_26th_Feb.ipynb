{
 "cells": [
  {
   "cell_type": "markdown",
   "id": "gentle-framework",
   "metadata": {},
   "source": [
    "## <u> Assignment 25 - 26th Feb </u>"
   ]
  },
  {
   "cell_type": "markdown",
   "id": "simplified-comedy",
   "metadata": {},
   "source": [
    "#### Consider the below code to answer further questions:"
   ]
  },
  {
   "cell_type": "code",
   "execution_count": 1,
   "id": "close-centre",
   "metadata": {},
   "outputs": [],
   "source": [
    "import numpy as np\n",
    "\n",
    "list_ = ['1' , '2', '3', '4', '5']\n",
    "\n",
    "array_list = np.array(object = list_)"
   ]
  },
  {
   "cell_type": "markdown",
   "id": "electrical-record",
   "metadata": {},
   "source": [
    "#### Q1. Is there any difference in the data type of variables list_ and array_list? If there is then write a code to print the data types of both the variables."
   ]
  },
  {
   "cell_type": "markdown",
   "id": "trained-february",
   "metadata": {},
   "source": [
    "First let's print the datatype of both variables."
   ]
  },
  {
   "cell_type": "code",
   "execution_count": 2,
   "id": "hawaiian-message",
   "metadata": {},
   "outputs": [
    {
     "name": "stdout",
     "output_type": "stream",
     "text": [
      "list_ variable's type : <class 'list'>\n",
      "array_list variable's type : <class 'numpy.ndarray'>\n"
     ]
    }
   ],
   "source": [
    "print(f\"list_ variable's type : {type(list_)}\")\n",
    "print(f\"array_list variable's type : {type(array_list)}\")"
   ]
  },
  {
   "cell_type": "markdown",
   "id": "automatic-couple",
   "metadata": {},
   "source": [
    "You can see that there is a difference in the data type of both variables `list_` and `array_list`. The variable `list_` is the Python's list object containing string data in it. While `array_list` is the Numpy array of strings. Both of them contain string values."
   ]
  },
  {
   "cell_type": "markdown",
   "id": "current-muslim",
   "metadata": {},
   "source": [
    "#### Q2. Write a code to print the data type of each and every element of both the variables list_ and arra_list."
   ]
  },
  {
   "cell_type": "code",
   "execution_count": 3,
   "id": "utility-ladder",
   "metadata": {},
   "outputs": [
    {
     "name": "stdout",
     "output_type": "stream",
     "text": [
      "Element Value: 1, datatype : <class 'str'>\n",
      "Element Value: 2, datatype : <class 'str'>\n",
      "Element Value: 3, datatype : <class 'str'>\n",
      "Element Value: 4, datatype : <class 'str'>\n",
      "Element Value: 5, datatype : <class 'str'>\n"
     ]
    }
   ],
   "source": [
    "# list_\n",
    "\n",
    "for l in list_:\n",
    "    print(f\"Element Value: {l}, datatype : {type(l)}\")"
   ]
  },
  {
   "cell_type": "code",
   "execution_count": 4,
   "id": "broadband-canon",
   "metadata": {},
   "outputs": [
    {
     "name": "stdout",
     "output_type": "stream",
     "text": [
      "Element Value: 1, datatype : <class 'numpy.str_'>\n",
      "Element Value: 2, datatype : <class 'numpy.str_'>\n",
      "Element Value: 3, datatype : <class 'numpy.str_'>\n",
      "Element Value: 4, datatype : <class 'numpy.str_'>\n",
      "Element Value: 5, datatype : <class 'numpy.str_'>\n"
     ]
    }
   ],
   "source": [
    "# array_list\n",
    "\n",
    "for al in array_list:\n",
    "    print(f\"Element Value: {al}, datatype : {type(al)}\")"
   ]
  },
  {
   "cell_type": "markdown",
   "id": "approximate-export",
   "metadata": {},
   "source": [
    "#### Q3. Considering the following changes in the variable, array_list:"
   ]
  },
  {
   "cell_type": "code",
   "execution_count": 5,
   "id": "stable-filling",
   "metadata": {},
   "outputs": [],
   "source": [
    "array_list = np.array(object = list_, dtype = int)"
   ]
  },
  {
   "cell_type": "code",
   "execution_count": 6,
   "id": "unnecessary-riding",
   "metadata": {},
   "outputs": [
    {
     "data": {
      "text/plain": [
       "array([1, 2, 3, 4, 5])"
      ]
     },
     "execution_count": 6,
     "metadata": {},
     "output_type": "execute_result"
    }
   ],
   "source": [
    "array_list"
   ]
  },
  {
   "cell_type": "markdown",
   "id": "blocked-reunion",
   "metadata": {},
   "source": [
    "#### Will there be any difference in the data type of the elements present in both the variables, list_ and arra_list? If so then print the data types of each and every element present in both the variables, list_ and arra_list."
   ]
  },
  {
   "cell_type": "markdown",
   "id": "instrumental-silence",
   "metadata": {},
   "source": [
    "Yes. There will be difference in datatypes of both variable `list_` and `array_list`.\n",
    "\n",
    "We converted datatype of `array_list` elements from `str` to `int`. But for the `list_1` has still `str` datatype for its elements. Let's print them both."
   ]
  },
  {
   "cell_type": "code",
   "execution_count": 7,
   "id": "legendary-midnight",
   "metadata": {},
   "outputs": [
    {
     "name": "stdout",
     "output_type": "stream",
     "text": [
      "Element Value: 1, datatype : <class 'str'>\n",
      "Element Value: 2, datatype : <class 'str'>\n",
      "Element Value: 3, datatype : <class 'str'>\n",
      "Element Value: 4, datatype : <class 'str'>\n",
      "Element Value: 5, datatype : <class 'str'>\n"
     ]
    }
   ],
   "source": [
    "for l in list_:\n",
    "    print(f\"Element Value: {l}, datatype : {type(l)}\")"
   ]
  },
  {
   "cell_type": "code",
   "execution_count": 8,
   "id": "ignored-monday",
   "metadata": {},
   "outputs": [
    {
     "name": "stdout",
     "output_type": "stream",
     "text": [
      "Element Value: 1, datatype : <class 'numpy.int32'>\n",
      "Element Value: 2, datatype : <class 'numpy.int32'>\n",
      "Element Value: 3, datatype : <class 'numpy.int32'>\n",
      "Element Value: 4, datatype : <class 'numpy.int32'>\n",
      "Element Value: 5, datatype : <class 'numpy.int32'>\n"
     ]
    }
   ],
   "source": [
    "for al in array_list:\n",
    "    print(f\"Element Value: {al}, datatype : {type(al)}\")"
   ]
  },
  {
   "cell_type": "markdown",
   "id": "running-insider",
   "metadata": {},
   "source": [
    "#### Consider the below code to answer further questions:"
   ]
  },
  {
   "cell_type": "code",
   "execution_count": 9,
   "id": "general-completion",
   "metadata": {},
   "outputs": [],
   "source": [
    "import numpy as np\n",
    "num_list = [ [1, 2, 3], [4, 5, 6]]\n",
    "\n",
    "num_array = np.array(object = num_list)"
   ]
  },
  {
   "cell_type": "code",
   "execution_count": 10,
   "id": "consolidated-buffer",
   "metadata": {},
   "outputs": [
    {
     "data": {
      "text/plain": [
       "array([[1, 2, 3],\n",
       "       [4, 5, 6]])"
      ]
     },
     "execution_count": 10,
     "metadata": {},
     "output_type": "execute_result"
    }
   ],
   "source": [
    "num_array"
   ]
  },
  {
   "cell_type": "markdown",
   "id": "compressed-thousand",
   "metadata": {},
   "source": [
    "#### Q4. Write a code to find the following characteristics of variable, num_array:\n",
    "(i) shape\n",
    "\n",
    "(ii) size"
   ]
  },
  {
   "cell_type": "code",
   "execution_count": 11,
   "id": "improved-london",
   "metadata": {},
   "outputs": [
    {
     "name": "stdout",
     "output_type": "stream",
     "text": [
      "Shape of 'num_array' is (2, 3)\n",
      "It has 2 rows and 3 columns.\n"
     ]
    }
   ],
   "source": [
    "# shape of the num_array variable\n",
    "sh = num_array.shape\n",
    "print(f\"Shape of 'num_array' is {sh}\\nIt has {sh[0]} rows and {sh[1]} columns.\")"
   ]
  },
  {
   "cell_type": "code",
   "execution_count": 12,
   "id": "hollow-diversity",
   "metadata": {},
   "outputs": [
    {
     "name": "stdout",
     "output_type": "stream",
     "text": [
      "Size of 'num_array' is 6\n"
     ]
    }
   ],
   "source": [
    "# size of the num_array variable\n",
    "sz = num_array.size\n",
    "print(f\"Size of 'num_array' is {sz}\")"
   ]
  },
  {
   "cell_type": "markdown",
   "id": "classified-toolbox",
   "metadata": {},
   "source": [
    "#### Q5. Write a code to create numpy array of 3*3 matrix containing zeros only, using a numpy array creation function.\n",
    "\n",
    "[Hint: The size of the array will be 9 and the shape will be (3,3).]\n"
   ]
  },
  {
   "cell_type": "code",
   "execution_count": 13,
   "id": "material-hollow",
   "metadata": {},
   "outputs": [
    {
     "data": {
      "text/plain": [
       "array([[0., 0., 0.],\n",
       "       [0., 0., 0.],\n",
       "       [0., 0., 0.]])"
      ]
     },
     "execution_count": 13,
     "metadata": {},
     "output_type": "execute_result"
    }
   ],
   "source": [
    "z_arr = np.zeros((3,3))\n",
    "z_arr"
   ]
  },
  {
   "cell_type": "code",
   "execution_count": 14,
   "id": "increased-catalog",
   "metadata": {},
   "outputs": [
    {
     "name": "stdout",
     "output_type": "stream",
     "text": [
      "Size of 'z_arr' is 9\n",
      "Shape of 'z_arr' is (3, 3)\n"
     ]
    }
   ],
   "source": [
    "# print size and shape of 'z_arr' variable\n",
    "\n",
    "print(f\"Size of 'z_arr' is {z_arr.size}\")\n",
    "print(f\"Shape of 'z_arr' is {z_arr.shape}\")"
   ]
  },
  {
   "cell_type": "markdown",
   "id": "trained-hunger",
   "metadata": {},
   "source": [
    "#### Q6. Create an identity matrix of shape (5,5) using numpy functions?\n",
    "\n",
    "[Hint: An identity matrix is a matrix containing 1 diagonally and other elements will be 0.]"
   ]
  },
  {
   "cell_type": "code",
   "execution_count": 15,
   "id": "egyptian-gateway",
   "metadata": {},
   "outputs": [
    {
     "data": {
      "text/plain": [
       "array([[1., 0., 0., 0., 0.],\n",
       "       [0., 1., 0., 0., 0.],\n",
       "       [0., 0., 1., 0., 0.],\n",
       "       [0., 0., 0., 1., 0.],\n",
       "       [0., 0., 0., 0., 1.]])"
      ]
     },
     "execution_count": 15,
     "metadata": {},
     "output_type": "execute_result"
    }
   ],
   "source": [
    "e_arr = np.eye(5)\n",
    "e_arr"
   ]
  },
  {
   "cell_type": "code",
   "execution_count": null,
   "id": "outside-czech",
   "metadata": {},
   "outputs": [],
   "source": []
  }
 ],
 "metadata": {
  "kernelspec": {
   "display_name": "Python 3",
   "language": "python",
   "name": "python3"
  },
  "language_info": {
   "codemirror_mode": {
    "name": "ipython",
    "version": 3
   },
   "file_extension": ".py",
   "mimetype": "text/x-python",
   "name": "python",
   "nbconvert_exporter": "python",
   "pygments_lexer": "ipython3",
   "version": "3.8.2"
  }
 },
 "nbformat": 4,
 "nbformat_minor": 5
}
